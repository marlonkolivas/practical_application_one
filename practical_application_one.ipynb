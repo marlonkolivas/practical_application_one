{
 "cells": [
  {
   "cell_type": "markdown",
   "metadata": {
    "id": "CcUT6Fon_qRE"
   },
   "source": [
    "### Required Assignment 5.1: Will the Customer Accept the Coupon?\n",
    "\n",
    "**Context**\n",
    "\n",
    "Imagine driving through town and a coupon is delivered to your cell phone for a restaurant near where you are driving. Would you accept that coupon and take a short detour to the restaurant? Would you accept the coupon but use it on a subsequent trip? Would you ignore the coupon entirely? What if the coupon was for a bar instead of a restaurant? What about a coffee house? Would you accept a bar coupon with a minor passenger in the car? What about if it was just you and your partner in the car? Would weather impact the rate of acceptance? What about the time of day?\n",
    "\n",
    "Obviously, proximity to the business is a factor on whether the coupon is delivered to the driver or not, but what are the factors that determine whether a driver accepts the coupon once it is delivered to them? How would you determine whether a driver is likely to accept a coupon?\n",
    "\n",
    "**Overview**\n",
    "\n",
    "The goal of this project is to use what you know about visualizations and probability distributions to distinguish between customers who accepted a driving coupon versus those that did not.\n",
    "\n",
    "**Data**\n",
    "\n",
    "This data comes to us from the UCI Machine Learning repository and was collected via a survey on Amazon Mechanical Turk. The survey describes different driving scenarios including the destination, current time, weather, passenger, etc., and then ask the person whether he will accept the coupon if he is the driver. Answers that the user will drive there ‘right away’ or ‘later before the coupon expires’ are labeled as ‘Y = 1’ and answers ‘no, I do not want the coupon’ are labeled as ‘Y = 0’.  There are five different types of coupons -- less expensive restaurants (under \\$20), coffee houses, carry out & take away, bar, and more expensive restaurants (\\$20 - $50)."
   ]
  },
  {
   "cell_type": "markdown",
   "metadata": {
    "id": "1wORvMBJ_qRF"
   },
   "source": [
    "**Deliverables**\n",
    "\n",
    "Your final product should be a brief report that highlights the differences between customers who did and did not accept the coupons.  To explore the data you will utilize your knowledge of plotting, statistical summaries, and visualization using Python. You will publish your findings in a public facing github repository as your first portfolio piece.\n",
    "\n",
    "\n",
    "\n"
   ]
  },
  {
   "cell_type": "markdown",
   "metadata": {
    "id": "pG6_Ym6q_qRG"
   },
   "source": [
    "### Data Description\n",
    "Keep in mind that these values mentioned below are average values.\n",
    "\n",
    "The attributes of this data set include:\n",
    "1. User attributes\n",
    "    -  Gender: male, female\n",
    "    -  Age: below 21, 21 to 25, 26 to 30, etc.\n",
    "    -  Marital Status: single, married partner, unmarried partner, or widowed\n",
    "    -  Number of children: 0, 1, or more than 1\n",
    "    -  Education: high school, bachelors degree, associates degree, or graduate degree\n",
    "    -  Occupation: architecture & engineering, business & financial, etc.\n",
    "    -  Annual income: less than \\\\$12500, \\\\$12500 - \\\\$24999, \\\\$25000 - \\\\$37499, etc.\n",
    "    -  Number of times that he/she goes to a bar: 0, less than 1, 1 to 3, 4 to 8 or greater than 8\n",
    "    -  Number of times that he/she buys takeaway food: 0, less than 1, 1 to 3, 4 to 8 or greater\n",
    "    than 8\n",
    "    -  Number of times that he/she goes to a coffee house: 0, less than 1, 1 to 3, 4 to 8 or\n",
    "    greater than 8\n",
    "    -  Number of times that he/she eats at a restaurant with average expense less than \\\\$20 per\n",
    "    person: 0, less than 1, 1 to 3, 4 to 8 or greater than 8\n",
    "    -  Number of times that he/she goes to a bar: 0, less than 1, 1 to 3, 4 to 8 or greater than 8\n",
    "    \n",
    "\n",
    "2. Contextual attributes\n",
    "    - Driving destination: home, work, or no urgent destination\n",
    "    - Location of user, coupon and destination: we provide a map to show the geographical\n",
    "    location of the user, destination, and the venue, and we mark the distance between each\n",
    "    two places with time of driving. The user can see whether the venue is in the same\n",
    "    direction as the destination.\n",
    "    - Weather: sunny, rainy, or snowy\n",
    "    - Temperature: 30F, 55F, or 80F\n",
    "    - Time: 10AM, 2PM, or 6PM\n",
    "    - Passenger: alone, partner, kid(s), or friend(s)\n",
    "\n",
    "\n",
    "3. Coupon attributes\n",
    "    - time before it expires: 2 hours or one day"
   ]
  },
  {
   "cell_type": "code",
   "execution_count": 91,
   "metadata": {
    "id": "dzNoP3o__qRG"
   },
   "outputs": [],
   "source": [
    "import matplotlib.pyplot as plt\n",
    "import seaborn as sns\n",
    "import pandas as pd\n",
    "import numpy as np\n",
    "import plotly.express as px\n",
    "from sklearn.preprocessing import LabelEncoder"
   ]
  },
  {
   "cell_type": "markdown",
   "metadata": {
    "id": "Ct8pI1uE_qRG"
   },
   "source": [
    "### Problems\n",
    "\n",
    "Use the prompts below to get started with your data analysis.  \n",
    "\n",
    "1. Read in the `coupons.csv` file.\n",
    "\n",
    "\n"
   ]
  },
  {
   "cell_type": "code",
   "execution_count": 92,
   "metadata": {
    "id": "X0vbffYg_qRH"
   },
   "outputs": [],
   "source": [
    "data = pd.read_csv('data/coupons.csv')"
   ]
  },
  {
   "cell_type": "code",
   "execution_count": 93,
   "metadata": {
    "id": "TXofQ_DF_qRH",
    "outputId": "2fc96a2c-1112-4b54-f24f-dbb9bc88abfb"
   },
   "outputs": [
    {
     "data": {
      "text/html": [
       "<div>\n",
       "<style scoped>\n",
       "    .dataframe tbody tr th:only-of-type {\n",
       "        vertical-align: middle;\n",
       "    }\n",
       "\n",
       "    .dataframe tbody tr th {\n",
       "        vertical-align: top;\n",
       "    }\n",
       "\n",
       "    .dataframe thead th {\n",
       "        text-align: right;\n",
       "    }\n",
       "</style>\n",
       "<table border=\"1\" class=\"dataframe\">\n",
       "  <thead>\n",
       "    <tr style=\"text-align: right;\">\n",
       "      <th></th>\n",
       "      <th>destination</th>\n",
       "      <th>passanger</th>\n",
       "      <th>weather</th>\n",
       "      <th>temperature</th>\n",
       "      <th>time</th>\n",
       "      <th>coupon</th>\n",
       "      <th>expiration</th>\n",
       "      <th>gender</th>\n",
       "      <th>age</th>\n",
       "      <th>maritalStatus</th>\n",
       "      <th>...</th>\n",
       "      <th>CoffeeHouse</th>\n",
       "      <th>CarryAway</th>\n",
       "      <th>RestaurantLessThan20</th>\n",
       "      <th>Restaurant20To50</th>\n",
       "      <th>toCoupon_GEQ5min</th>\n",
       "      <th>toCoupon_GEQ15min</th>\n",
       "      <th>toCoupon_GEQ25min</th>\n",
       "      <th>direction_same</th>\n",
       "      <th>direction_opp</th>\n",
       "      <th>Y</th>\n",
       "    </tr>\n",
       "  </thead>\n",
       "  <tbody>\n",
       "    <tr>\n",
       "      <th>0</th>\n",
       "      <td>No Urgent Place</td>\n",
       "      <td>Alone</td>\n",
       "      <td>Sunny</td>\n",
       "      <td>55</td>\n",
       "      <td>2PM</td>\n",
       "      <td>Restaurant(&lt;20)</td>\n",
       "      <td>1d</td>\n",
       "      <td>Female</td>\n",
       "      <td>21</td>\n",
       "      <td>Unmarried partner</td>\n",
       "      <td>...</td>\n",
       "      <td>never</td>\n",
       "      <td>NaN</td>\n",
       "      <td>4~8</td>\n",
       "      <td>1~3</td>\n",
       "      <td>1</td>\n",
       "      <td>0</td>\n",
       "      <td>0</td>\n",
       "      <td>0</td>\n",
       "      <td>1</td>\n",
       "      <td>1</td>\n",
       "    </tr>\n",
       "    <tr>\n",
       "      <th>1</th>\n",
       "      <td>No Urgent Place</td>\n",
       "      <td>Friend(s)</td>\n",
       "      <td>Sunny</td>\n",
       "      <td>80</td>\n",
       "      <td>10AM</td>\n",
       "      <td>Coffee House</td>\n",
       "      <td>2h</td>\n",
       "      <td>Female</td>\n",
       "      <td>21</td>\n",
       "      <td>Unmarried partner</td>\n",
       "      <td>...</td>\n",
       "      <td>never</td>\n",
       "      <td>NaN</td>\n",
       "      <td>4~8</td>\n",
       "      <td>1~3</td>\n",
       "      <td>1</td>\n",
       "      <td>0</td>\n",
       "      <td>0</td>\n",
       "      <td>0</td>\n",
       "      <td>1</td>\n",
       "      <td>0</td>\n",
       "    </tr>\n",
       "    <tr>\n",
       "      <th>2</th>\n",
       "      <td>No Urgent Place</td>\n",
       "      <td>Friend(s)</td>\n",
       "      <td>Sunny</td>\n",
       "      <td>80</td>\n",
       "      <td>10AM</td>\n",
       "      <td>Carry out &amp; Take away</td>\n",
       "      <td>2h</td>\n",
       "      <td>Female</td>\n",
       "      <td>21</td>\n",
       "      <td>Unmarried partner</td>\n",
       "      <td>...</td>\n",
       "      <td>never</td>\n",
       "      <td>NaN</td>\n",
       "      <td>4~8</td>\n",
       "      <td>1~3</td>\n",
       "      <td>1</td>\n",
       "      <td>1</td>\n",
       "      <td>0</td>\n",
       "      <td>0</td>\n",
       "      <td>1</td>\n",
       "      <td>1</td>\n",
       "    </tr>\n",
       "    <tr>\n",
       "      <th>3</th>\n",
       "      <td>No Urgent Place</td>\n",
       "      <td>Friend(s)</td>\n",
       "      <td>Sunny</td>\n",
       "      <td>80</td>\n",
       "      <td>2PM</td>\n",
       "      <td>Coffee House</td>\n",
       "      <td>2h</td>\n",
       "      <td>Female</td>\n",
       "      <td>21</td>\n",
       "      <td>Unmarried partner</td>\n",
       "      <td>...</td>\n",
       "      <td>never</td>\n",
       "      <td>NaN</td>\n",
       "      <td>4~8</td>\n",
       "      <td>1~3</td>\n",
       "      <td>1</td>\n",
       "      <td>1</td>\n",
       "      <td>0</td>\n",
       "      <td>0</td>\n",
       "      <td>1</td>\n",
       "      <td>0</td>\n",
       "    </tr>\n",
       "    <tr>\n",
       "      <th>4</th>\n",
       "      <td>No Urgent Place</td>\n",
       "      <td>Friend(s)</td>\n",
       "      <td>Sunny</td>\n",
       "      <td>80</td>\n",
       "      <td>2PM</td>\n",
       "      <td>Coffee House</td>\n",
       "      <td>1d</td>\n",
       "      <td>Female</td>\n",
       "      <td>21</td>\n",
       "      <td>Unmarried partner</td>\n",
       "      <td>...</td>\n",
       "      <td>never</td>\n",
       "      <td>NaN</td>\n",
       "      <td>4~8</td>\n",
       "      <td>1~3</td>\n",
       "      <td>1</td>\n",
       "      <td>1</td>\n",
       "      <td>0</td>\n",
       "      <td>0</td>\n",
       "      <td>1</td>\n",
       "      <td>0</td>\n",
       "    </tr>\n",
       "  </tbody>\n",
       "</table>\n",
       "<p>5 rows × 26 columns</p>\n",
       "</div>"
      ],
      "text/plain": [
       "       destination  passanger weather  temperature  time  \\\n",
       "0  No Urgent Place      Alone   Sunny           55   2PM   \n",
       "1  No Urgent Place  Friend(s)   Sunny           80  10AM   \n",
       "2  No Urgent Place  Friend(s)   Sunny           80  10AM   \n",
       "3  No Urgent Place  Friend(s)   Sunny           80   2PM   \n",
       "4  No Urgent Place  Friend(s)   Sunny           80   2PM   \n",
       "\n",
       "                  coupon expiration  gender age      maritalStatus  ...  \\\n",
       "0        Restaurant(<20)         1d  Female  21  Unmarried partner  ...   \n",
       "1           Coffee House         2h  Female  21  Unmarried partner  ...   \n",
       "2  Carry out & Take away         2h  Female  21  Unmarried partner  ...   \n",
       "3           Coffee House         2h  Female  21  Unmarried partner  ...   \n",
       "4           Coffee House         1d  Female  21  Unmarried partner  ...   \n",
       "\n",
       "   CoffeeHouse CarryAway RestaurantLessThan20 Restaurant20To50  \\\n",
       "0        never       NaN                  4~8              1~3   \n",
       "1        never       NaN                  4~8              1~3   \n",
       "2        never       NaN                  4~8              1~3   \n",
       "3        never       NaN                  4~8              1~3   \n",
       "4        never       NaN                  4~8              1~3   \n",
       "\n",
       "  toCoupon_GEQ5min toCoupon_GEQ15min toCoupon_GEQ25min direction_same  \\\n",
       "0                1                 0                 0              0   \n",
       "1                1                 0                 0              0   \n",
       "2                1                 1                 0              0   \n",
       "3                1                 1                 0              0   \n",
       "4                1                 1                 0              0   \n",
       "\n",
       "  direction_opp  Y  \n",
       "0             1  1  \n",
       "1             1  0  \n",
       "2             1  1  \n",
       "3             1  0  \n",
       "4             1  0  \n",
       "\n",
       "[5 rows x 26 columns]"
      ]
     },
     "execution_count": 93,
     "metadata": {},
     "output_type": "execute_result"
    }
   ],
   "source": [
    "data.head()"
   ]
  },
  {
   "cell_type": "markdown",
   "metadata": {
    "id": "GcDs78ZH_qRH"
   },
   "source": [
    "2. Investigate the dataset for missing or problematic data."
   ]
  },
  {
   "cell_type": "code",
   "execution_count": 94,
   "metadata": {
    "id": "6CwL6oWj_qRH"
   },
   "outputs": [
    {
     "name": "stdout",
     "output_type": "stream",
     "text": [
      "Duplicate rows:\n",
      " 0 \n",
      "\n"
     ]
    }
   ],
   "source": [
    "# Deleting duplicated rows.\n",
    "data.drop_duplicates(inplace=True)\n",
    "print(\"Duplicate rows:\\n\", data.duplicated().sum(), \"\\n\")"
   ]
  },
  {
   "cell_type": "code",
   "execution_count": 95,
   "metadata": {},
   "outputs": [
    {
     "name": "stdout",
     "output_type": "stream",
     "text": [
      "destination                 0\n",
      "passanger                   0\n",
      "weather                     0\n",
      "temperature                 0\n",
      "time                        0\n",
      "coupon                      0\n",
      "expiration                  0\n",
      "gender                      0\n",
      "age                         0\n",
      "maritalStatus               0\n",
      "has_children                0\n",
      "education                   0\n",
      "occupation                  0\n",
      "income                      0\n",
      "car                     12502\n",
      "Bar                       107\n",
      "CoffeeHouse               217\n",
      "CarryAway                 150\n",
      "RestaurantLessThan20      129\n",
      "Restaurant20To50          189\n",
      "toCoupon_GEQ5min            0\n",
      "toCoupon_GEQ15min           0\n",
      "toCoupon_GEQ25min           0\n",
      "direction_same              0\n",
      "direction_opp               0\n",
      "Y                           0\n",
      "dtype: int64\n"
     ]
    }
   ],
   "source": [
    "# Checking if there are missing values in the dataframe.\n",
    "print(data.isnull().sum())"
   ]
  },
  {
   "cell_type": "markdown",
   "metadata": {
    "id": "bSdVSpYB_qRH"
   },
   "source": [
    "3. Decide what to do about your missing data -- drop, replace, other..."
   ]
  },
  {
   "cell_type": "code",
   "execution_count": 96,
   "metadata": {
    "id": "tyvoAC5F_qRI"
   },
   "outputs": [
    {
     "name": "stdout",
     "output_type": "stream",
     "text": [
      "destination             0\n",
      "passanger               0\n",
      "weather                 0\n",
      "temperature             0\n",
      "time                    0\n",
      "coupon                  0\n",
      "expiration              0\n",
      "gender                  0\n",
      "age                     0\n",
      "maritalStatus           0\n",
      "has_children            0\n",
      "education               0\n",
      "occupation              0\n",
      "income                  0\n",
      "Bar                     0\n",
      "CoffeeHouse             0\n",
      "CarryAway               0\n",
      "RestaurantLessThan20    0\n",
      "Restaurant20To50        0\n",
      "toCoupon_GEQ5min        0\n",
      "toCoupon_GEQ15min       0\n",
      "toCoupon_GEQ25min       0\n",
      "direction_same          0\n",
      "direction_opp           0\n",
      "Y                       0\n",
      "dtype: int64\n"
     ]
    }
   ],
   "source": [
    "# Dropping car column\n",
    "new_data = data.drop(columns=['car'])\n",
    "\n",
    "#Fill missing value with mode\n",
    "new_data['Bar'] = new_data['Bar'].fillna(new_data['Bar'].mode()[0])\n",
    "new_data['CoffeeHouse'] = new_data['CoffeeHouse'].fillna(new_data['CoffeeHouse'].mode()[0])\n",
    "new_data['CarryAway'] = new_data['CarryAway'].fillna(new_data['CarryAway'].mode()[0])\n",
    "new_data['RestaurantLessThan20'] = new_data['RestaurantLessThan20'].fillna(new_data['RestaurantLessThan20'].mode()[0])\n",
    "new_data['Restaurant20To50'] = new_data['Restaurant20To50'].fillna(new_data['Restaurant20To50'].mode()[0])\n",
    "\n",
    "# Checking if there is still remaining missing values\n",
    "print(new_data.isnull().sum())"
   ]
  },
  {
   "cell_type": "markdown",
   "metadata": {
    "id": "YE6oJbXd_qRI"
   },
   "source": [
    "4. What proportion of the total observations chose to accept the coupon?\n",
    "\n"
   ]
  },
  {
   "cell_type": "code",
   "execution_count": 97,
   "metadata": {
    "id": "86GGqBTv_qRI"
   },
   "outputs": [
    {
     "name": "stdout",
     "output_type": "stream",
     "text": [
      "Proportion of observations that accepted the coupon: 0.57\n"
     ]
    }
   ],
   "source": [
    "proportion_accepted = new_data['Y'].value_counts(normalize=True)[1]\n",
    "print(f\"Proportion of observations that accepted the coupon: {proportion_accepted:.2f}\")"
   ]
  },
  {
   "cell_type": "markdown",
   "metadata": {
    "id": "vflz0DoE_qRI"
   },
   "source": [
    "5. Use a bar plot to visualize the `coupon` column."
   ]
  },
  {
   "cell_type": "code",
   "execution_count": 98,
   "metadata": {
    "id": "dHFh3E45_qRI"
   },
   "outputs": [
    {
     "data": {
      "application/vnd.plotly.v1+json": {
       "config": {
        "plotlyServerURL": "https://plot.ly"
       },
       "data": [
        {
         "hovertemplate": "Coupon Type=%{x}<br>Count=%{y}<extra></extra>",
         "legendgroup": "Coffee House",
         "marker": {
          "color": "#636efa",
          "pattern": {
           "shape": ""
          }
         },
         "name": "Coffee House",
         "orientation": "v",
         "showlegend": true,
         "textposition": "auto",
         "type": "bar",
         "x": [
          "Coffee House"
         ],
         "xaxis": "x",
         "y": {
          "bdata": "lQ8=",
          "dtype": "i2"
         },
         "yaxis": "y"
        },
        {
         "hovertemplate": "Coupon Type=%{x}<br>Count=%{y}<extra></extra>",
         "legendgroup": "Restaurant(<20)",
         "marker": {
          "color": "#EF553B",
          "pattern": {
           "shape": ""
          }
         },
         "name": "Restaurant(<20)",
         "orientation": "v",
         "showlegend": true,
         "textposition": "auto",
         "type": "bar",
         "x": [
          "Restaurant(<20)"
         ],
         "xaxis": "x",
         "y": {
          "bdata": "2wo=",
          "dtype": "i2"
         },
         "yaxis": "y"
        },
        {
         "hovertemplate": "Coupon Type=%{x}<br>Count=%{y}<extra></extra>",
         "legendgroup": "Carry out & Take away",
         "marker": {
          "color": "#00cc96",
          "pattern": {
           "shape": ""
          }
         },
         "name": "Carry out & Take away",
         "orientation": "v",
         "showlegend": true,
         "textposition": "auto",
         "type": "bar",
         "x": [
          "Carry out & Take away"
         ],
         "xaxis": "x",
         "y": {
          "bdata": "KAk=",
          "dtype": "i2"
         },
         "yaxis": "y"
        },
        {
         "hovertemplate": "Coupon Type=%{x}<br>Count=%{y}<extra></extra>",
         "legendgroup": "Bar",
         "marker": {
          "color": "#ab63fa",
          "pattern": {
           "shape": ""
          }
         },
         "name": "Bar",
         "orientation": "v",
         "showlegend": true,
         "textposition": "auto",
         "type": "bar",
         "x": [
          "Bar"
         ],
         "xaxis": "x",
         "y": {
          "bdata": "2gc=",
          "dtype": "i2"
         },
         "yaxis": "y"
        },
        {
         "hovertemplate": "Coupon Type=%{x}<br>Count=%{y}<extra></extra>",
         "legendgroup": "Restaurant(20-50)",
         "marker": {
          "color": "#FFA15A",
          "pattern": {
           "shape": ""
          }
         },
         "name": "Restaurant(20-50)",
         "orientation": "v",
         "showlegend": true,
         "textposition": "auto",
         "type": "bar",
         "x": [
          "Restaurant(20-50)"
         ],
         "xaxis": "x",
         "y": {
          "bdata": "0AU=",
          "dtype": "i2"
         },
         "yaxis": "y"
        }
       ],
       "layout": {
        "barmode": "relative",
        "legend": {
         "title": {
          "text": "Coupon Type"
         },
         "tracegroupgap": 0
        },
        "showlegend": false,
        "template": {
         "data": {
          "bar": [
           {
            "error_x": {
             "color": "#2a3f5f"
            },
            "error_y": {
             "color": "#2a3f5f"
            },
            "marker": {
             "line": {
              "color": "#E5ECF6",
              "width": 0.5
             },
             "pattern": {
              "fillmode": "overlay",
              "size": 10,
              "solidity": 0.2
             }
            },
            "type": "bar"
           }
          ],
          "barpolar": [
           {
            "marker": {
             "line": {
              "color": "#E5ECF6",
              "width": 0.5
             },
             "pattern": {
              "fillmode": "overlay",
              "size": 10,
              "solidity": 0.2
             }
            },
            "type": "barpolar"
           }
          ],
          "carpet": [
           {
            "aaxis": {
             "endlinecolor": "#2a3f5f",
             "gridcolor": "white",
             "linecolor": "white",
             "minorgridcolor": "white",
             "startlinecolor": "#2a3f5f"
            },
            "baxis": {
             "endlinecolor": "#2a3f5f",
             "gridcolor": "white",
             "linecolor": "white",
             "minorgridcolor": "white",
             "startlinecolor": "#2a3f5f"
            },
            "type": "carpet"
           }
          ],
          "choropleth": [
           {
            "colorbar": {
             "outlinewidth": 0,
             "ticks": ""
            },
            "type": "choropleth"
           }
          ],
          "contour": [
           {
            "colorbar": {
             "outlinewidth": 0,
             "ticks": ""
            },
            "colorscale": [
             [
              0,
              "#0d0887"
             ],
             [
              0.1111111111111111,
              "#46039f"
             ],
             [
              0.2222222222222222,
              "#7201a8"
             ],
             [
              0.3333333333333333,
              "#9c179e"
             ],
             [
              0.4444444444444444,
              "#bd3786"
             ],
             [
              0.5555555555555556,
              "#d8576b"
             ],
             [
              0.6666666666666666,
              "#ed7953"
             ],
             [
              0.7777777777777778,
              "#fb9f3a"
             ],
             [
              0.8888888888888888,
              "#fdca26"
             ],
             [
              1,
              "#f0f921"
             ]
            ],
            "type": "contour"
           }
          ],
          "contourcarpet": [
           {
            "colorbar": {
             "outlinewidth": 0,
             "ticks": ""
            },
            "type": "contourcarpet"
           }
          ],
          "heatmap": [
           {
            "colorbar": {
             "outlinewidth": 0,
             "ticks": ""
            },
            "colorscale": [
             [
              0,
              "#0d0887"
             ],
             [
              0.1111111111111111,
              "#46039f"
             ],
             [
              0.2222222222222222,
              "#7201a8"
             ],
             [
              0.3333333333333333,
              "#9c179e"
             ],
             [
              0.4444444444444444,
              "#bd3786"
             ],
             [
              0.5555555555555556,
              "#d8576b"
             ],
             [
              0.6666666666666666,
              "#ed7953"
             ],
             [
              0.7777777777777778,
              "#fb9f3a"
             ],
             [
              0.8888888888888888,
              "#fdca26"
             ],
             [
              1,
              "#f0f921"
             ]
            ],
            "type": "heatmap"
           }
          ],
          "histogram": [
           {
            "marker": {
             "pattern": {
              "fillmode": "overlay",
              "size": 10,
              "solidity": 0.2
             }
            },
            "type": "histogram"
           }
          ],
          "histogram2d": [
           {
            "colorbar": {
             "outlinewidth": 0,
             "ticks": ""
            },
            "colorscale": [
             [
              0,
              "#0d0887"
             ],
             [
              0.1111111111111111,
              "#46039f"
             ],
             [
              0.2222222222222222,
              "#7201a8"
             ],
             [
              0.3333333333333333,
              "#9c179e"
             ],
             [
              0.4444444444444444,
              "#bd3786"
             ],
             [
              0.5555555555555556,
              "#d8576b"
             ],
             [
              0.6666666666666666,
              "#ed7953"
             ],
             [
              0.7777777777777778,
              "#fb9f3a"
             ],
             [
              0.8888888888888888,
              "#fdca26"
             ],
             [
              1,
              "#f0f921"
             ]
            ],
            "type": "histogram2d"
           }
          ],
          "histogram2dcontour": [
           {
            "colorbar": {
             "outlinewidth": 0,
             "ticks": ""
            },
            "colorscale": [
             [
              0,
              "#0d0887"
             ],
             [
              0.1111111111111111,
              "#46039f"
             ],
             [
              0.2222222222222222,
              "#7201a8"
             ],
             [
              0.3333333333333333,
              "#9c179e"
             ],
             [
              0.4444444444444444,
              "#bd3786"
             ],
             [
              0.5555555555555556,
              "#d8576b"
             ],
             [
              0.6666666666666666,
              "#ed7953"
             ],
             [
              0.7777777777777778,
              "#fb9f3a"
             ],
             [
              0.8888888888888888,
              "#fdca26"
             ],
             [
              1,
              "#f0f921"
             ]
            ],
            "type": "histogram2dcontour"
           }
          ],
          "mesh3d": [
           {
            "colorbar": {
             "outlinewidth": 0,
             "ticks": ""
            },
            "type": "mesh3d"
           }
          ],
          "parcoords": [
           {
            "line": {
             "colorbar": {
              "outlinewidth": 0,
              "ticks": ""
             }
            },
            "type": "parcoords"
           }
          ],
          "pie": [
           {
            "automargin": true,
            "type": "pie"
           }
          ],
          "scatter": [
           {
            "fillpattern": {
             "fillmode": "overlay",
             "size": 10,
             "solidity": 0.2
            },
            "type": "scatter"
           }
          ],
          "scatter3d": [
           {
            "line": {
             "colorbar": {
              "outlinewidth": 0,
              "ticks": ""
             }
            },
            "marker": {
             "colorbar": {
              "outlinewidth": 0,
              "ticks": ""
             }
            },
            "type": "scatter3d"
           }
          ],
          "scattercarpet": [
           {
            "marker": {
             "colorbar": {
              "outlinewidth": 0,
              "ticks": ""
             }
            },
            "type": "scattercarpet"
           }
          ],
          "scattergeo": [
           {
            "marker": {
             "colorbar": {
              "outlinewidth": 0,
              "ticks": ""
             }
            },
            "type": "scattergeo"
           }
          ],
          "scattergl": [
           {
            "marker": {
             "colorbar": {
              "outlinewidth": 0,
              "ticks": ""
             }
            },
            "type": "scattergl"
           }
          ],
          "scattermap": [
           {
            "marker": {
             "colorbar": {
              "outlinewidth": 0,
              "ticks": ""
             }
            },
            "type": "scattermap"
           }
          ],
          "scattermapbox": [
           {
            "marker": {
             "colorbar": {
              "outlinewidth": 0,
              "ticks": ""
             }
            },
            "type": "scattermapbox"
           }
          ],
          "scatterpolar": [
           {
            "marker": {
             "colorbar": {
              "outlinewidth": 0,
              "ticks": ""
             }
            },
            "type": "scatterpolar"
           }
          ],
          "scatterpolargl": [
           {
            "marker": {
             "colorbar": {
              "outlinewidth": 0,
              "ticks": ""
             }
            },
            "type": "scatterpolargl"
           }
          ],
          "scatterternary": [
           {
            "marker": {
             "colorbar": {
              "outlinewidth": 0,
              "ticks": ""
             }
            },
            "type": "scatterternary"
           }
          ],
          "surface": [
           {
            "colorbar": {
             "outlinewidth": 0,
             "ticks": ""
            },
            "colorscale": [
             [
              0,
              "#0d0887"
             ],
             [
              0.1111111111111111,
              "#46039f"
             ],
             [
              0.2222222222222222,
              "#7201a8"
             ],
             [
              0.3333333333333333,
              "#9c179e"
             ],
             [
              0.4444444444444444,
              "#bd3786"
             ],
             [
              0.5555555555555556,
              "#d8576b"
             ],
             [
              0.6666666666666666,
              "#ed7953"
             ],
             [
              0.7777777777777778,
              "#fb9f3a"
             ],
             [
              0.8888888888888888,
              "#fdca26"
             ],
             [
              1,
              "#f0f921"
             ]
            ],
            "type": "surface"
           }
          ],
          "table": [
           {
            "cells": {
             "fill": {
              "color": "#EBF0F8"
             },
             "line": {
              "color": "white"
             }
            },
            "header": {
             "fill": {
              "color": "#C8D4E3"
             },
             "line": {
              "color": "white"
             }
            },
            "type": "table"
           }
          ]
         },
         "layout": {
          "annotationdefaults": {
           "arrowcolor": "#2a3f5f",
           "arrowhead": 0,
           "arrowwidth": 1
          },
          "autotypenumbers": "strict",
          "coloraxis": {
           "colorbar": {
            "outlinewidth": 0,
            "ticks": ""
           }
          },
          "colorscale": {
           "diverging": [
            [
             0,
             "#8e0152"
            ],
            [
             0.1,
             "#c51b7d"
            ],
            [
             0.2,
             "#de77ae"
            ],
            [
             0.3,
             "#f1b6da"
            ],
            [
             0.4,
             "#fde0ef"
            ],
            [
             0.5,
             "#f7f7f7"
            ],
            [
             0.6,
             "#e6f5d0"
            ],
            [
             0.7,
             "#b8e186"
            ],
            [
             0.8,
             "#7fbc41"
            ],
            [
             0.9,
             "#4d9221"
            ],
            [
             1,
             "#276419"
            ]
           ],
           "sequential": [
            [
             0,
             "#0d0887"
            ],
            [
             0.1111111111111111,
             "#46039f"
            ],
            [
             0.2222222222222222,
             "#7201a8"
            ],
            [
             0.3333333333333333,
             "#9c179e"
            ],
            [
             0.4444444444444444,
             "#bd3786"
            ],
            [
             0.5555555555555556,
             "#d8576b"
            ],
            [
             0.6666666666666666,
             "#ed7953"
            ],
            [
             0.7777777777777778,
             "#fb9f3a"
            ],
            [
             0.8888888888888888,
             "#fdca26"
            ],
            [
             1,
             "#f0f921"
            ]
           ],
           "sequentialminus": [
            [
             0,
             "#0d0887"
            ],
            [
             0.1111111111111111,
             "#46039f"
            ],
            [
             0.2222222222222222,
             "#7201a8"
            ],
            [
             0.3333333333333333,
             "#9c179e"
            ],
            [
             0.4444444444444444,
             "#bd3786"
            ],
            [
             0.5555555555555556,
             "#d8576b"
            ],
            [
             0.6666666666666666,
             "#ed7953"
            ],
            [
             0.7777777777777778,
             "#fb9f3a"
            ],
            [
             0.8888888888888888,
             "#fdca26"
            ],
            [
             1,
             "#f0f921"
            ]
           ]
          },
          "colorway": [
           "#636efa",
           "#EF553B",
           "#00cc96",
           "#ab63fa",
           "#FFA15A",
           "#19d3f3",
           "#FF6692",
           "#B6E880",
           "#FF97FF",
           "#FECB52"
          ],
          "font": {
           "color": "#2a3f5f"
          },
          "geo": {
           "bgcolor": "white",
           "lakecolor": "white",
           "landcolor": "#E5ECF6",
           "showlakes": true,
           "showland": true,
           "subunitcolor": "white"
          },
          "hoverlabel": {
           "align": "left"
          },
          "hovermode": "closest",
          "mapbox": {
           "style": "light"
          },
          "paper_bgcolor": "white",
          "plot_bgcolor": "#E5ECF6",
          "polar": {
           "angularaxis": {
            "gridcolor": "white",
            "linecolor": "white",
            "ticks": ""
           },
           "bgcolor": "#E5ECF6",
           "radialaxis": {
            "gridcolor": "white",
            "linecolor": "white",
            "ticks": ""
           }
          },
          "scene": {
           "xaxis": {
            "backgroundcolor": "#E5ECF6",
            "gridcolor": "white",
            "gridwidth": 2,
            "linecolor": "white",
            "showbackground": true,
            "ticks": "",
            "zerolinecolor": "white"
           },
           "yaxis": {
            "backgroundcolor": "#E5ECF6",
            "gridcolor": "white",
            "gridwidth": 2,
            "linecolor": "white",
            "showbackground": true,
            "ticks": "",
            "zerolinecolor": "white"
           },
           "zaxis": {
            "backgroundcolor": "#E5ECF6",
            "gridcolor": "white",
            "gridwidth": 2,
            "linecolor": "white",
            "showbackground": true,
            "ticks": "",
            "zerolinecolor": "white"
           }
          },
          "shapedefaults": {
           "line": {
            "color": "#2a3f5f"
           }
          },
          "ternary": {
           "aaxis": {
            "gridcolor": "white",
            "linecolor": "white",
            "ticks": ""
           },
           "baxis": {
            "gridcolor": "white",
            "linecolor": "white",
            "ticks": ""
           },
           "bgcolor": "#E5ECF6",
           "caxis": {
            "gridcolor": "white",
            "linecolor": "white",
            "ticks": ""
           }
          },
          "title": {
           "x": 0.05
          },
          "xaxis": {
           "automargin": true,
           "gridcolor": "white",
           "linecolor": "white",
           "ticks": "",
           "title": {
            "standoff": 15
           },
           "zerolinecolor": "white",
           "zerolinewidth": 2
          },
          "yaxis": {
           "automargin": true,
           "gridcolor": "white",
           "linecolor": "white",
           "ticks": "",
           "title": {
            "standoff": 15
           },
           "zerolinecolor": "white",
           "zerolinewidth": 2
          }
         }
        },
        "title": {
         "text": "Distribution of Coupon Types"
        },
        "width": 800,
        "xaxis": {
         "anchor": "y",
         "categoryarray": [
          "Coffee House",
          "Restaurant(<20)",
          "Carry out & Take away",
          "Bar",
          "Restaurant(20-50)"
         ],
         "categoryorder": "array",
         "domain": [
          0,
          1
         ],
         "title": {
          "text": "Coupon Type"
         }
        },
        "yaxis": {
         "anchor": "x",
         "domain": [
          0,
          1
         ],
         "title": {
          "text": "Count"
         }
        }
       }
      },
      "image/png": "[encoded data removed]"
     },
     "metadata": {},
     "output_type": "display_data"
    }
   ],
   "source": [
    "coupon_counts = new_data['coupon'].value_counts().reset_index()\n",
    "coupon_counts.columns = ['Coupon Type', 'Count']\n",
    "\n",
    "fig = px.bar(coupon_counts, x='Coupon Type', y='Count', color='Coupon Type',\n",
    "             title='Distribution of Coupon Types')\n",
    "\n",
    "fig.update_layout(\n",
    "    xaxis_title='Coupon Type',\n",
    "    yaxis_title='Count',\n",
    "    width = 800,\n",
    "    showlegend=False\n",
    ")\n",
    "\n",
    "fig.show()"
   ]
  },
  {
   "cell_type": "markdown",
   "metadata": {
    "id": "Qw4lCyx2_qRI"
   },
   "source": [
    "6. Use a histogram to visualize the temperature column."
   ]
  },
  {
   "cell_type": "code",
   "execution_count": 99,
   "metadata": {
    "id": "Yg9Anv71_qRI"
   },
   "outputs": [
    {
     "data": {
      "application/vnd.plotly.v1+json": {
       "config": {
        "plotlyServerURL": "https://plot.ly"
       },
       "data": [
        {
         "bingroup": "x",
         "hovertemplate": "temperature=%{x}<br>count=%{y}<extra></extra>",
         "legendgroup": "",
         "marker": {
          "color": "#636efa",
          "pattern": {
           "shape": ""
          }
         },
         "name": "",
         "nbinsx": 10,
         "orientation": "v",
         "showlegend": false,
         "type": "histogram",
         "x": {
          "bdata": "N1BQUFBQN1BQUFA3Nzc3UDc3UFA3NzdQUFBQUFBQUFA3Nzc3N1A3N1BQNzc3UFBQUFBQUFBQNzc3NzdQNzdQUDc3N1BQUFBQN1BQUFA3Nzc3UDc3UFA3NzdQUFBQUFBQUFA3Nzc3N1A3N1BQNzc3UFBQUFBQUFBQNzc3NzdQNzdQUDc3N1BQUFBQN1BQUFA3Nzc3UDc3UFA3NzdQUFBQUFBQUFA3Nzc3N1A3N1BQNzc3UFBQUFBQUFBQNzdQN1BQNzdQUFBQUFBQUFA3Nzc3N1A3N1BQNzc3UFBQUFA3UFBQUFBQNzdQNzdQUDc3N1BQUFBQUFBQUDc3Nzc3UDc3UFA3NzdQUFBQUDdQUFBQNzc3N1A3N1BQNzc3UFBQUFA3UFBQNzc3UDc3UFA3NzdQUFBQUDdQUFBQNzc3N1A3N1BQNzc3UFBQUFA3UFBQUDc3UDc3UFA3NzdQUFBQUDdQUFBQNzc3N1A3N1BQNzc3UFBQUFA3UFBQUDc3NzdQNzdQUDc3N1BQUFBQUFBQUDc3Nzc3UDc3UFA3NzdQUFBQUDdQUFBQUFA3N1A3N1BQNzdQUFBQUFBQUFA3Nzc3N1A3N1BQNzc3UFBQUFBQUFBQNzc3NzdQN1BQNzc3UFBQUFBQUFBQNzc3NzdQNzdQUDc3N1BQUFBQN1BQUFBQUDc3UDc3UFA3N1BQUFA3NzdQUFBQUDdQUFBQNzc3N1A3N1BQNzc3UFBQUFBQUFBQNzc3NzdQNzdQUDc3N1BQUFBQUFBQUDc3Nzc3UDc3UFA3NzdQUFBQUFBQUFA3Nzc3N1A3N1BQNzc3UFBQUFA3UFBQUDc3NzdQNzdQUDc3N1BQUFBQUFBQUDc3Nzc3UDc3UFA3NzdQUFBQUDdQUFBQUFA3N1A3N1BQNzc3UFBQUFA3UFBQUDc3NzdQNzdQUDc3N1BQUFBQN1BQUFBQUDc3UDc3UFA3NzdQUFBQUFBQUFA3Nzc3N1A3N1BQNzc3UFBQUFA3UFBQUFBQNzdQNzdQUDc3N1BQUFBQUFBQUDc3Nzc3UDc3UFA3NzdQUFBQUDdQUFBQNzc3N1A3N1BQNzc3UFBQUFA3UFBQUDc3Nzc3N1BQNzc3UFBQUFA3UFBQUDc3NzdQNzdQUDc3UFBQUFBQN1BQUFBQN1BQUFBQUDc3UDc3UFA3NzdQUFBQUFBQUFA3Nzc3N1A3N1BQNzc3UFBQUFA3UFBQUDc3NzdQNzdQUDc3N1BQUFBQUFBQUDc3Nzc3UDc3UFA3NzdQUFBQUDdQUFBQUFA3N1A3N1BQNzc3UFBQUFA3UFBQUDc3NzdQNzdQUDc3N1BQUFBQN1BQUFA3Nzc3UDc3UFA3NzdQUFBQUFBQUFA3Nzc3N1A3N1BQNzc3UFBQUFA3UFBQUFBQNzdQNzdQUDc3N1BQUFBQN1BQUFBQUDc3UDc3UFA3NzdQUFBQUDdQUFBQNzc3N1A3N1BQNzc3UFBQUFA3UFBQUDc3NzdQNzdQUDc3N1BQUFBQN1BQUFA3Nzc3UDc3UFA3NzdQUFBQUDdQUFBQUFA3N1A3N1BQNzdQUFBQUFA3UFBQUFA3UFBQUDc3NzdQNzdQUDc3N1BQUFBQN1BQUFA3NzdQNzdQUDc3N1BQUFBQUFBQUDc3Nzc3UDc3UFA3NzdQUFBQUFBQUFA3Nzc3N1A3N1BQNzc3UFBQUFBQUFBQNzc3NzdQNzdQUDc3N1BQUFBQN1BQUFBQUDc3UDc3UFA3NzdQUFBQUDdQUFBQUFA3N1A3N1BQNzc3UFBQUFBQUFBQNzc3NzdQNzdQUDc3N1BQUFBQN1BQUFBQUDc3UDc3UFA3NzdQUFBQUDdQUFBQUFA3N1A3N1BQNzc3UFBQUFBQUFBQNzc3NzdQNzdQUDc3N1BQUFBQN1BQUFA3Nzc3UDc3UFA3NzdQUFBQUFBQUFA3Nzc3N1A3N1BQNzc3UFBQUFA3UFBQUDc3NzdQNzdQUDc3N1BQUFBQN1BQUFBQUDc3UDc3UFA3NzdQUFBQUDdQUFBQUFA3N1A3N1BQNzc3UFBQUFA3UFBQUDc3NzdQNzdQUDc3N1BQUFBQUFBQUDc3Nzc3UDc3UFA3NzdQUFBQUFBQUFA3Nzc3N1A3N1BQNzc3UFBQUFA3UFBQUDc3NzdQNzdQUDc3N1BQUFBQUFBQUDc3Nzc3UDc3UFA3NzdQUFBQUDdQUFBQNzc3N1A3N1BQNzc3UFBQUFA3UFBQUDc3NzdQNzdQUDc3N1BQUFBQUFBQUDc3Nzc3UDc3UFA3NzdQUFBQUDdQUFBQNzc3N1A3N1BQNzc3UFBQUFA3UFBQUFBQNzdQNzdQUDc3N1BQUFBQUFBQUDc3Nzc3UDc3UFA3NzdQUFBQUDdQUFBQUFA3N1A3N1BQNzc3UFBQUFA3UFBQUDc3NzdQNzdQUDc3N1BQUFBQN1BQUFA3Nzc3UDc3UFA3NzdQUFBQUFBQUFA3Nzc3N1A3N1BQNzc3UFBQUFBQUFBQNzc3NzdQNzdQUDc3N1BQUFBQUFBQUDc3Nzc3UDc3UFA3NzdQUFBQUFBQUFA3Nzc3N1A3N1BQNzc3UFBQUFBQUFBQNzc3NzdQNzdQUDc3N1BQUFBQN1BQUFA3Nzc3UDc3UFA3NzdQUFBQUDdQUFBQNzc3N1A3N1BQNzc3UFBQUFA3UFBQUFBQNzdQNzdQUDc3N1BQUFBQN1BQUFBQUDc3UDc3UFA3NzdQUFBQUDdQUFBQNzc3N1A3N1BQNzc3UFBQUFA3UFBQUDc3NzdQNzdQUDc3N1BQUFBQN1BQUFA3Nzc3UDc3UFA3NzdQUFBQUFBQUFA3Nzc3N1A3N1BQNzc3UFBQUFBQUFBQNzc3NzdQNzdQUDc3N1BQUFBQN1BQUFA3Nzc3UDc3UFA3NzdQUFBQUFBQUFA3Nzc3N1A3N1BQNzc3UFBQUFBQUFBQNzc3NzdQNzdQUDc3N1BQUFBQN1BQUFBQUDc3UDc3UFA3NzdQUFBQUDdQUFBQUFA3N1A3N1BQNzc3UFBQUFBQUFBQNzc3NzdQNzdQUDc3N1BQUFBQUFBQUDc3Nzc3UDc3UFA3NzdQUFBQUDdQUFBQUFA3N1A3N1BQNzc3UFBQUFBQUFA3Nzc3N1A3N1BQNzc3UFBQUFA3UFBQUDc3NzdQNzdQUDc3N1BQUFBQUFBQUDc3Nzc3UDc3UFA3N1BQUFA3NzdQUFBQUDdQUFBQNzc3N1A3N1BQNzc3UFBQUFBQUFBQNzc3NzdQNzdQUDc3N1BQUFBQN1BQUFBQUDc3UDc3UFA3NzdQUFBQUDdQUFBQUFA3N1A3N1BQNzc3UFBQUFBQUFA3Nzc3N1A3UFA3NzdQUFBQUFBQUFA3Nzc3N1A3N1BQNzc3UFBQUFA3UFBQUDc3NzdQNzdQUDc3N1BQUFBQUFBQUDc3Nzc3UDc3UFA3NzdQUFBQUDdQUFBQNzc3N1A3N1BQNzc3UFBQUFBQUFBQNzc3NzdQNzdQUDc3N1BQUFBQN1BQUFA3Nzc3UDc3UFA3N1BQUFBQN1BQUFA3Nzc3UDc3UFA3NzdQUFBQUDdQUFA3Nzc3UDc3UFA3NzdQUFBQUDdQUFBQUFA3N1A3N1BQNzc3UFBQUFA3UFBQUDc3NzdQNzdQUDc3N1BQUFBQUFBQUDc3Nzc3UDc3UFA3NzdQUFBQUFBQUFA3Nzc3N1A3N1BQNzc3UFBQUFA3UFBQUDc3NzdQNzdQUDc3N1BQUFBQUFBQUDc3Nzc3UDc3UFA3NzdQUFBQUFBQUFA3Nzc3N1A3N1BQNzc3UFBQUFA3UFBQUDc3NzdQNzdQUDc3N1BQUFBQUFBQUDc3Nzc3UDc3UFA3N1BQUFA3NzdQUFBQUDdQUFBQNzc3N1A3N1BQNzc3UFBQUFBQUFBQNzc3NzdQNzdQUDc3N1BQUFBQN1BQUFA3Nzc3UDc3UFA3NzdQUFBQUDdQUFBQNzc3N1A3N1BQNzc3UFBQUFA3UFBQUDc3NzdQNzdQUDc3N1BQUFBQUFBQUDc3Nzc3UDc3UFA3NzdQUFBQUDdQUFBQNzc3N1A3N1BQNzc3UFBQUFBQUFBQNzc3NzdQNzdQUDc3N1BQUFBQN1BQUFA3Nzc3UDc3UFA3NzdQUFBQUFBQUFA3Nzc3N1A3N1BQNzc3UFBQUFA3UFBQUDc3NzdQNzdQUDc3N1BQUFBQUFBQUDc3UDc3N1A3N1BQNzdQUFBQNzc3UFBQUFA3UFBQUDc3NzdQN1BQNzc3UFBQUFA3UFBQUFBQNzdQNzdQUDc3N1BQUFA3UFBQUFBQNzdQN1BQNzc3UFBQUFA3UFBQUDc3NzdQNzdQUDc3N1BQUFBQUFBQUDc3Nzc3UDc3UFA3NzdQUFBQUDdQUFBQNzc3N1A3N1BQNzc3UFBQUFA3UFBQUFBQNzdQNzdQUDc3N1BQUFBQUFBQUDc3Nzc3UDc3UFA3NzdQUFBQUDc3N1A3N1BQNzc3UFBQUFA3UFBQUDc3NzdQNzdQUDc3UFBQUDc3N1BQUFBQUFBQUDc3Nzc3UDc3UFA3NzdQUFBQUDdQUFBQUFA3N1A3N1BQNzc3UFBQUFA3UFBQUFBQNzdQNzdQUDc3N1BQUFBQUFBQUDc3Nzc3UDc3UFA3NzdQUFBQUFBQUFA3Nzc3N1A3N1BQNzc3UFBQUFA3UFBQUDc3NzdQNzdQUDc3N1BQUFBQN1BQUFA3Nzc3UDc3UFA3NzdQUFBQUDdQUFBQUFA3N1A3N1BQNzc3UFBQUFBQUFBQNzc3NzdQNzdQUDc3N1BQUFBQUFBQUDc3Nzc3UDc3UFA3NzdQUFBQUDdQUFBQUFA3N1A3N1BQNzc3UFBQUFBQUFBQNzc3NzdQNzdQUDc3N1BQUFBQUFBQUDc3Nzc3UDc3UFA3NzdQUFBQUDdQUFBQNzc3N1A3N1BQNzc3UFBQUFA3UFBQUFBQNzdQNzdQUDc3N1BQUFBQN1BQUFBQUDc3UDc3UFA3NzdQUFBQUFBQUFA3Nzc3N1A3N1BQNzc3UFBQUFA3UFBQUFBQNzdQNzdQUDc3N1BQUFBQN1BQUFA3Nzc3UDc3UFA3NzdQUFBQUFBQUFA3Nzc3N1A3N1BQNzc3UFBQUFA3UFBQUFBQNzdQNzdQUDc3N1BQUFBQN1BQUFA3Nzc3UDc3UFA3NzdQUFBQUFBQUFA3Nzc3N1A3N1BQNzc3UFBQUFA3UFBQUFBQNzdQNzdQUDc3N1BQUFBQUFBQUDc3Nzc3UDc3UFA3NzdQUFBQUFBQUFA3Nzc3N1A3N1BQNzc3UFBQUFA3UFBQUDc3NzdQNzdQUDc3N1BQUFBQUFBQUDc3Nzc3UDc3UFA3NzdQUFBQUFBQUFA3Nzc3N1A3N1BQNzdQUFBQN1BQUFA3N1BQUFBQUFBQUFA3UFBQUDdQUFBQUFBQUFBQUFBQUFBQN1BQUFA3UFBQUFBQUFBQUFBQUFBQUDdQUFBQN1BQUFA3N1BQUFBQUFBQUFA3UFBQUDdQUFBQUFBQUFBQUFBQUFBQN1BQUFA3UFBQUDc3UFBQUFBQUFBQUDdQUFA3UFBQUDc3UFBQUFBQUFBQUDdQUFBQN1BQUFBQUFBQUFBQUFBQUFA3UFBQUDdQN1BQN1BQUFBQUFBQUFA3UFBQUDdQUFBQUFBQUFBQUFBQUFBQN1BQUFA3UDdQUDdQUFBQUFBQUFBQN1BQUFA3UDdQUDdQUFBQUFBQUFBQUDdQUFBQN1A3UFA3UFBQUFBQUFBQUDdQUFBQN1BQUFBQUFBQUFBQUFBQUFA3UFBQUDdQN1BQN1BQUFBQUFBQUFA3UFBQUDdQUFBQUFBQUFBQUFBQN1BQUFA3UFBQUFBQUFBQUFBQUFBQUDdQUFBQN1BQUFBQUFBQUFBQUFBQUFA3UFBQUDdQN1BQN1BQUFBQUFBQUFA3UFBQUDdQUFBQUFBQUFBQUFBQUFBQN1BQUFA3UFBQUFBQUFBQUFBQUFBQUDdQUFBQN1A3UFA3UFBQUFBQUFBQUDdQUFBQN1BQN1BQN1BQUFBQUFBQUFA3UFBQUDdQUFBQUFBQUFBQUFBQUFBQN1BQUFA3UFBQUDc3UFBQUFBQUFBQUDdQUFBQN1BQUFA3N1BQUFBQUFBQUFA3UFBQUDdQUFBQUFBQUFBQUFBQUFA3UFBQUDdQUFBQUFBQUFBQUFBQUFBQN1BQUFA3UDdQUDdQUFBQUFBQUFBQUDdQUFBQN1A3UFA3UFBQUFBQUFBQUFA3UFBQUDdQUFBQUFBQUFBQUFBQUFBQN1BQUFA3UFBQUDc3UFBQUFBQUFBQUDdQUFBQN1BQUFBQUFBQUFBQUFBQUFA3UFBQUDdQUFA3UFBQUFBQUFBQUDdQUFBQN1A3UFA3UFBQUFBQUFBQUDdQUFBQN1BQUFBQUFBQUFBQUFBQUFA3UFBQUDdQN1BQN1BQUFBQUFBQUFA3UFBQUDdQN1BQN1BQUFBQUFBQUFA3UFBQUDdQN1BQN1BQUFBQUFBQUFA3UFBQUDdQN1BQN1BQUFBQUFBQUFA3UFBQUDdQUFBQNzdQUFBQUFBQUFBQN1BQUFA3UFBQUDc3UFBQUFBQUFBQUDdQUFBQN1BQUFA3N1BQUFBQUFBQUFA3UFBQUDdQN1BQN1BQUFBQUFBQUFA3UFBQUDdQUFA3UFBQUFBQUFBQUDdQUFBQN1A3UFA3UFBQUFBQUFBQUDdQUFBQN1BQUFBQUFBQUFBQUFBQUFA3UFBQUDdQUFBQUFBQUFBQUDc3N1BQN1BQUFBQUFBQUFA3UFBQUDdQUFBQUFBQUFBQUFBQUFBQN1BQUFA3UDdQUDdQUFBQUFBQUFBQN1BQUFA3UDdQUDdQUFBQUFBQUFBQN1BQUFA3UDdQUDdQUFBQUFBQUFBQUDdQUFBQN1BQUFBQUFBQUFBQUFBQUFA3UFBQUDdQN1BQN1BQUFBQUFBQUFA3UFBQUDdQUFBQNzdQUFBQUFBQUFBQN1BQUFA3UFBQUDc3UFBQUFBQUFBQUDdQUFBQN1BQUFBQUFBQUFBQUFBQUFA3UFBQUDdQUFBQNzdQUFBQUFBQUFBQN1BQUFA3UFBQUFBQUFBQUFBQUFBQUDdQUFBQN1BQUFBQUFBQUFBQUFBQUFA3UFBQUDdQUFBQUFBQUFBQUFBQUFBQN1BQUFA3UFBQUFBQUFBQUFBQUFBQUDdQUFBQN1A3UFA3UFBQUFBQUFBQUFA3UFBQUDdQUFBQUFBQUFBQUFBQUFBQN1BQUFA3UDdQUDdQUFBQUFBQUFBQUDdQUFBQN1A3UFA3UFBQUFBQUFBQUDdQUFBQN1A3UFA3UFBQUFBQUFBQN1BQUFA3UDdQUDdQUFBQUFBQUFBQN1BQUFA3UFBQUFBQUFBQUFBQUFBQUDdQUFBQN1A3UFA3UFBQUFBQUFBQUFA3UFBQUDdQUFBQNzdQUFBQUFBQUFA3UFBQUDdQUFBQNzdQUFBQUFBQUFBQN1BQUFA3UDdQUDdQUFBQUFBQUFBQN1BQUFA3UDdQUDdQUFBQUFBQUFBQN1BQUFA3UDdQUDdQUFBQUFBQUFBQUDdQUFBQN1A3UFA3UFBQUFBQUFBQUDdQUFBQN1A3UFA3UFBQUFBQUFBQUDdQUFBQN1BQUFBQUFBQUFBQUFBQUFA3UFBQUDdQN1BQN1BQUFBQUFBQUFA3UFBQUDdQUFBQNzdQUFBQUFBQUFBQN1BQUFA3UDdQUDdQUFBQUFBQUFBQN1BQUFA3UFBQUFBQUFBQUFBQUFBQUDdQUFBQN1BQUFA3N1BQUFBQUFBQUFA3UFBQUDdQN1BQN1BQUFBQUFBQUFA3UFBQUDdQUFBQUFBQUFBQUFBQUFBQN1BQUFA3UFBQUDc3UFBQUFBQUFBQUDdQUFBQN1BQUFA3N1BQUFBQUFBQUFA3UFBQUDdQN1BQN1BQUFBQUFBQUFA3UFBQUDdQUFBQUFBQUFBQUFBQUFBQN1BQUFA3UFBQUFBQUFBQUFBQUFBQN1BQUFA3UDdQUDdQUFBQUFBQUFBQN1BQUFA3UDdQUDdQUFBQUFBQUFBQN1BQUFA3UFBQUFBQUFBQUFBQUFBQUDdQUFBQN1A3UFA3UFBQUFBQUFBQUDdQUFBQN1A3UFA3UFBQUFBQUFBQUDdQUFBQN1BQUFBQUFBQUFBQUFBQUFA3UFBQUDdQUFBQUFBQUFBQUFBQUFBQN1BQUFA3UFBQUFBQUFBQUFA3NzdQUDdQUFBQUFBQUFBQUDdQUFBQN1BQUFBQUFBQUFBQUFBQUFA3UFBQUDdQUFBQUFBQUFBQUFBQUFBQN1BQUFA3UFBQUDc3UFBQUFBQUFBQUDdQUFBQN1A3UFA3UFBQUFBQUFBQUDdQUFBQN1BQUFBQUFBQUFBQUFBQUFA3UFBQUDdQUFBQUFBQUFBQUFBQUFBQN1BQUFA3UDdQUDdQUFBQUFBQUFBQN1BQUFA3UDdQUDdQUFBQUFBQUFBQN1BQUFA3UFBQUFBQUFBQUFBQUFBQUDdQUFBQN1BQUFBQUFBQUFBQN1BQUFA3UDdQUDdQUFBQUFBQUFBQUDdQUFBQN1BQUFA3N1BQUFBQUFBQUFA3UFBQUDdQN1BQN1BQUFBQUFBQUFA3UFBQUDdQN1BQN1BQUFBQUFBQUFA3UFBQUDdQN1BQN1BQUFBQUFBQUFA3UFBQUDdQUFBQNzdQUFBQUFBQUFBQN1BQUFA3UDdQUDdQUFBQUFBQUFBQN1BQUFA3UDdQUDdQUFBQUFBQUFBQN1BQUFA3UFBQUFBQUFBQUFBQUFBQUDc3NzdQHjc3UFA3NzceUB5QNzdQHjceNzc3UB43N1BQNzc3HlAeUDc3UB43HlA3Hjc3N1A3N1BQNzdQHh43Hh5QNx43N1A3Nx5QNzc3UB43UDc3UB43HlA3Hjc3N1A3NzdQHlA3N1AeHjceHlBQNx43NzdQNzc3UB5QNzdQHh43Hh5QNzc3UB43N1BQNzc3HlAeUDc3UB43HlA3Hjc3N1A3NzdQHlA3N1AeHjceHlA3Hjc3UDc3HlA3NzdQHjdQNzdQHjceNzc3UB43N1BQNzc3HlAeUDc3UB43HjceNzdQNzceUDc3N1AeN1A3N1AeNx43NzdQHjc3UFA3NzceUB5QNzdQHjceNzc3UB43N1BQNzc3HlAeUDc3UB43HlA3Hjc3N1A3NzdQHlA3N1AeHh4eUDceNzdQNzceUDc3N1AeN1A3N1AeNx5QN1BQHjceHlAeNzceHh4eUFA3Hh5QNzceUDdQUB43Hh5QNx4eHlAeNx4eUFA3UFAeNx4eUB43Nx4eHh5QUDceHlA3Nx5QN1BQHjceHlA3Hh4eUB43Hh5QNzceUDdQUB43Hh5QNx4eHlAeNx4eUFBQN1BQNzceNx4eUB43Hh5QNzceHlBQN1BQHjceHlAeNzceHh4eUFA3Hh5QUDdQUB43Hh5QHjc3Hh4eHlBQNx4eUFBQN1BQNzceNx4eUB43Hh5QNzceHlBQN1BQHjceHlAeNzceHh4eUFA3Hh5QNzceUDdQUB43Hh5QNx4eHlAeNx4eUDc3HlA3UFAeNx4eUDceHh5QHjceHlBQUDdQUDc3HjceHlAeNx4eUDc3Hh5QNzceUDdQUB43Hh5QNx4eHlAeNx4eUDc3HlA3UFAeNx4eUDceHh5QHjceHlA3Nx5QN1BQHjceHlA3Hh4eUB43Hh5QUDdQUB43Hh5QHjc3Hh4eHlBQNx4eUFA3UFAeNx4eUB43Nx4eHh5QUDceHlBQUDdQUDc3HjceHlAeNx4eUDc3Hh5QNzceUDdQUB43Hh5QNx4eHlAeNx4eUFA3UFAeNx4eUB43Nx4eHh5QUDceHlBQN1BQHjceHlAeNzceHh4eUFA3Hh5QNzceUDdQUB43Hh5QNx4eHlAeNx4eUFBQN1BQNzceNx4eUB43Hh5QNzceHlA3Nx5QN1BQHjceHlA3Hh4eUB43Hh5QNzceUDdQUB43Hh5QNx4eHlAeNx4eUFBQN1BQNzceNx4eUB43Hh5QNzceHlA3Nx5QN1BQHjceHlA3Hh4eUB43Hh5QUFA3UFA3Nx43Hh5QUB43Nx5QHjceHlBQNzceHlA3Nx5QNx5QN1BQHjceHlAeNzceHh4eUFA3Hh5QUDdQUB43Hh4eHh5QUDceHlA3Nx5QN1BQHjceHlA3Hh4eUB43Hh5QUDdQUB43Hh5QHjceHh4eUFA3Hh5QN1BQHjceHlAeNzceHh4eUFA3Hh5QUFA3UFA3Nx43Hh5QHjceHlA3Nx4eUFA3UFAeNx4eUB43Nx4eHh5QUDceHlBQUDdQUDc3HjceHlAeNx4eUDc3Hh5QUDdQUB43Hh5QHjc3Hh4eHlBQNx4eUFA3UFAeNx4eUB43Nx4eHh5QUDceHlBQUDdQUDc3HjceHlAeNx4eUDc3Hh5QUDdQUB43Hh4eNzceHh4eUFA3Hh5QUFA3UFA3Nx43Hh5QHjceHlA3Nx4eUDdQHh4eHlBQN1BQNzceNx4eUB43Hh5QNzceHlA3Nx5QN1BQHjceHlA3Hh4eUB43Hh5QUDdQUB43Hh5QHjc3Hh4eHlBQNx4eUFBQN1BQNzceNx4eUB43Hh5QNzceHlA3Nx5QN1BQHjceHlA3Hh4eUB43Hh5QNzceUDdQUB43Hh5QNx4eHlAeNx4eUFA3UFAeNx4eUB43Nx4eHh5QUDceHlBQUDdQUDc3HjceHlAeNx4eUDc3Hh5QUFA3UFA3Nx43Hh5QHjceHlA3Nx4eUFBQN1BQNzceNx4eUB43Hh5QNzceHlA3Nx5QN1BQHjceHlA3Hh4eUB43Hh5QNzceUDdQUB43Hh5QNx4eHlAeNx4eUFBQN1BQNzceNx4eUB43Hh5QNzceHlBQN1BQHjceHlAeNzceHh4eUFA3Hh5QN1BQHjceHlAeNzceHh4eUFA3Hh5QNzceUDdQUB43Hh5QNx4eHlAeNx4eUFBQN1BQNzceNx4eUB43Hh5QNzceHlA3Nx5QN1BQHjceHlA3Hh4eUB43Hh5QNzceUDdQUB43Hh5QNx4eHlAeNx4eUFBQN1BQNx43Hh5QHjceHlA3Nx4eUFA3UFAeNx4eUB43Nx4eHh5QUDceHlA3Nx5QN1BQHjceHlA3Hh4eUB43Hh5QUDdQUB43Hh5QHjc3Hh4eHlBQNx4eUDc3HlA3UFAeNx4eUDceHh5QHjceHlBQUDdQUDc3HjceHlAeNx4eUDc3Hh5QUDdQUB43Hh5QHjc3Hh4eHlBQNx4eUDc3HlA3UFAeNx4eNx4eHlAeNx4eUDc3HlA3UFAeNx4eUDceHh5QHjceHlBQUDdQUDc3HjceHlAeNx4eUDc3Hh5QUFAeHh4eHjc3HlA3UFAeNx4eUDceHh5QHjceHlBQN1BQHjceHlAeNzceHh4eUFA3Hh5QNzceUDdQUB43Hh5QNx4eHlAeNx4eUFA3UFAeNx4eUB43Nx4eHh5QUDceHlA3Nx5QN1BQHjceHlA3Hh4eUB43Hh5QUDdQUB43Hh5QHjc3Hh4eHlBQNx4eUFBQN1BQNzceNx4eUB43Hh5QNzceHlBQUDdQUDc3HjceHlAeNx4eUDc3Hh5QUDdQUB43Hh5QHjc3Hh4eHlBQNx4eUFA3UFAeNx4eUB43Nx4eHh5QUDceHlA3Nx5QN1BQHjceHlA3Hh4eUB43Hh5QUDdQUB43Hh5QHjc3Hh4eHlBQNx5QUDdQUB43Hh5QHjc3Hh4eHlBQNx4eUDc3HlA3UFAeNx4eUDceHh5QHjceHlBQUB43HlA3UFBQNx43HlA3Hh43UDceUFAeNx5QUFBQUFAeUFA3HlAeN1A3HlBQUDceNx43HlAeUFA3HlAeN1BQNx5QUB43HlA3UFBQNx43HlA3Hh43UDceUFBQNx43HjceUB5QUDceUB43UFA3HlBQHjceUFBQUFBQHlBQNx5QHjdQNx5QUB43HlBQUFBQUB5QUDceUB43UDceUFAeNx5QUFBQUFAeUFA3HlAeN1A3HlBQUDceNx43HlAeUFA3HlAeN1BQNx5QUFA3HjceNx5QHlBQNx5QHjdQUDceUFAeNx5QUFBQUFAeUFA3HlAeN1A3HlBQHjceUFBQUFBQHlBQNx5QHjdQNx5QUB43HlBQUFBQUB5QUDceUB43UDceUFAeNx5QN1BQUFBQUB5QUDceNx5QNx4eN1A3HlBQUDceNx43HlAeUFA3HlAeN1BQNx5QUFA3HjceNx5QHlBQNx5QHjdQUDceUFBQNx43HjceUB5QUDceUB43UFA3HlBQHjceUDdQUFA3HjceUDceHjdQNx5QUB43HlA3UFBQNx43HlA3Hh43UDceUFBQNx43HjceUB5QUDceUB43UFA3HlBQHjceUDdQUFA3HjceUDceHjdQNx5QUFA3HjceNx5QHlBQNx5QHjdQUDceUFBQNx43HjceUB5QUDceUB43UFA3HlBQUDceNx43HlAeUFA3HlAeN1BQNx5QUFA3HjceNx5QHlBQNx5QHjdQUDceUFBQNx43HjceUB5QUDceUB43UFA3HlBQUDceNx43HlAeUFA3HlAeN1BQNx5QUFA3HjceNx5QHlBQNx5QHjdQUDceUFAeNx5QUFBQNx43UDceHjdQNx5QUB43HlBQUFBQUB5QUDceUB43UDceUFBQNx43HjceUB5QUDceUB43UFA3HlBQHjceUDdQUFA3HjceUDceHjdQNx5QUB43HlA3UFBQNx43HlA3Hh43UDceUFAeNx5QUFBQUFAeUFA3HlAeN1A3HlBQHjceUFBQUFBQHlBQNx5QHjdQNx5QUB43HlA3UFBQNx43HlA3Hh43UDceUFBQNx43HjceUB5QUDceUB43UFA3HlBQUDceNx43HlAeUFA3HlAeN1BQNx5QUFA3HjceNx5QHlBQN1AeN1BQNx5QUB43HlA3UFBQNx43HlA3Hh43UDceUFBQNx43HjceUB5QUDceUB4eN1BQNx5QUFA3HjceHlAeUFA3HlAeN1BQNx5QUB43HlBQUFBQUB5QUDceUB43UDceUFBQNx43HjceUB5QUDceUB43UFA3HlBQHh5QN1A3HjceNx4eUDceUFAeNx5QN1BQUDceNx5QNx4eN1A3HlBQHjceUDdQUFA3HjceUDceHjdQNx5QUFA3HjceNx5QHlBQNx5QHjdQUDceUFBQNx43HjceUB5QUDceUB43UFA3HlBQHjceUDdQUFA3HjceUDceHjdQNx5QUFA3HjceNx5QHlBQNx5QHjdQUDceUFBQNx43HjceUB5QUDceUB43UFA3HlBQHjceUDdQUFA3HjceUDceHjdQNx5QUFA3HjceNx5QHlBQNx5QHjdQUDceUFBQNx43HjceUB5QUDceUB43UFA3HlBQHjceUDdQUFA3HjceUDceHjdQNx5QUFA3HjceNx5QHlBQNx5QHjdQUDceUFBQNx43HjceUB5QUDceUB43UFA3HlBQHjceUFBQUFBQHlBQNx5QHjdQNx5QUB43HlA3UFBQNx43HlA3Hh43UDceUFAeNx5QN1BQUDceNx5QNx4eN1A3HlBQHjceUFBQUFBQHlBQNx5QHjdQNx5QUB43HjceUB5QUDceUB43UFA3HlBQHjceUDdQUFA3HjceUDceHjdQNx5QUB43HlA3UFBQNx43HlA3Hh43UDceUFAeNx5QUFBQUFAeUFA3HlAeN1A3HlBQUDceNx43HlAeUFA3HlAeN1BQNx5QUB43HlBQUFBQUB5QUDceUB43UDceUFAeNx5QUFBQUFAeUFA3HlAeN1A3HlBQUDceNx43HlAeUFA3HlAeN1BQNx5QUB43HlA3UFBQNx43HlA3Hh43UDceUFAeNx5QUFBQUFAeUFA3HlAeN1A3HlBQHh5QN1BQUDceNx5QNx4eN1A3HlBQUDceNx43HlAeUFA3HlAeN1BQNx5QUB43HlBQUFBQUB5QUDceUB43UDceUFAeNx5QUFA3HlAeHjdQNx5QUFA3HjceNx5QHlBQNx5QHjdQUDceUFAeNx5QUFBQUFAeUFA3HlAeN1A3HlBQHjceUFBQUDceUB43UDceUFBQNx43HjceUB5QUDceUB43UFA3HlBQHjceUFBQUFBQHlBQNx5QHjdQNx5QUFBQUB5QUFA3HjceNx5QHlBQNx5QHjdQUDceUFBQNx43HjceUB5QUDceUB43UFA3HlBQHjceUDdQUFA3HjceUDceHjdQNx5QUB43HlBQUFBQUB5QUDceUB43UDceUB43HlBQUFA3HlAeN1A3HlBQHjceUFBQUFBQHlBQNx5QHjdQNx5QUB43HlBQUFA3HlAeN1A3HlBQHjceUFBQHlA3UDceUFAeNx5QN1BQUDceNx5QNx4eN1A3HlBQNx4eNzdQHlAeNx4eUFA3Nx4eHlBQUDceHjc3UB5QHjceHlBQNzceHh5QHjceHh43UFA3Hh43N1AeUB43Hh5QUDc3Hh4eUB4eUFA3Hh43N1AeHjceNzc3HlAeNx4eUFAeHjc3Nx4eHlBQUDceHjdQHjceUB43HlAeHjc3Hh5QUFA3Hh43UB43HlAeNx5QHh43Nx4eUB4eUFA3Hh43UDc3Nx5QHjceUDceHlAeHlBQNx4eN1A3NzceUB43HlA3Hh5QUFA3Hh43N1AeUB43Hh5QUDc3Hh4eUFBQNx4eNzdQHlAeNx4eUFA3Nx4eHlBQUDceHjc3UB5QHjceHlBQNzceHh5QUFA3Hh43N1AeUB43Hh5QUDc3Hh4eUB4eUFA3Hh43UDc3Nx5QHjceUDceHlBQUDceHjc3UB5QHjceHlBQNzceHh5QUFA3Hh43N1AeUB43Hh5QUDc3Hh4eUFBQNx4eNzdQHlAeNx4eUFA3Nx4eHlAeHlBQNx4eN1A3NzceUB43HlA3Hh5QUFA3Hh43N1AeUB43Hh5QUDc3Hh4eUFBQNx4eNzdQHlAeNx4eUFA3Nx4eHlBQUDceHjdQHjceUB43HlAeHjc3Hh5QHh5QUDceHjdQNzc3HlAeNx5QNx4eUFBQNx4eNzdQHlAeNx4eUFA3Nx4eHlBQUDceHjc3UB5QHjceHlBQNzceHh5QUFA3Hh43UB43HlAeNx5QHh43Nx4eUFBQNx4eNzdQHlAeNx4eUFA3Nx4eHlBQUDceHjc3UB5QHjceHlBQNzceHh5QHh5QUDceHjdQNzc3HlAeNx5QNx4eUFBQNx4eN1AeNx5QHjceUB4eNzceHlBQUDceHjdQHjceUB43HlAeHjc3Hh5QUFA3Hh43UB43HlAeNx5QHh43Nx4eUB4eUFA3Hh43UDc3HlAeNx5QNx4eUFBQNx4eN1AeNx5QHjceUB4eNzceHlBQUDceHjc3UB5QHjceHlBQNzceHh5QUFA3Hh43N1AeUB43Hh5QUDc3Hh4eUB4eNzc3Hh4eUFA3Hh43UDc3Nx5QHjceUDceHlBQUDceHjdQHjceUB43HlAeHjc3Hh5QUFA3Hh43N1AeUB43Hh5QUDc3Hh4eUB4eUFA3Hh43UDc3Nx5QHjceUDceHlBQUDceHjc3UB5QNx4eUFA3Nx4eHlAeHlBQNx4eNzdQHh43Hjc3Nx5QHjceHlBQHh43NzceHh5QHh5QUDceHjdQNzc3HlAeNx4eUDceHlBQUDceHjc3UB5QHjceHlBQNzceHh5QUFA3Hh43UB43HlAeNx5QHh43Nx4eUFBQNx4eNzdQHlAeNx4eUFA3Nx4eHlAeHlBQNx4eN1A3NzceUB43HlA3Hh5QHh5QUDceHjdQNzc3HlAeNx5QNx4eUFBQNx4eN1AeNx5QHjceUB4eNzceHlBQUDceHjdQHjceUB43HlAeHjc3Hh5QHh5QUDceHjdQNzc3HlAeNx5QNx4eUFBQNx4eNzdQHlAeNx4eUFA3Nx4eHlBQUDceHjc3UB5QHjceHlA3Nx4eHlBQUDceHjdQHjceUB43HlAeHjc3Hh5QHh5QUDceHjdQNzc3HlAeNx5QNx4eUB4eUFA3Hh43UDc3Nx5QHjceUDceHlBQUDceHjdQHjceUB43HlAeHjc3Hh5QUFA3Hh43N1AeUB43Hh5QUDc3Hh4eUB4eUFA3Hh43UDc3Nx5QHjceUDceHlAeHlBQNx4eN1A3NzceUB43HlA3Hh5QUFA3Hh43UB43HlAeNx5QHh43Nx4eUFBQNx4eN1AeNx5QHjceUB4eNzceHlBQUDceHjdQHjceUB43HlAeHjc3Hh5QUFA3Hh43N1AeUB43Hh5QUDc3Hh5QUFA3Hh43N1AeUB43Hh5QUDc3Hh4eUB4eUFA3Hh43UDc3Nx5QHjceUDceHlBQUDceHjdQHjceUB43HlAeHjc3Hh5QUFA3Hh43UB43HlAeNx5QHh43Nx4eUFBQNx4eNzdQHlAeNx4eUFA3Nx4eHlBQUDceHjc3UB5QHjceHlBQNzceHh5QUFA3Hh43UB43HlAeNx5QHh43Nx4eUB4eUFA3Hh43UDc3HlAeNx5QNx4eUFBQNx4eNzdQHlAeNx4eUFA3Nx4eHlBQUDceHjc3UB5QHjceHlBQNzceHh5QHh5QUDceHjdQNzc3HlAeNx5QNx4eUB4eUFA3Hh43UDc3Nx5QHjceUDceHlAeHlBQNx4eN1A3NzceUB43HlA3Hh5QUFA3Hh43N1AeUB43Hh5QUDc3Hh4eUFBQNx4eN1AeNx5QHjceUB4eNzceHlBQUDceHjdQHjceUB43HlAeHjc3Hh5QUFA3Hh43N1AeUB43Hh5QUDc3Hh4eUFBQNx4eN1AeNx5QHjceUB4eNzceHlBQUDceHjc3UB5QHjceHlBQNzceHh5QUFA3Hh43N1AeUB43Hh5QUDc3Hh4eUFBQNx4eN1AeNx5QHjceUB4eNzceHlAeHjc3Nx4eHlBQNx4eN1A3NzceUB43HlA3Hh5QUFA3Hh43UB43HlAeNx5QHh43Nx4eUA==",
          "dtype": "i1"
         },
         "xaxis": "x",
         "yaxis": "y"
        }
       ],
       "layout": {
        "barmode": "relative",
        "legend": {
         "tracegroupgap": 0
        },
        "template": {
         "data": {
          "bar": [
           {
            "error_x": {
             "color": "#2a3f5f"
            },
            "error_y": {
             "color": "#2a3f5f"
            },
            "marker": {
             "line": {
              "color": "#E5ECF6",
              "width": 0.5
             },
             "pattern": {
              "fillmode": "overlay",
              "size": 10,
              "solidity": 0.2
             }
            },
            "type": "bar"
           }
          ],
          "barpolar": [
           {
            "marker": {
             "line": {
              "color": "#E5ECF6",
              "width": 0.5
             },
             "pattern": {
              "fillmode": "overlay",
              "size": 10,
              "solidity": 0.2
             }
            },
            "type": "barpolar"
           }
          ],
          "carpet": [
           {
            "aaxis": {
             "endlinecolor": "#2a3f5f",
             "gridcolor": "white",
             "linecolor": "white",
             "minorgridcolor": "white",
             "startlinecolor": "#2a3f5f"
            },
            "baxis": {
             "endlinecolor": "#2a3f5f",
             "gridcolor": "white",
             "linecolor": "white",
             "minorgridcolor": "white",
             "startlinecolor": "#2a3f5f"
            },
            "type": "carpet"
           }
          ],
          "choropleth": [
           {
            "colorbar": {
             "outlinewidth": 0,
             "ticks": ""
            },
            "type": "choropleth"
           }
          ],
          "contour": [
           {
            "colorbar": {
             "outlinewidth": 0,
             "ticks": ""
            },
            "colorscale": [
             [
              0,
              "#0d0887"
             ],
             [
              0.1111111111111111,
              "#46039f"
             ],
             [
              0.2222222222222222,
              "#7201a8"
             ],
             [
              0.3333333333333333,
              "#9c179e"
             ],
             [
              0.4444444444444444,
              "#bd3786"
             ],
             [
              0.5555555555555556,
              "#d8576b"
             ],
             [
              0.6666666666666666,
              "#ed7953"
             ],
             [
              0.7777777777777778,
              "#fb9f3a"
             ],
             [
              0.8888888888888888,
              "#fdca26"
             ],
             [
              1,
              "#f0f921"
             ]
            ],
            "type": "contour"
           }
          ],
          "contourcarpet": [
           {
            "colorbar": {
             "outlinewidth": 0,
             "ticks": ""
            },
            "type": "contourcarpet"
           }
          ],
          "heatmap": [
           {
            "colorbar": {
             "outlinewidth": 0,
             "ticks": ""
            },
            "colorscale": [
             [
              0,
              "#0d0887"
             ],
             [
              0.1111111111111111,
              "#46039f"
             ],
             [
              0.2222222222222222,
              "#7201a8"
             ],
             [
              0.3333333333333333,
              "#9c179e"
             ],
             [
              0.4444444444444444,
              "#bd3786"
             ],
             [
              0.5555555555555556,
              "#d8576b"
             ],
             [
              0.6666666666666666,
              "#ed7953"
             ],
             [
              0.7777777777777778,
              "#fb9f3a"
             ],
             [
              0.8888888888888888,
              "#fdca26"
             ],
             [
              1,
              "#f0f921"
             ]
            ],
            "type": "heatmap"
           }
          ],
          "histogram": [
           {
            "marker": {
             "pattern": {
              "fillmode": "overlay",
              "size": 10,
              "solidity": 0.2
             }
            },
            "type": "histogram"
           }
          ],
          "histogram2d": [
           {
            "colorbar": {
             "outlinewidth": 0,
             "ticks": ""
            },
            "colorscale": [
             [
              0,
              "#0d0887"
             ],
             [
              0.1111111111111111,
              "#46039f"
             ],
             [
              0.2222222222222222,
              "#7201a8"
             ],
             [
              0.3333333333333333,
              "#9c179e"
             ],
             [
              0.4444444444444444,
              "#bd3786"
             ],
             [
              0.5555555555555556,
              "#d8576b"
             ],
             [
              0.6666666666666666,
              "#ed7953"
             ],
             [
              0.7777777777777778,
              "#fb9f3a"
             ],
             [
              0.8888888888888888,
              "#fdca26"
             ],
             [
              1,
              "#f0f921"
             ]
            ],
            "type": "histogram2d"
           }
          ],
          "histogram2dcontour": [
           {
            "colorbar": {
             "outlinewidth": 0,
             "ticks": ""
            },
            "colorscale": [
             [
              0,
              "#0d0887"
             ],
             [
              0.1111111111111111,
              "#46039f"
             ],
             [
              0.2222222222222222,
              "#7201a8"
             ],
             [
              0.3333333333333333,
              "#9c179e"
             ],
             [
              0.4444444444444444,
              "#bd3786"
             ],
             [
              0.5555555555555556,
              "#d8576b"
             ],
             [
              0.6666666666666666,
              "#ed7953"
             ],
             [
              0.7777777777777778,
              "#fb9f3a"
             ],
             [
              0.8888888888888888,
              "#fdca26"
             ],
             [
              1,
              "#f0f921"
             ]
            ],
            "type": "histogram2dcontour"
           }
          ],
          "mesh3d": [
           {
            "colorbar": {
             "outlinewidth": 0,
             "ticks": ""
            },
            "type": "mesh3d"
           }
          ],
          "parcoords": [
           {
            "line": {
             "colorbar": {
              "outlinewidth": 0,
              "ticks": ""
             }
            },
            "type": "parcoords"
           }
          ],
          "pie": [
           {
            "automargin": true,
            "type": "pie"
           }
          ],
          "scatter": [
           {
            "fillpattern": {
             "fillmode": "overlay",
             "size": 10,
             "solidity": 0.2
            },
            "type": "scatter"
           }
          ],
          "scatter3d": [
           {
            "line": {
             "colorbar": {
              "outlinewidth": 0,
              "ticks": ""
             }
            },
            "marker": {
             "colorbar": {
              "outlinewidth": 0,
              "ticks": ""
             }
            },
            "type": "scatter3d"
           }
          ],
          "scattercarpet": [
           {
            "marker": {
             "colorbar": {
              "outlinewidth": 0,
              "ticks": ""
             }
            },
            "type": "scattercarpet"
           }
          ],
          "scattergeo": [
           {
            "marker": {
             "colorbar": {
              "outlinewidth": 0,
              "ticks": ""
             }
            },
            "type": "scattergeo"
           }
          ],
          "scattergl": [
           {
            "marker": {
             "colorbar": {
              "outlinewidth": 0,
              "ticks": ""
             }
            },
            "type": "scattergl"
           }
          ],
          "scattermap": [
           {
            "marker": {
             "colorbar": {
              "outlinewidth": 0,
              "ticks": ""
             }
            },
            "type": "scattermap"
           }
          ],
          "scattermapbox": [
           {
            "marker": {
             "colorbar": {
              "outlinewidth": 0,
              "ticks": ""
             }
            },
            "type": "scattermapbox"
           }
          ],
          "scatterpolar": [
           {
            "marker": {
             "colorbar": {
              "outlinewidth": 0,
              "ticks": ""
             }
            },
            "type": "scatterpolar"
           }
          ],
          "scatterpolargl": [
           {
            "marker": {
             "colorbar": {
              "outlinewidth": 0,
              "ticks": ""
             }
            },
            "type": "scatterpolargl"
           }
          ],
          "scatterternary": [
           {
            "marker": {
             "colorbar": {
              "outlinewidth": 0,
              "ticks": ""
             }
            },
            "type": "scatterternary"
           }
          ],
          "surface": [
           {
            "colorbar": {
             "outlinewidth": 0,
             "ticks": ""
            },
            "colorscale": [
             [
              0,
              "#0d0887"
             ],
             [
              0.1111111111111111,
              "#46039f"
             ],
             [
              0.2222222222222222,
              "#7201a8"
             ],
             [
              0.3333333333333333,
              "#9c179e"
             ],
             [
              0.4444444444444444,
              "#bd3786"
             ],
             [
              0.5555555555555556,
              "#d8576b"
             ],
             [
              0.6666666666666666,
              "#ed7953"
             ],
             [
              0.7777777777777778,
              "#fb9f3a"
             ],
             [
              0.8888888888888888,
              "#fdca26"
             ],
             [
              1,
              "#f0f921"
             ]
            ],
            "type": "surface"
           }
          ],
          "table": [
           {
            "cells": {
             "fill": {
              "color": "#EBF0F8"
             },
             "line": {
              "color": "white"
             }
            },
            "header": {
             "fill": {
              "color": "#C8D4E3"
             },
             "line": {
              "color": "white"
             }
            },
            "type": "table"
           }
          ]
         },
         "layout": {
          "annotationdefaults": {
           "arrowcolor": "#2a3f5f",
           "arrowhead": 0,
           "arrowwidth": 1
          },
          "autotypenumbers": "strict",
          "coloraxis": {
           "colorbar": {
            "outlinewidth": 0,
            "ticks": ""
           }
          },
          "colorscale": {
           "diverging": [
            [
             0,
             "#8e0152"
            ],
            [
             0.1,
             "#c51b7d"
            ],
            [
             0.2,
             "#de77ae"
            ],
            [
             0.3,
             "#f1b6da"
            ],
            [
             0.4,
             "#fde0ef"
            ],
            [
             0.5,
             "#f7f7f7"
            ],
            [
             0.6,
             "#e6f5d0"
            ],
            [
             0.7,
             "#b8e186"
            ],
            [
             0.8,
             "#7fbc41"
            ],
            [
             0.9,
             "#4d9221"
            ],
            [
             1,
             "#276419"
            ]
           ],
           "sequential": [
            [
             0,
             "#0d0887"
            ],
            [
             0.1111111111111111,
             "#46039f"
            ],
            [
             0.2222222222222222,
             "#7201a8"
            ],
            [
             0.3333333333333333,
             "#9c179e"
            ],
            [
             0.4444444444444444,
             "#bd3786"
            ],
            [
             0.5555555555555556,
             "#d8576b"
            ],
            [
             0.6666666666666666,
             "#ed7953"
            ],
            [
             0.7777777777777778,
             "#fb9f3a"
            ],
            [
             0.8888888888888888,
             "#fdca26"
            ],
            [
             1,
             "#f0f921"
            ]
           ],
           "sequentialminus": [
            [
             0,
             "#0d0887"
            ],
            [
             0.1111111111111111,
             "#46039f"
            ],
            [
             0.2222222222222222,
             "#7201a8"
            ],
            [
             0.3333333333333333,
             "#9c179e"
            ],
            [
             0.4444444444444444,
             "#bd3786"
            ],
            [
             0.5555555555555556,
             "#d8576b"
            ],
            [
             0.6666666666666666,
             "#ed7953"
            ],
            [
             0.7777777777777778,
             "#fb9f3a"
            ],
            [
             0.8888888888888888,
             "#fdca26"
            ],
            [
             1,
             "#f0f921"
            ]
           ]
          },
          "colorway": [
           "#636efa",
           "#EF553B",
           "#00cc96",
           "#ab63fa",
           "#FFA15A",
           "#19d3f3",
           "#FF6692",
           "#B6E880",
           "#FF97FF",
           "#FECB52"
          ],
          "font": {
           "color": "#2a3f5f"
          },
          "geo": {
           "bgcolor": "white",
           "lakecolor": "white",
           "landcolor": "#E5ECF6",
           "showlakes": true,
           "showland": true,
           "subunitcolor": "white"
          },
          "hoverlabel": {
           "align": "left"
          },
          "hovermode": "closest",
          "mapbox": {
           "style": "light"
          },
          "paper_bgcolor": "white",
          "plot_bgcolor": "#E5ECF6",
          "polar": {
           "angularaxis": {
            "gridcolor": "white",
            "linecolor": "white",
            "ticks": ""
           },
           "bgcolor": "#E5ECF6",
           "radialaxis": {
            "gridcolor": "white",
            "linecolor": "white",
            "ticks": ""
           }
          },
          "scene": {
           "xaxis": {
            "backgroundcolor": "#E5ECF6",
            "gridcolor": "white",
            "gridwidth": 2,
            "linecolor": "white",
            "showbackground": true,
            "ticks": "",
            "zerolinecolor": "white"
           },
           "yaxis": {
            "backgroundcolor": "#E5ECF6",
            "gridcolor": "white",
            "gridwidth": 2,
            "linecolor": "white",
            "showbackground": true,
            "ticks": "",
            "zerolinecolor": "white"
           },
           "zaxis": {
            "backgroundcolor": "#E5ECF6",
            "gridcolor": "white",
            "gridwidth": 2,
            "linecolor": "white",
            "showbackground": true,
            "ticks": "",
            "zerolinecolor": "white"
           }
          },
          "shapedefaults": {
           "line": {
            "color": "#2a3f5f"
           }
          },
          "ternary": {
           "aaxis": {
            "gridcolor": "white",
            "linecolor": "white",
            "ticks": ""
           },
           "baxis": {
            "gridcolor": "white",
            "linecolor": "white",
            "ticks": ""
           },
           "bgcolor": "#E5ECF6",
           "caxis": {
            "gridcolor": "white",
            "linecolor": "white",
            "ticks": ""
           }
          },
          "title": {
           "x": 0.05
          },
          "xaxis": {
           "automargin": true,
           "gridcolor": "white",
           "linecolor": "white",
           "ticks": "",
           "title": {
            "standoff": 15
           },
           "zerolinecolor": "white",
           "zerolinewidth": 2
          },
          "yaxis": {
           "automargin": true,
           "gridcolor": "white",
           "linecolor": "white",
           "ticks": "",
           "title": {
            "standoff": 15
           },
           "zerolinecolor": "white",
           "zerolinewidth": 2
          }
         }
        },
        "title": {
         "text": "Temperature Distribution"
        },
        "width": 600,
        "xaxis": {
         "anchor": "y",
         "domain": [
          0,
          1
         ],
         "title": {
          "text": "Temperature"
         }
        },
        "yaxis": {
         "anchor": "x",
         "domain": [
          0,
          1
         ],
         "title": {
          "text": "Count"
         }
        }
       }
      },
      "image/png": "[encoded data removed]"
     },
     "metadata": {},
     "output_type": "display_data"
    }
   ],
   "source": [
    "fig = px.histogram(new_data, x='temperature', nbins=10, title='Temperature Distribution')\n",
    "fig.update_layout(\n",
    "    xaxis_title='Temperature',\n",
    "    yaxis_title='Count',\n",
    "    width = 600\n",
    ")\n",
    "fig.show()"
   ]
  },
  {
   "cell_type": "markdown",
   "metadata": {
    "id": "FupfgeJk_qRJ"
   },
   "source": [
    "**Investigating the Bar Coupons**\n",
    "\n",
    "Now, we will lead you through an exploration of just the bar related coupons.  \n",
    "\n",
    "1. Create a new `DataFrame` that contains just the bar coupons.\n"
   ]
  },
  {
   "cell_type": "code",
   "execution_count": 100,
   "metadata": {
    "id": "tMBlWuGq_qRJ"
   },
   "outputs": [
    {
     "data": {
      "text/html": [
       "<div>\n",
       "<style scoped>\n",
       "    .dataframe tbody tr th:only-of-type {\n",
       "        vertical-align: middle;\n",
       "    }\n",
       "\n",
       "    .dataframe tbody tr th {\n",
       "        vertical-align: top;\n",
       "    }\n",
       "\n",
       "    .dataframe thead th {\n",
       "        text-align: right;\n",
       "    }\n",
       "</style>\n",
       "<table border=\"1\" class=\"dataframe\">\n",
       "  <thead>\n",
       "    <tr style=\"text-align: right;\">\n",
       "      <th></th>\n",
       "      <th>destination</th>\n",
       "      <th>passanger</th>\n",
       "      <th>weather</th>\n",
       "      <th>temperature</th>\n",
       "      <th>time</th>\n",
       "      <th>coupon</th>\n",
       "      <th>expiration</th>\n",
       "      <th>gender</th>\n",
       "      <th>age</th>\n",
       "      <th>maritalStatus</th>\n",
       "      <th>...</th>\n",
       "      <th>CoffeeHouse</th>\n",
       "      <th>CarryAway</th>\n",
       "      <th>RestaurantLessThan20</th>\n",
       "      <th>Restaurant20To50</th>\n",
       "      <th>toCoupon_GEQ5min</th>\n",
       "      <th>toCoupon_GEQ15min</th>\n",
       "      <th>toCoupon_GEQ25min</th>\n",
       "      <th>direction_same</th>\n",
       "      <th>direction_opp</th>\n",
       "      <th>Y</th>\n",
       "    </tr>\n",
       "  </thead>\n",
       "  <tbody>\n",
       "    <tr>\n",
       "      <th>0</th>\n",
       "      <td>No Urgent Place</td>\n",
       "      <td>Kid(s)</td>\n",
       "      <td>Sunny</td>\n",
       "      <td>80</td>\n",
       "      <td>10AM</td>\n",
       "      <td>Bar</td>\n",
       "      <td>1d</td>\n",
       "      <td>Female</td>\n",
       "      <td>21</td>\n",
       "      <td>Unmarried partner</td>\n",
       "      <td>...</td>\n",
       "      <td>never</td>\n",
       "      <td>1~3</td>\n",
       "      <td>4~8</td>\n",
       "      <td>1~3</td>\n",
       "      <td>1</td>\n",
       "      <td>1</td>\n",
       "      <td>0</td>\n",
       "      <td>0</td>\n",
       "      <td>1</td>\n",
       "      <td>0</td>\n",
       "    </tr>\n",
       "    <tr>\n",
       "      <th>1</th>\n",
       "      <td>Home</td>\n",
       "      <td>Alone</td>\n",
       "      <td>Sunny</td>\n",
       "      <td>55</td>\n",
       "      <td>6PM</td>\n",
       "      <td>Bar</td>\n",
       "      <td>1d</td>\n",
       "      <td>Female</td>\n",
       "      <td>21</td>\n",
       "      <td>Unmarried partner</td>\n",
       "      <td>...</td>\n",
       "      <td>never</td>\n",
       "      <td>1~3</td>\n",
       "      <td>4~8</td>\n",
       "      <td>1~3</td>\n",
       "      <td>1</td>\n",
       "      <td>0</td>\n",
       "      <td>0</td>\n",
       "      <td>1</td>\n",
       "      <td>0</td>\n",
       "      <td>1</td>\n",
       "    </tr>\n",
       "    <tr>\n",
       "      <th>2</th>\n",
       "      <td>Work</td>\n",
       "      <td>Alone</td>\n",
       "      <td>Sunny</td>\n",
       "      <td>55</td>\n",
       "      <td>7AM</td>\n",
       "      <td>Bar</td>\n",
       "      <td>1d</td>\n",
       "      <td>Female</td>\n",
       "      <td>21</td>\n",
       "      <td>Unmarried partner</td>\n",
       "      <td>...</td>\n",
       "      <td>never</td>\n",
       "      <td>1~3</td>\n",
       "      <td>4~8</td>\n",
       "      <td>1~3</td>\n",
       "      <td>1</td>\n",
       "      <td>1</td>\n",
       "      <td>1</td>\n",
       "      <td>0</td>\n",
       "      <td>1</td>\n",
       "      <td>0</td>\n",
       "    </tr>\n",
       "    <tr>\n",
       "      <th>3</th>\n",
       "      <td>No Urgent Place</td>\n",
       "      <td>Friend(s)</td>\n",
       "      <td>Sunny</td>\n",
       "      <td>80</td>\n",
       "      <td>10AM</td>\n",
       "      <td>Bar</td>\n",
       "      <td>1d</td>\n",
       "      <td>Male</td>\n",
       "      <td>21</td>\n",
       "      <td>Single</td>\n",
       "      <td>...</td>\n",
       "      <td>less1</td>\n",
       "      <td>4~8</td>\n",
       "      <td>4~8</td>\n",
       "      <td>less1</td>\n",
       "      <td>1</td>\n",
       "      <td>0</td>\n",
       "      <td>0</td>\n",
       "      <td>0</td>\n",
       "      <td>1</td>\n",
       "      <td>1</td>\n",
       "    </tr>\n",
       "    <tr>\n",
       "      <th>4</th>\n",
       "      <td>Home</td>\n",
       "      <td>Alone</td>\n",
       "      <td>Sunny</td>\n",
       "      <td>55</td>\n",
       "      <td>6PM</td>\n",
       "      <td>Bar</td>\n",
       "      <td>1d</td>\n",
       "      <td>Male</td>\n",
       "      <td>21</td>\n",
       "      <td>Single</td>\n",
       "      <td>...</td>\n",
       "      <td>less1</td>\n",
       "      <td>4~8</td>\n",
       "      <td>4~8</td>\n",
       "      <td>less1</td>\n",
       "      <td>1</td>\n",
       "      <td>0</td>\n",
       "      <td>0</td>\n",
       "      <td>1</td>\n",
       "      <td>0</td>\n",
       "      <td>1</td>\n",
       "    </tr>\n",
       "  </tbody>\n",
       "</table>\n",
       "<p>5 rows × 25 columns</p>\n",
       "</div>"
      ],
      "text/plain": [
       "       destination  passanger weather  temperature  time coupon expiration  \\\n",
       "0  No Urgent Place     Kid(s)   Sunny           80  10AM    Bar         1d   \n",
       "1             Home      Alone   Sunny           55   6PM    Bar         1d   \n",
       "2             Work      Alone   Sunny           55   7AM    Bar         1d   \n",
       "3  No Urgent Place  Friend(s)   Sunny           80  10AM    Bar         1d   \n",
       "4             Home      Alone   Sunny           55   6PM    Bar         1d   \n",
       "\n",
       "   gender age      maritalStatus  ...  CoffeeHouse CarryAway  \\\n",
       "0  Female  21  Unmarried partner  ...        never       1~3   \n",
       "1  Female  21  Unmarried partner  ...        never       1~3   \n",
       "2  Female  21  Unmarried partner  ...        never       1~3   \n",
       "3    Male  21             Single  ...        less1       4~8   \n",
       "4    Male  21             Single  ...        less1       4~8   \n",
       "\n",
       "  RestaurantLessThan20 Restaurant20To50 toCoupon_GEQ5min toCoupon_GEQ15min  \\\n",
       "0                  4~8              1~3                1                 1   \n",
       "1                  4~8              1~3                1                 0   \n",
       "2                  4~8              1~3                1                 1   \n",
       "3                  4~8            less1                1                 0   \n",
       "4                  4~8            less1                1                 0   \n",
       "\n",
       "  toCoupon_GEQ25min direction_same direction_opp  Y  \n",
       "0                 0              0             1  0  \n",
       "1                 0              1             0  1  \n",
       "2                 1              0             1  0  \n",
       "3                 0              0             1  1  \n",
       "4                 0              1             0  1  \n",
       "\n",
       "[5 rows x 25 columns]"
      ]
     },
     "execution_count": 100,
     "metadata": {},
     "output_type": "execute_result"
    }
   ],
   "source": [
    "bar_coupons = new_data[new_data['coupon'] == 'Bar']\n",
    "bar_coupons = bar_coupons.reset_index(drop=True)\n",
    "bar_coupons.head()"
   ]
  },
  {
   "cell_type": "markdown",
   "metadata": {
    "id": "8ue6uCqf_qRJ"
   },
   "source": [
    "2. What proportion of bar coupons were accepted?\n"
   ]
  },
  {
   "cell_type": "code",
   "execution_count": 101,
   "metadata": {
    "id": "hSdte8Mi_qRK"
   },
   "outputs": [
    {
     "name": "stdout",
     "output_type": "stream",
     "text": [
      "Proportion of accepted bar coupons: 0.41\n"
     ]
    }
   ],
   "source": [
    "bar_coupons_accepted = len(bar_coupons[bar_coupons['Y'] == 1])\n",
    "total = len(bar_coupons)\n",
    "proportion_accepted = bar_coupons_accepted / total\n",
    "\n",
    "print(f\"Proportion of accepted bar coupons: {proportion_accepted:.2f}\")"
   ]
  },
  {
   "cell_type": "markdown",
   "metadata": {
    "id": "85nA_iEi_qRK"
   },
   "source": [
    "3. Compare the acceptance rate between those who went to a bar 3 or fewer times a month to those who went more."
   ]
  },
  {
   "cell_type": "code",
   "execution_count": 102,
   "metadata": {
    "id": "LBOrN-XM_qRK"
   },
   "outputs": [
    {
     "data": {
      "image/png": "[encoded data removed]",
      "text/plain": [
       "<Figure size 600x400 with 1 Axes>"
      ]
     },
     "metadata": {},
     "output_type": "display_data"
    },
    {
     "name": "stdout",
     "output_type": "stream",
     "text": [
      "Acceptance rate for people who go to bars ≤ 3 times/month: 0.37\n",
      "Acceptance rate for people who go to bars > 3 times/month: 0.77\n"
     ]
    }
   ],
   "source": [
    "less_than_3_times = bar_coupons[bar_coupons['Bar'].isin(['never', 'less1', '1~3'])]\n",
    "more_than_3_times = bar_coupons[bar_coupons['Bar'].isin(['4~8', 'gt8'])]\n",
    "\n",
    "less_than_three_accept_rate = less_than_3_times['Y'].mean()\n",
    "more_than_three_accept_rate = more_than_3_times['Y'].mean()\n",
    "\n",
    "groups = ['Visited 3 or fewer times a month \\n (≤ 3x)', 'Visited more than 3 times \\n (> 3x)']\n",
    "accept_rates = [less_than_three_accept_rate, more_than_three_accept_rate]\n",
    "\n",
    "# Plot\n",
    "plt.figure(figsize=(6,4))\n",
    "bars = plt.bar(groups, accept_rates, color=['skyblue', 'pink'])\n",
    "\n",
    "for bar, rate in zip(bars, accept_rates):\n",
    "    plt.text(bar.get_x() + bar.get_width()/2, bar.get_height() + 0.01,\n",
    "             f'{rate:.2}', ha='center', va='bottom')\n",
    "\n",
    "plt.ylim(0, 1.1)\n",
    "plt.ylabel('Acceptance Rate')\n",
    "plt.title('Bar Coupon Acceptance Rate by Bar Visit Frequency')\n",
    "plt.tight_layout()\n",
    "plt.savefig(\"images/acceptance_rate_by_bar_visit_frequency_image.png\", dpi=500, bbox_inches='tight')  # Save as PNG\n",
    "plt.show()\n",
    "\n",
    "# Print results\n",
    "print(f\"Acceptance rate for people who go to bars ≤ 3 times/month: {less_than_three_accept_rate:.2f}\")\n",
    "print(f\"Acceptance rate for people who go to bars > 3 times/month: {more_than_three_accept_rate:.2f}\")"
   ]
  },
  {
   "cell_type": "markdown",
   "metadata": {
    "id": "RBgcQwH4_qRK"
   },
   "source": [
    "4. Compare the acceptance rate between drivers who go to a bar more than once a month and are over the age of 25 to the all others.  Is there a difference?\n"
   ]
  },
  {
   "cell_type": "code",
   "execution_count": 103,
   "metadata": {
    "id": "bf28bbeX_qRK"
   },
   "outputs": [
    {
     "data": {
      "image/png": "[encoded data removed]",
      "text/plain": [
       "<Figure size 700x400 with 1 Axes>"
      ]
     },
     "metadata": {},
     "output_type": "display_data"
    }
   ],
   "source": [
    "bar_coupons_filtered = bar_coupons.copy()\n",
    "age_mapping = {'<21': 20, '21': 21, '22': 22, '26~30': 28, '31~35': 33, '36~40': 38, '41~45': 43, '46~50': 48, '50plus': 55}\n",
    "bar_coupons_filtered['age_numeric'] = bar_coupons_filtered['age'].map(age_mapping)\n",
    "bar_coupons_filtered['age_numeric'] = pd.to_numeric(bar_coupons_filtered['age_numeric'])\n",
    "\n",
    "target_group = bar_coupons_filtered[\n",
    "    (bar_coupons_filtered['Bar'].isin(['1~3', '4~8', 'gt8'])) &\n",
    "    (bar_coupons_filtered['age_numeric'] > 25)\n",
    "]\n",
    "\n",
    "all_others_group = bar_coupons_filtered.drop(target_group.index)\n",
    "\n",
    "target_accept_rate = target_group['Y'].mean()\n",
    "others_accept_rate = all_others_group['Y'].mean()\n",
    "\n",
    "groups = ['Goes to Bar > 1x/Month \\n & Age > 25', 'All Others']\n",
    "accept_rates = [target_accept_rate, others_accept_rate]\n",
    "\n",
    "# Plot\n",
    "plt.figure(figsize=(7, 4))\n",
    "plt.pie(accept_rates, labels=groups, colors=['salmon', 'lightblue'], autopct='%.2f%%', startangle=90)\n",
    "\n",
    "plt.title('Bar Coupon Acceptance Rate: Target Group vs. All Others')\n",
    "plt.tight_layout()\n",
    "plt.savefig(\"images/acceptance_rate_by_target_group_vs_all_others.png\", dpi=500, bbox_inches='tight')  # Save as PNG\n",
    "plt.show()"
   ]
  },
  {
   "cell_type": "markdown",
   "metadata": {
    "id": "S4RKT4PJ_qRK"
   },
   "source": [
    "5. Use the same process to compare the acceptance rate between drivers who go to bars more than once a month and had passengers that were not a kid and had occupations other than farming, fishing, or forestry.\n"
   ]
  },
  {
   "cell_type": "code",
   "execution_count": 88,
   "metadata": {},
   "outputs": [
    {
     "data": {
      "image/png": "[encoded data removed]",
      "text/plain": [
       "<Figure size 700x500 with 1 Axes>"
      ]
     },
     "metadata": {},
     "output_type": "display_data"
    },
    {
     "name": "stdout",
     "output_type": "stream",
     "text": [
      "Acceptance rate for complex target group: 0.69\n",
      "Acceptance rate for all others: 0.29\n"
     ]
    }
   ],
   "source": [
    "target_group_complex = bar_coupons[\n",
    "    (bar_coupons['Bar'].isin(['1~3', '4~8', 'gt8'])) & \n",
    "    (~bar_coupons['passanger'].isin(['kid(s)'])) &  \n",
    "    (~bar_coupons['occupation'].isin(['Farming Fishing & Forestry'])) \n",
    "]\n",
    "all_others_group_complex = bar_coupons.drop(target_group_complex.index)\n",
    "\n",
    "target_accept_rate_complex = target_group_complex['Y'].mean()\n",
    "others_accept_rate_complex = all_others_group_complex['Y'].mean()\n",
    "\n",
    "groups_complex = ['Goes to Bar > 1x/Month,\\n No Kids Passenger, \\n Work: Not Farming/Fishing/Forestry', 'All Others']\n",
    "accept_rates_complex = [target_accept_rate_complex, others_accept_rate_complex]\n",
    "\n",
    "# Plot\n",
    "plt.figure(figsize=(7, 5))\n",
    "bars_complex = plt.bar(groups_complex, accept_rates_complex, color=['teal', 'purple'])\n",
    "\n",
    "for bar, rate in zip(bars_complex, accept_rates_complex):\n",
    "    plt.text(bar.get_x() + bar.get_width() / 2, bar.get_height() + 0.01,\n",
    "             f'{rate:.2f}', ha='center', va='bottom')\n",
    "\n",
    "plt.ylim(0, 1.1)\n",
    "plt.ylabel('Acceptance Rate')\n",
    "plt.title('Bar Coupon Acceptance Rate: Required Target Group vs. All Others')\n",
    "plt.tight_layout()\n",
    "plt.savefig(\"images/acceptance_rate_by_required_target_group_vs_all_others.png\", dpi=500, bbox_inches='tight')  # Save as PNG\n",
    "plt.show()\n",
    "\n",
    "# Print results\n",
    "print(f\"Acceptance rate for complex target group: {target_accept_rate_complex:.2f}\")\n",
    "print(f\"Acceptance rate for all others: {others_accept_rate_complex:.2f}\")"
   ]
  },
  {
   "cell_type": "code",
   "execution_count": 81,
   "metadata": {
    "id": "sENaI2Tg_qRK"
   },
   "outputs": [
    {
     "data": {
      "application/vnd.plotly.v1+json": {
       "config": {
        "plotlyServerURL": "https://plot.ly"
       },
       "data": [
        {
         "hovertemplate": "occupation=%{y}<br>Y=%{x}<br>text=%{text}<extra></extra>",
         "legendgroup": "Building & Grounds Cleaning & Maintenance",
         "marker": {
          "color": "rgb(141,211,199)",
          "pattern": {
           "shape": ""
          }
         },
         "name": "Building & Grounds Cleaning & Maintenance",
         "orientation": "h",
         "showlegend": true,
         "text": [
          "0.25"
         ],
         "textposition": "outside",
         "type": "bar",
         "x": {
          "bdata": "AAAAAAAA0D8=",
          "dtype": "f8"
         },
         "xaxis": "x",
         "y": [
          "Building & Grounds Cleaning & Maintenance"
         ],
         "yaxis": "y"
        },
        {
         "hovertemplate": "occupation=%{y}<br>Y=%{x}<br>text=%{text}<extra></extra>",
         "legendgroup": "Retired",
         "marker": {
          "color": "rgb(255,255,179)",
          "pattern": {
           "shape": ""
          }
         },
         "name": "Retired",
         "orientation": "h",
         "showlegend": true,
         "text": [
          "0.40"
         ],
         "textposition": "outside",
         "type": "bar",
         "x": {
          "bdata": "mpmZmZmZ2T8=",
          "dtype": "f8"
         },
         "xaxis": "x",
         "y": [
          "Retired"
         ],
         "yaxis": "y"
        },
        {
         "hovertemplate": "occupation=%{y}<br>Y=%{x}<br>text=%{text}<extra></extra>",
         "legendgroup": "Education&Training&Library",
         "marker": {
          "color": "rgb(190,186,218)",
          "pattern": {
           "shape": ""
          }
         },
         "name": "Education&Training&Library",
         "orientation": "h",
         "showlegend": true,
         "text": [
          "0.43"
         ],
         "textposition": "outside",
         "type": "bar",
         "x": {
          "bdata": "27Zt27Zt2z8=",
          "dtype": "f8"
         },
         "xaxis": "x",
         "y": [
          "Education&Training&Library"
         ],
         "yaxis": "y"
        },
        {
         "hovertemplate": "occupation=%{y}<br>Y=%{x}<br>text=%{text}<extra></extra>",
         "legendgroup": "Installation Maintenance & Repair",
         "marker": {
          "color": "rgb(251,128,114)",
          "pattern": {
           "shape": ""
          }
         },
         "name": "Installation Maintenance & Repair",
         "orientation": "h",
         "showlegend": true,
         "text": [
          "0.45"
         ],
         "textposition": "outside",
         "type": "bar",
         "x": {
          "bdata": "F1100UUX3T8=",
          "dtype": "f8"
         },
         "xaxis": "x",
         "y": [
          "Installation Maintenance & Repair"
         ],
         "yaxis": "y"
        },
        {
         "hovertemplate": "occupation=%{y}<br>Y=%{x}<br>text=%{text}<extra></extra>",
         "legendgroup": "Transportation & Material Moving",
         "marker": {
          "color": "rgb(128,177,211)",
          "pattern": {
           "shape": ""
          }
         },
         "name": "Transportation & Material Moving",
         "orientation": "h",
         "showlegend": true,
         "text": [
          "0.54"
         ],
         "textposition": "outside",
         "type": "bar",
         "x": {
          "bdata": "sRM7sRM74T8=",
          "dtype": "f8"
         },
         "xaxis": "x",
         "y": [
          "Transportation & Material Moving"
         ],
         "yaxis": "y"
        },
        {
         "hovertemplate": "occupation=%{y}<br>Y=%{x}<br>text=%{text}<extra></extra>",
         "legendgroup": "Legal",
         "marker": {
          "color": "rgb(253,180,98)",
          "pattern": {
           "shape": ""
          }
         },
         "name": "Legal",
         "orientation": "h",
         "showlegend": true,
         "text": [
          "0.59"
         ],
         "textposition": "outside",
         "type": "bar",
         "x": {
          "bdata": "09LS0tLS4j8=",
          "dtype": "f8"
         },
         "xaxis": "x",
         "y": [
          "Legal"
         ],
         "yaxis": "y"
        },
        {
         "hovertemplate": "occupation=%{y}<br>Y=%{x}<br>text=%{text}<extra></extra>",
         "legendgroup": "Computer & Mathematical",
         "marker": {
          "color": "rgb(179,222,105)",
          "pattern": {
           "shape": ""
          }
         },
         "name": "Computer & Mathematical",
         "orientation": "h",
         "showlegend": true,
         "text": [
          "0.60"
         ],
         "textposition": "outside",
         "type": "bar",
         "x": {
          "bdata": "MzMzMzMz4z8=",
          "dtype": "f8"
         },
         "xaxis": "x",
         "y": [
          "Computer & Mathematical"
         ],
         "yaxis": "y"
        },
        {
         "hovertemplate": "occupation=%{y}<br>Y=%{x}<br>text=%{text}<extra></extra>",
         "legendgroup": "Business & Financial",
         "marker": {
          "color": "rgb(252,205,229)",
          "pattern": {
           "shape": ""
          }
         },
         "name": "Business & Financial",
         "orientation": "h",
         "showlegend": true,
         "text": [
          "0.61"
         ],
         "textposition": "outside",
         "type": "bar",
         "x": {
          "bdata": "27Zt27Zt4z8=",
          "dtype": "f8"
         },
         "xaxis": "x",
         "y": [
          "Business & Financial"
         ],
         "yaxis": "y"
        },
        {
         "hovertemplate": "occupation=%{y}<br>Y=%{x}<br>text=%{text}<extra></extra>",
         "legendgroup": "Personal Care & Service",
         "marker": {
          "color": "rgb(217,217,217)",
          "pattern": {
           "shape": ""
          }
         },
         "name": "Personal Care & Service",
         "orientation": "h",
         "showlegend": true,
         "text": [
          "0.64"
         ],
         "textposition": "outside",
         "type": "bar",
         "x": {
          "bdata": "XXTRRRdd5D8=",
          "dtype": "f8"
         },
         "xaxis": "x",
         "y": [
          "Personal Care & Service"
         ],
         "yaxis": "y"
        },
        {
         "hovertemplate": "occupation=%{y}<br>Y=%{x}<br>text=%{text}<extra></extra>",
         "legendgroup": "Student",
         "marker": {
          "color": "rgb(188,128,189)",
          "pattern": {
           "shape": ""
          }
         },
         "name": "Student",
         "orientation": "h",
         "showlegend": true,
         "text": [
          "0.66"
         ],
         "textposition": "outside",
         "type": "bar",
         "x": {
          "bdata": "dVAHdVAH5T8=",
          "dtype": "f8"
         },
         "xaxis": "x",
         "y": [
          "Student"
         ],
         "yaxis": "y"
        },
        {
         "hovertemplate": "occupation=%{y}<br>Y=%{x}<br>text=%{text}<extra></extra>",
         "legendgroup": "Life Physical Social Science",
         "marker": {
          "color": "rgb(204,235,197)",
          "pattern": {
           "shape": ""
          }
         },
         "name": "Life Physical Social Science",
         "orientation": "h",
         "showlegend": true,
         "text": [
          "0.67"
         ],
         "textposition": "outside",
         "type": "bar",
         "x": {
          "bdata": "VVVVVVVV5T8=",
          "dtype": "f8"
         },
         "xaxis": "x",
         "y": [
          "Life Physical Social Science"
         ],
         "yaxis": "y"
        },
        {
         "hovertemplate": "occupation=%{y}<br>Y=%{x}<br>text=%{text}<extra></extra>",
         "legendgroup": "Healthcare Practitioners & Technical",
         "marker": {
          "color": "rgb(255,237,111)",
          "pattern": {
           "shape": ""
          }
         },
         "name": "Healthcare Practitioners & Technical",
         "orientation": "h",
         "showlegend": true,
         "text": [
          "0.67"
         ],
         "textposition": "outside",
         "type": "bar",
         "x": {
          "bdata": "VVVVVVVV5T8=",
          "dtype": "f8"
         },
         "xaxis": "x",
         "y": [
          "Healthcare Practitioners & Technical"
         ],
         "yaxis": "y"
        },
        {
         "hovertemplate": "occupation=%{y}<br>Y=%{x}<br>text=%{text}<extra></extra>",
         "legendgroup": "Sales & Related",
         "marker": {
          "color": "rgb(141,211,199)",
          "pattern": {
           "shape": ""
          }
         },
         "name": "Sales & Related",
         "orientation": "h",
         "showlegend": true,
         "text": [
          "0.67"
         ],
         "textposition": "outside",
         "type": "bar",
         "x": {
          "bdata": "9UDl7BZ+5T8=",
          "dtype": "f8"
         },
         "xaxis": "x",
         "y": [
          "Sales & Related"
         ],
         "yaxis": "y"
        },
        {
         "hovertemplate": "occupation=%{y}<br>Y=%{x}<br>text=%{text}<extra></extra>",
         "legendgroup": "Food Preparation & Serving Related",
         "marker": {
          "color": "rgb(255,255,179)",
          "pattern": {
           "shape": ""
          }
         },
         "name": "Food Preparation & Serving Related",
         "orientation": "h",
         "showlegend": true,
         "text": [
          "0.73"
         ],
         "textposition": "outside",
         "type": "bar",
         "x": {
          "bdata": "d3d3d3d35z8=",
          "dtype": "f8"
         },
         "xaxis": "x",
         "y": [
          "Food Preparation & Serving Related"
         ],
         "yaxis": "y"
        },
        {
         "hovertemplate": "occupation=%{y}<br>Y=%{x}<br>text=%{text}<extra></extra>",
         "legendgroup": "Office & Administrative Support",
         "marker": {
          "color": "rgb(190,186,218)",
          "pattern": {
           "shape": ""
          }
         },
         "name": "Office & Administrative Support",
         "orientation": "h",
         "showlegend": true,
         "text": [
          "0.75"
         ],
         "textposition": "outside",
         "type": "bar",
         "x": {
          "bdata": "AAAAAAAA6D8=",
          "dtype": "f8"
         },
         "xaxis": "x",
         "y": [
          "Office & Administrative Support"
         ],
         "yaxis": "y"
        },
        {
         "hovertemplate": "occupation=%{y}<br>Y=%{x}<br>text=%{text}<extra></extra>",
         "legendgroup": "Management",
         "marker": {
          "color": "rgb(251,128,114)",
          "pattern": {
           "shape": ""
          }
         },
         "name": "Management",
         "orientation": "h",
         "showlegend": true,
         "text": [
          "0.77"
         ],
         "textposition": "outside",
         "type": "bar",
         "x": {
          "bdata": "2Ymd2Imd6D8=",
          "dtype": "f8"
         },
         "xaxis": "x",
         "y": [
          "Management"
         ],
         "yaxis": "y"
        },
        {
         "hovertemplate": "occupation=%{y}<br>Y=%{x}<br>text=%{text}<extra></extra>",
         "legendgroup": "Production Occupations",
         "marker": {
          "color": "rgb(128,177,211)",
          "pattern": {
           "shape": ""
          }
         },
         "name": "Production Occupations",
         "orientation": "h",
         "showlegend": true,
         "text": [
          "0.80"
         ],
         "textposition": "outside",
         "type": "bar",
         "x": {
          "bdata": "mpmZmZmZ6T8=",
          "dtype": "f8"
         },
         "xaxis": "x",
         "y": [
          "Production Occupations"
         ],
         "yaxis": "y"
        },
        {
         "hovertemplate": "occupation=%{y}<br>Y=%{x}<br>text=%{text}<extra></extra>",
         "legendgroup": "Protective Service",
         "marker": {
          "color": "rgb(253,180,98)",
          "pattern": {
           "shape": ""
          }
         },
         "name": "Protective Service",
         "orientation": "h",
         "showlegend": true,
         "text": [
          "0.80"
         ],
         "textposition": "outside",
         "type": "bar",
         "x": {
          "bdata": "mpmZmZmZ6T8=",
          "dtype": "f8"
         },
         "xaxis": "x",
         "y": [
          "Protective Service"
         ],
         "yaxis": "y"
        },
        {
         "hovertemplate": "occupation=%{y}<br>Y=%{x}<br>text=%{text}<extra></extra>",
         "legendgroup": "Arts Design Entertainment Sports & Media",
         "marker": {
          "color": "rgb(179,222,105)",
          "pattern": {
           "shape": ""
          }
         },
         "name": "Arts Design Entertainment Sports & Media",
         "orientation": "h",
         "showlegend": true,
         "text": [
          "0.81"
         ],
         "textposition": "outside",
         "type": "bar",
         "x": {
          "bdata": "ip3YiZ3Y6T8=",
          "dtype": "f8"
         },
         "xaxis": "x",
         "y": [
          "Arts Design Entertainment Sports & Media"
         ],
         "yaxis": "y"
        },
        {
         "hovertemplate": "occupation=%{y}<br>Y=%{x}<br>text=%{text}<extra></extra>",
         "legendgroup": "Community & Social Services",
         "marker": {
          "color": "rgb(252,205,229)",
          "pattern": {
           "shape": ""
          }
         },
         "name": "Community & Social Services",
         "orientation": "h",
         "showlegend": true,
         "text": [
          "0.83"
         ],
         "textposition": "outside",
         "type": "bar",
         "x": {
          "bdata": "q6qqqqqq6j8=",
          "dtype": "f8"
         },
         "xaxis": "x",
         "y": [
          "Community & Social Services"
         ],
         "yaxis": "y"
        },
        {
         "hovertemplate": "occupation=%{y}<br>Y=%{x}<br>text=%{text}<extra></extra>",
         "legendgroup": "Construction & Extraction",
         "marker": {
          "color": "rgb(217,217,217)",
          "pattern": {
           "shape": ""
          }
         },
         "name": "Construction & Extraction",
         "orientation": "h",
         "showlegend": true,
         "text": [
          "0.86"
         ],
         "textposition": "outside",
         "type": "bar",
         "x": {
          "bdata": "27Zt27Zt6z8=",
          "dtype": "f8"
         },
         "xaxis": "x",
         "y": [
          "Construction & Extraction"
         ],
         "yaxis": "y"
        },
        {
         "hovertemplate": "occupation=%{y}<br>Y=%{x}<br>text=%{text}<extra></extra>",
         "legendgroup": "Healthcare Support",
         "marker": {
          "color": "rgb(188,128,189)",
          "pattern": {
           "shape": ""
          }
         },
         "name": "Healthcare Support",
         "orientation": "h",
         "showlegend": true,
         "text": [
          "0.91"
         ],
         "textposition": "outside",
         "type": "bar",
         "x": {
          "bdata": "F1100UUX7T8=",
          "dtype": "f8"
         },
         "xaxis": "x",
         "y": [
          "Healthcare Support"
         ],
         "yaxis": "y"
        },
        {
         "hovertemplate": "occupation=%{y}<br>Y=%{x}<br>text=%{text}<extra></extra>",
         "legendgroup": "Architecture & Engineering",
         "marker": {
          "color": "rgb(204,235,197)",
          "pattern": {
           "shape": ""
          }
         },
         "name": "Architecture & Engineering",
         "orientation": "h",
         "showlegend": true,
         "text": [
          "1.00"
         ],
         "textposition": "outside",
         "type": "bar",
         "x": {
          "bdata": "AAAAAAAA8D8=",
          "dtype": "f8"
         },
         "xaxis": "x",
         "y": [
          "Architecture & Engineering"
         ],
         "yaxis": "y"
        }
       ],
       "layout": {
        "barmode": "relative",
        "height": 600,
        "legend": {
         "title": {
          "text": "occupation"
         },
         "tracegroupgap": 0
        },
        "margin": {
         "t": 60
        },
        "showlegend": false,
        "template": {
         "data": {
          "bar": [
           {
            "error_x": {
             "color": "#2a3f5f"
            },
            "error_y": {
             "color": "#2a3f5f"
            },
            "marker": {
             "line": {
              "color": "#E5ECF6",
              "width": 0.5
             },
             "pattern": {
              "fillmode": "overlay",
              "size": 10,
              "solidity": 0.2
             }
            },
            "type": "bar"
           }
          ],
          "barpolar": [
           {
            "marker": {
             "line": {
              "color": "#E5ECF6",
              "width": 0.5
             },
             "pattern": {
              "fillmode": "overlay",
              "size": 10,
              "solidity": 0.2
             }
            },
            "type": "barpolar"
           }
          ],
          "carpet": [
           {
            "aaxis": {
             "endlinecolor": "#2a3f5f",
             "gridcolor": "white",
             "linecolor": "white",
             "minorgridcolor": "white",
             "startlinecolor": "#2a3f5f"
            },
            "baxis": {
             "endlinecolor": "#2a3f5f",
             "gridcolor": "white",
             "linecolor": "white",
             "minorgridcolor": "white",
             "startlinecolor": "#2a3f5f"
            },
            "type": "carpet"
           }
          ],
          "choropleth": [
           {
            "colorbar": {
             "outlinewidth": 0,
             "ticks": ""
            },
            "type": "choropleth"
           }
          ],
          "contour": [
           {
            "colorbar": {
             "outlinewidth": 0,
             "ticks": ""
            },
            "colorscale": [
             [
              0,
              "#0d0887"
             ],
             [
              0.1111111111111111,
              "#46039f"
             ],
             [
              0.2222222222222222,
              "#7201a8"
             ],
             [
              0.3333333333333333,
              "#9c179e"
             ],
             [
              0.4444444444444444,
              "#bd3786"
             ],
             [
              0.5555555555555556,
              "#d8576b"
             ],
             [
              0.6666666666666666,
              "#ed7953"
             ],
             [
              0.7777777777777778,
              "#fb9f3a"
             ],
             [
              0.8888888888888888,
              "#fdca26"
             ],
             [
              1,
              "#f0f921"
             ]
            ],
            "type": "contour"
           }
          ],
          "contourcarpet": [
           {
            "colorbar": {
             "outlinewidth": 0,
             "ticks": ""
            },
            "type": "contourcarpet"
           }
          ],
          "heatmap": [
           {
            "colorbar": {
             "outlinewidth": 0,
             "ticks": ""
            },
            "colorscale": [
             [
              0,
              "#0d0887"
             ],
             [
              0.1111111111111111,
              "#46039f"
             ],
             [
              0.2222222222222222,
              "#7201a8"
             ],
             [
              0.3333333333333333,
              "#9c179e"
             ],
             [
              0.4444444444444444,
              "#bd3786"
             ],
             [
              0.5555555555555556,
              "#d8576b"
             ],
             [
              0.6666666666666666,
              "#ed7953"
             ],
             [
              0.7777777777777778,
              "#fb9f3a"
             ],
             [
              0.8888888888888888,
              "#fdca26"
             ],
             [
              1,
              "#f0f921"
             ]
            ],
            "type": "heatmap"
           }
          ],
          "histogram": [
           {
            "marker": {
             "pattern": {
              "fillmode": "overlay",
              "size": 10,
              "solidity": 0.2
             }
            },
            "type": "histogram"
           }
          ],
          "histogram2d": [
           {
            "colorbar": {
             "outlinewidth": 0,
             "ticks": ""
            },
            "colorscale": [
             [
              0,
              "#0d0887"
             ],
             [
              0.1111111111111111,
              "#46039f"
             ],
             [
              0.2222222222222222,
              "#7201a8"
             ],
             [
              0.3333333333333333,
              "#9c179e"
             ],
             [
              0.4444444444444444,
              "#bd3786"
             ],
             [
              0.5555555555555556,
              "#d8576b"
             ],
             [
              0.6666666666666666,
              "#ed7953"
             ],
             [
              0.7777777777777778,
              "#fb9f3a"
             ],
             [
              0.8888888888888888,
              "#fdca26"
             ],
             [
              1,
              "#f0f921"
             ]
            ],
            "type": "histogram2d"
           }
          ],
          "histogram2dcontour": [
           {
            "colorbar": {
             "outlinewidth": 0,
             "ticks": ""
            },
            "colorscale": [
             [
              0,
              "#0d0887"
             ],
             [
              0.1111111111111111,
              "#46039f"
             ],
             [
              0.2222222222222222,
              "#7201a8"
             ],
             [
              0.3333333333333333,
              "#9c179e"
             ],
             [
              0.4444444444444444,
              "#bd3786"
             ],
             [
              0.5555555555555556,
              "#d8576b"
             ],
             [
              0.6666666666666666,
              "#ed7953"
             ],
             [
              0.7777777777777778,
              "#fb9f3a"
             ],
             [
              0.8888888888888888,
              "#fdca26"
             ],
             [
              1,
              "#f0f921"
             ]
            ],
            "type": "histogram2dcontour"
           }
          ],
          "mesh3d": [
           {
            "colorbar": {
             "outlinewidth": 0,
             "ticks": ""
            },
            "type": "mesh3d"
           }
          ],
          "parcoords": [
           {
            "line": {
             "colorbar": {
              "outlinewidth": 0,
              "ticks": ""
             }
            },
            "type": "parcoords"
           }
          ],
          "pie": [
           {
            "automargin": true,
            "type": "pie"
           }
          ],
          "scatter": [
           {
            "fillpattern": {
             "fillmode": "overlay",
             "size": 10,
             "solidity": 0.2
            },
            "type": "scatter"
           }
          ],
          "scatter3d": [
           {
            "line": {
             "colorbar": {
              "outlinewidth": 0,
              "ticks": ""
             }
            },
            "marker": {
             "colorbar": {
              "outlinewidth": 0,
              "ticks": ""
             }
            },
            "type": "scatter3d"
           }
          ],
          "scattercarpet": [
           {
            "marker": {
             "colorbar": {
              "outlinewidth": 0,
              "ticks": ""
             }
            },
            "type": "scattercarpet"
           }
          ],
          "scattergeo": [
           {
            "marker": {
             "colorbar": {
              "outlinewidth": 0,
              "ticks": ""
             }
            },
            "type": "scattergeo"
           }
          ],
          "scattergl": [
           {
            "marker": {
             "colorbar": {
              "outlinewidth": 0,
              "ticks": ""
             }
            },
            "type": "scattergl"
           }
          ],
          "scattermap": [
           {
            "marker": {
             "colorbar": {
              "outlinewidth": 0,
              "ticks": ""
             }
            },
            "type": "scattermap"
           }
          ],
          "scattermapbox": [
           {
            "marker": {
             "colorbar": {
              "outlinewidth": 0,
              "ticks": ""
             }
            },
            "type": "scattermapbox"
           }
          ],
          "scatterpolar": [
           {
            "marker": {
             "colorbar": {
              "outlinewidth": 0,
              "ticks": ""
             }
            },
            "type": "scatterpolar"
           }
          ],
          "scatterpolargl": [
           {
            "marker": {
             "colorbar": {
              "outlinewidth": 0,
              "ticks": ""
             }
            },
            "type": "scatterpolargl"
           }
          ],
          "scatterternary": [
           {
            "marker": {
             "colorbar": {
              "outlinewidth": 0,
              "ticks": ""
             }
            },
            "type": "scatterternary"
           }
          ],
          "surface": [
           {
            "colorbar": {
             "outlinewidth": 0,
             "ticks": ""
            },
            "colorscale": [
             [
              0,
              "#0d0887"
             ],
             [
              0.1111111111111111,
              "#46039f"
             ],
             [
              0.2222222222222222,
              "#7201a8"
             ],
             [
              0.3333333333333333,
              "#9c179e"
             ],
             [
              0.4444444444444444,
              "#bd3786"
             ],
             [
              0.5555555555555556,
              "#d8576b"
             ],
             [
              0.6666666666666666,
              "#ed7953"
             ],
             [
              0.7777777777777778,
              "#fb9f3a"
             ],
             [
              0.8888888888888888,
              "#fdca26"
             ],
             [
              1,
              "#f0f921"
             ]
            ],
            "type": "surface"
           }
          ],
          "table": [
           {
            "cells": {
             "fill": {
              "color": "#EBF0F8"
             },
             "line": {
              "color": "white"
             }
            },
            "header": {
             "fill": {
              "color": "#C8D4E3"
             },
             "line": {
              "color": "white"
             }
            },
            "type": "table"
           }
          ]
         },
         "layout": {
          "annotationdefaults": {
           "arrowcolor": "#2a3f5f",
           "arrowhead": 0,
           "arrowwidth": 1
          },
          "autotypenumbers": "strict",
          "coloraxis": {
           "colorbar": {
            "outlinewidth": 0,
            "ticks": ""
           }
          },
          "colorscale": {
           "diverging": [
            [
             0,
             "#8e0152"
            ],
            [
             0.1,
             "#c51b7d"
            ],
            [
             0.2,
             "#de77ae"
            ],
            [
             0.3,
             "#f1b6da"
            ],
            [
             0.4,
             "#fde0ef"
            ],
            [
             0.5,
             "#f7f7f7"
            ],
            [
             0.6,
             "#e6f5d0"
            ],
            [
             0.7,
             "#b8e186"
            ],
            [
             0.8,
             "#7fbc41"
            ],
            [
             0.9,
             "#4d9221"
            ],
            [
             1,
             "#276419"
            ]
           ],
           "sequential": [
            [
             0,
             "#0d0887"
            ],
            [
             0.1111111111111111,
             "#46039f"
            ],
            [
             0.2222222222222222,
             "#7201a8"
            ],
            [
             0.3333333333333333,
             "#9c179e"
            ],
            [
             0.4444444444444444,
             "#bd3786"
            ],
            [
             0.5555555555555556,
             "#d8576b"
            ],
            [
             0.6666666666666666,
             "#ed7953"
            ],
            [
             0.7777777777777778,
             "#fb9f3a"
            ],
            [
             0.8888888888888888,
             "#fdca26"
            ],
            [
             1,
             "#f0f921"
            ]
           ],
           "sequentialminus": [
            [
             0,
             "#0d0887"
            ],
            [
             0.1111111111111111,
             "#46039f"
            ],
            [
             0.2222222222222222,
             "#7201a8"
            ],
            [
             0.3333333333333333,
             "#9c179e"
            ],
            [
             0.4444444444444444,
             "#bd3786"
            ],
            [
             0.5555555555555556,
             "#d8576b"
            ],
            [
             0.6666666666666666,
             "#ed7953"
            ],
            [
             0.7777777777777778,
             "#fb9f3a"
            ],
            [
             0.8888888888888888,
             "#fdca26"
            ],
            [
             1,
             "#f0f921"
            ]
           ]
          },
          "colorway": [
           "#636efa",
           "#EF553B",
           "#00cc96",
           "#ab63fa",
           "#FFA15A",
           "#19d3f3",
           "#FF6692",
           "#B6E880",
           "#FF97FF",
           "#FECB52"
          ],
          "font": {
           "color": "#2a3f5f"
          },
          "geo": {
           "bgcolor": "white",
           "lakecolor": "white",
           "landcolor": "#E5ECF6",
           "showlakes": true,
           "showland": true,
           "subunitcolor": "white"
          },
          "hoverlabel": {
           "align": "left"
          },
          "hovermode": "closest",
          "mapbox": {
           "style": "light"
          },
          "paper_bgcolor": "white",
          "plot_bgcolor": "#E5ECF6",
          "polar": {
           "angularaxis": {
            "gridcolor": "white",
            "linecolor": "white",
            "ticks": ""
           },
           "bgcolor": "#E5ECF6",
           "radialaxis": {
            "gridcolor": "white",
            "linecolor": "white",
            "ticks": ""
           }
          },
          "scene": {
           "xaxis": {
            "backgroundcolor": "#E5ECF6",
            "gridcolor": "white",
            "gridwidth": 2,
            "linecolor": "white",
            "showbackground": true,
            "ticks": "",
            "zerolinecolor": "white"
           },
           "yaxis": {
            "backgroundcolor": "#E5ECF6",
            "gridcolor": "white",
            "gridwidth": 2,
            "linecolor": "white",
            "showbackground": true,
            "ticks": "",
            "zerolinecolor": "white"
           },
           "zaxis": {
            "backgroundcolor": "#E5ECF6",
            "gridcolor": "white",
            "gridwidth": 2,
            "linecolor": "white",
            "showbackground": true,
            "ticks": "",
            "zerolinecolor": "white"
           }
          },
          "shapedefaults": {
           "line": {
            "color": "#2a3f5f"
           }
          },
          "ternary": {
           "aaxis": {
            "gridcolor": "white",
            "linecolor": "white",
            "ticks": ""
           },
           "baxis": {
            "gridcolor": "white",
            "linecolor": "white",
            "ticks": ""
           },
           "bgcolor": "#E5ECF6",
           "caxis": {
            "gridcolor": "white",
            "linecolor": "white",
            "ticks": ""
           }
          },
          "title": {
           "x": 0.05
          },
          "xaxis": {
           "automargin": true,
           "gridcolor": "white",
           "linecolor": "white",
           "ticks": "",
           "title": {
            "standoff": 15
           },
           "zerolinecolor": "white",
           "zerolinewidth": 2
          },
          "yaxis": {
           "automargin": true,
           "gridcolor": "white",
           "linecolor": "white",
           "ticks": "",
           "title": {
            "standoff": 15
           },
           "zerolinecolor": "white",
           "zerolinewidth": 2
          }
         }
        },
        "title": {
         "text": "Bar Coupon Acceptance Rate by Occupation<br><sup>(Drivers Who Go To Bar More Than Once A Month, and Passengers Were Not a Kid, and  Excluding Farming/Fishing/Forestry)</sup>"
        },
        "width": 800,
        "xaxis": {
         "anchor": "y",
         "domain": [
          0,
          1
         ],
         "tickformat": ".2f",
         "title": {
          "text": "Acceptance Rate"
         }
        },
        "yaxis": {
         "anchor": "x",
         "categoryarray": [
          "Architecture & Engineering",
          "Healthcare Support",
          "Construction & Extraction",
          "Community & Social Services",
          "Arts Design Entertainment Sports & Media",
          "Protective Service",
          "Production Occupations",
          "Management",
          "Office & Administrative Support",
          "Food Preparation & Serving Related",
          "Sales & Related",
          "Healthcare Practitioners & Technical",
          "Life Physical Social Science",
          "Student",
          "Personal Care & Service",
          "Business & Financial",
          "Computer & Mathematical",
          "Legal",
          "Transportation & Material Moving",
          "Installation Maintenance & Repair",
          "Education&Training&Library",
          "Retired",
          "Building & Grounds Cleaning & Maintenance"
         ],
         "categoryorder": "array",
         "domain": [
          0,
          1
         ],
         "title": {
          "text": "Occupation"
         }
        }
       }
      },
      "image/png": "[encoded data removed]"
     },
     "metadata": {},
     "output_type": "display_data"
    }
   ],
   "source": [
    "filtered_data = bar_coupons[\n",
    "    (bar_coupons['Bar'].isin(['1~3', '4~8', 'gt8'])) &\n",
    "    (~bar_coupons['passanger'].isin(['kid(s)'])) &\n",
    "    (~bar_coupons['occupation'].isin(['Farming Fishing & Forestry', 'Unemployed']))\n",
    "]\n",
    "occupation_acceptance = filtered_data.groupby('occupation')['Y'].mean().reset_index()\n",
    "occupation_acceptance = occupation_acceptance.sort_values(by='Y', ascending=True)\n",
    "\n",
    "fig = px.bar(\n",
    "    occupation_acceptance,\n",
    "    y='occupation',\n",
    "    x='Y',\n",
    "    text=occupation_acceptance['Y'].apply(lambda x: f'{x:.2f}'),\n",
    "    color='occupation',\n",
    "    orientation='h',\n",
    "    color_discrete_sequence=px.colors.qualitative.Set3\n",
    ")\n",
    "\n",
    "# Update layout\n",
    "fig.update_layout(\n",
    "    title='Bar Coupon Acceptance Rate by Occupation<br><sup>(Drivers Who Go To Bar More Than Once A Month, and Passengers Were Not a Kid, and  Excluding Farming/Fishing/Forestry)</sup>',\n",
    "    xaxis_title='Acceptance Rate',\n",
    "    yaxis_title='Occupation',\n",
    "    xaxis=dict(tickformat=\".2f\"),\n",
    "    showlegend=False,\n",
    "    height=600,\n",
    "    width=800\n",
    ")\n",
    "fig.update_traces(textposition='outside')\n",
    "\n",
    "# Show plot\n",
    "fig.show()"
   ]
  },
  {
   "cell_type": "markdown",
   "metadata": {},
   "source": [
    "I also decided to explore which occupation has the highest acceptance rate for the bar coupon. I found that Architecture and Engineering has the highest acceptance rate, followed by Healthcare Support. Bar plot is above. "
   ]
  },
  {
   "cell_type": "markdown",
   "metadata": {
    "id": "n2LIUTil_qRK"
   },
   "source": [
    "6. Compare the acceptance rates between those drivers who:\n",
    "\n",
    "- go to bars more than once a month, had passengers that were not a kid, and were not widowed *OR*\n",
    "- go to bars more than once a month and are under the age of 30 *OR*\n",
    "- go to cheap restaurants more than 4 times a month and income is less than 50K.\n",
    "\n"
   ]
  },
  {
   "cell_type": "code",
   "execution_count": 87,
   "metadata": {
    "id": "aK_wEzx7_qRK"
   },
   "outputs": [
    {
     "data": {
      "application/vnd.plotly.v1+json": {
       "config": {
        "plotlyServerURL": "https://plot.ly"
       },
       "data": [
        {
         "hovertemplate": "Group=%{x}<br>Acceptance Rate=%{y}<extra></extra>",
         "legendgroup": "Goes to Bar > 1x/Month,<br> No Kids Passenger, <br> Not Widowed",
         "marker": {
          "color": "#636efa",
          "pattern": {
           "shape": ""
          }
         },
         "name": "Goes to Bar > 1x/Month,<br> No Kids Passenger, <br> Not Widowed",
         "orientation": "v",
         "showlegend": true,
         "textposition": "auto",
         "type": "bar",
         "x": [
          "Goes to Bar > 1x/Month,<br> No Kids Passenger, <br> Not Widowed"
         ],
         "xaxis": "x",
         "y": {
          "bdata": "30k3z+7S5j8=",
          "dtype": "f8"
         },
         "yaxis": "y"
        },
        {
         "hovertemplate": "Group=%{x}<br>Acceptance Rate=%{y}<extra></extra>",
         "legendgroup": "Goes to Bar > 1x/Month, <br> Age < 30",
         "marker": {
          "color": "#EF553B",
          "pattern": {
           "shape": ""
          }
         },
         "name": "Goes to Bar > 1x/Month, <br> Age < 30",
         "orientation": "v",
         "showlegend": true,
         "textposition": "auto",
         "type": "bar",
         "x": [
          "Goes to Bar > 1x/Month, <br> Age < 30"
         ],
         "xaxis": "x",
         "y": {
          "bdata": "AyW80dT55T8=",
          "dtype": "f8"
         },
         "yaxis": "y"
        },
        {
         "hovertemplate": "Group=%{x}<br>Acceptance Rate=%{y}<extra></extra>",
         "legendgroup": "Goes to Cheap Restaurants > 4x/Month, <br> Income < 50K",
         "marker": {
          "color": "#00cc96",
          "pattern": {
           "shape": ""
          }
         },
         "name": "Goes to Cheap Restaurants > 4x/Month, <br> Income < 50K",
         "orientation": "v",
         "showlegend": true,
         "textposition": "auto",
         "type": "bar",
         "x": [
          "Goes to Cheap Restaurants > 4x/Month, <br> Income < 50K"
         ],
         "xaxis": "x",
         "y": {
          "bdata": "iTvijrgj3j8=",
          "dtype": "f8"
         },
         "yaxis": "y"
        }
       ],
       "layout": {
        "barmode": "relative",
        "height": 400,
        "legend": {
         "title": {
          "text": "Group"
         },
         "tracegroupgap": 0
        },
        "showlegend": false,
        "template": {
         "data": {
          "bar": [
           {
            "error_x": {
             "color": "#2a3f5f"
            },
            "error_y": {
             "color": "#2a3f5f"
            },
            "marker": {
             "line": {
              "color": "#E5ECF6",
              "width": 0.5
             },
             "pattern": {
              "fillmode": "overlay",
              "size": 10,
              "solidity": 0.2
             }
            },
            "type": "bar"
           }
          ],
          "barpolar": [
           {
            "marker": {
             "line": {
              "color": "#E5ECF6",
              "width": 0.5
             },
             "pattern": {
              "fillmode": "overlay",
              "size": 10,
              "solidity": 0.2
             }
            },
            "type": "barpolar"
           }
          ],
          "carpet": [
           {
            "aaxis": {
             "endlinecolor": "#2a3f5f",
             "gridcolor": "white",
             "linecolor": "white",
             "minorgridcolor": "white",
             "startlinecolor": "#2a3f5f"
            },
            "baxis": {
             "endlinecolor": "#2a3f5f",
             "gridcolor": "white",
             "linecolor": "white",
             "minorgridcolor": "white",
             "startlinecolor": "#2a3f5f"
            },
            "type": "carpet"
           }
          ],
          "choropleth": [
           {
            "colorbar": {
             "outlinewidth": 0,
             "ticks": ""
            },
            "type": "choropleth"
           }
          ],
          "contour": [
           {
            "colorbar": {
             "outlinewidth": 0,
             "ticks": ""
            },
            "colorscale": [
             [
              0,
              "#0d0887"
             ],
             [
              0.1111111111111111,
              "#46039f"
             ],
             [
              0.2222222222222222,
              "#7201a8"
             ],
             [
              0.3333333333333333,
              "#9c179e"
             ],
             [
              0.4444444444444444,
              "#bd3786"
             ],
             [
              0.5555555555555556,
              "#d8576b"
             ],
             [
              0.6666666666666666,
              "#ed7953"
             ],
             [
              0.7777777777777778,
              "#fb9f3a"
             ],
             [
              0.8888888888888888,
              "#fdca26"
             ],
             [
              1,
              "#f0f921"
             ]
            ],
            "type": "contour"
           }
          ],
          "contourcarpet": [
           {
            "colorbar": {
             "outlinewidth": 0,
             "ticks": ""
            },
            "type": "contourcarpet"
           }
          ],
          "heatmap": [
           {
            "colorbar": {
             "outlinewidth": 0,
             "ticks": ""
            },
            "colorscale": [
             [
              0,
              "#0d0887"
             ],
             [
              0.1111111111111111,
              "#46039f"
             ],
             [
              0.2222222222222222,
              "#7201a8"
             ],
             [
              0.3333333333333333,
              "#9c179e"
             ],
             [
              0.4444444444444444,
              "#bd3786"
             ],
             [
              0.5555555555555556,
              "#d8576b"
             ],
             [
              0.6666666666666666,
              "#ed7953"
             ],
             [
              0.7777777777777778,
              "#fb9f3a"
             ],
             [
              0.8888888888888888,
              "#fdca26"
             ],
             [
              1,
              "#f0f921"
             ]
            ],
            "type": "heatmap"
           }
          ],
          "histogram": [
           {
            "marker": {
             "pattern": {
              "fillmode": "overlay",
              "size": 10,
              "solidity": 0.2
             }
            },
            "type": "histogram"
           }
          ],
          "histogram2d": [
           {
            "colorbar": {
             "outlinewidth": 0,
             "ticks": ""
            },
            "colorscale": [
             [
              0,
              "#0d0887"
             ],
             [
              0.1111111111111111,
              "#46039f"
             ],
             [
              0.2222222222222222,
              "#7201a8"
             ],
             [
              0.3333333333333333,
              "#9c179e"
             ],
             [
              0.4444444444444444,
              "#bd3786"
             ],
             [
              0.5555555555555556,
              "#d8576b"
             ],
             [
              0.6666666666666666,
              "#ed7953"
             ],
             [
              0.7777777777777778,
              "#fb9f3a"
             ],
             [
              0.8888888888888888,
              "#fdca26"
             ],
             [
              1,
              "#f0f921"
             ]
            ],
            "type": "histogram2d"
           }
          ],
          "histogram2dcontour": [
           {
            "colorbar": {
             "outlinewidth": 0,
             "ticks": ""
            },
            "colorscale": [
             [
              0,
              "#0d0887"
             ],
             [
              0.1111111111111111,
              "#46039f"
             ],
             [
              0.2222222222222222,
              "#7201a8"
             ],
             [
              0.3333333333333333,
              "#9c179e"
             ],
             [
              0.4444444444444444,
              "#bd3786"
             ],
             [
              0.5555555555555556,
              "#d8576b"
             ],
             [
              0.6666666666666666,
              "#ed7953"
             ],
             [
              0.7777777777777778,
              "#fb9f3a"
             ],
             [
              0.8888888888888888,
              "#fdca26"
             ],
             [
              1,
              "#f0f921"
             ]
            ],
            "type": "histogram2dcontour"
           }
          ],
          "mesh3d": [
           {
            "colorbar": {
             "outlinewidth": 0,
             "ticks": ""
            },
            "type": "mesh3d"
           }
          ],
          "parcoords": [
           {
            "line": {
             "colorbar": {
              "outlinewidth": 0,
              "ticks": ""
             }
            },
            "type": "parcoords"
           }
          ],
          "pie": [
           {
            "automargin": true,
            "type": "pie"
           }
          ],
          "scatter": [
           {
            "fillpattern": {
             "fillmode": "overlay",
             "size": 10,
             "solidity": 0.2
            },
            "type": "scatter"
           }
          ],
          "scatter3d": [
           {
            "line": {
             "colorbar": {
              "outlinewidth": 0,
              "ticks": ""
             }
            },
            "marker": {
             "colorbar": {
              "outlinewidth": 0,
              "ticks": ""
             }
            },
            "type": "scatter3d"
           }
          ],
          "scattercarpet": [
           {
            "marker": {
             "colorbar": {
              "outlinewidth": 0,
              "ticks": ""
             }
            },
            "type": "scattercarpet"
           }
          ],
          "scattergeo": [
           {
            "marker": {
             "colorbar": {
              "outlinewidth": 0,
              "ticks": ""
             }
            },
            "type": "scattergeo"
           }
          ],
          "scattergl": [
           {
            "marker": {
             "colorbar": {
              "outlinewidth": 0,
              "ticks": ""
             }
            },
            "type": "scattergl"
           }
          ],
          "scattermap": [
           {
            "marker": {
             "colorbar": {
              "outlinewidth": 0,
              "ticks": ""
             }
            },
            "type": "scattermap"
           }
          ],
          "scattermapbox": [
           {
            "marker": {
             "colorbar": {
              "outlinewidth": 0,
              "ticks": ""
             }
            },
            "type": "scattermapbox"
           }
          ],
          "scatterpolar": [
           {
            "marker": {
             "colorbar": {
              "outlinewidth": 0,
              "ticks": ""
             }
            },
            "type": "scatterpolar"
           }
          ],
          "scatterpolargl": [
           {
            "marker": {
             "colorbar": {
              "outlinewidth": 0,
              "ticks": ""
             }
            },
            "type": "scatterpolargl"
           }
          ],
          "scatterternary": [
           {
            "marker": {
             "colorbar": {
              "outlinewidth": 0,
              "ticks": ""
             }
            },
            "type": "scatterternary"
           }
          ],
          "surface": [
           {
            "colorbar": {
             "outlinewidth": 0,
             "ticks": ""
            },
            "colorscale": [
             [
              0,
              "#0d0887"
             ],
             [
              0.1111111111111111,
              "#46039f"
             ],
             [
              0.2222222222222222,
              "#7201a8"
             ],
             [
              0.3333333333333333,
              "#9c179e"
             ],
             [
              0.4444444444444444,
              "#bd3786"
             ],
             [
              0.5555555555555556,
              "#d8576b"
             ],
             [
              0.6666666666666666,
              "#ed7953"
             ],
             [
              0.7777777777777778,
              "#fb9f3a"
             ],
             [
              0.8888888888888888,
              "#fdca26"
             ],
             [
              1,
              "#f0f921"
             ]
            ],
            "type": "surface"
           }
          ],
          "table": [
           {
            "cells": {
             "fill": {
              "color": "#EBF0F8"
             },
             "line": {
              "color": "white"
             }
            },
            "header": {
             "fill": {
              "color": "#C8D4E3"
             },
             "line": {
              "color": "white"
             }
            },
            "type": "table"
           }
          ]
         },
         "layout": {
          "annotationdefaults": {
           "arrowcolor": "#2a3f5f",
           "arrowhead": 0,
           "arrowwidth": 1
          },
          "autotypenumbers": "strict",
          "coloraxis": {
           "colorbar": {
            "outlinewidth": 0,
            "ticks": ""
           }
          },
          "colorscale": {
           "diverging": [
            [
             0,
             "#8e0152"
            ],
            [
             0.1,
             "#c51b7d"
            ],
            [
             0.2,
             "#de77ae"
            ],
            [
             0.3,
             "#f1b6da"
            ],
            [
             0.4,
             "#fde0ef"
            ],
            [
             0.5,
             "#f7f7f7"
            ],
            [
             0.6,
             "#e6f5d0"
            ],
            [
             0.7,
             "#b8e186"
            ],
            [
             0.8,
             "#7fbc41"
            ],
            [
             0.9,
             "#4d9221"
            ],
            [
             1,
             "#276419"
            ]
           ],
           "sequential": [
            [
             0,
             "#0d0887"
            ],
            [
             0.1111111111111111,
             "#46039f"
            ],
            [
             0.2222222222222222,
             "#7201a8"
            ],
            [
             0.3333333333333333,
             "#9c179e"
            ],
            [
             0.4444444444444444,
             "#bd3786"
            ],
            [
             0.5555555555555556,
             "#d8576b"
            ],
            [
             0.6666666666666666,
             "#ed7953"
            ],
            [
             0.7777777777777778,
             "#fb9f3a"
            ],
            [
             0.8888888888888888,
             "#fdca26"
            ],
            [
             1,
             "#f0f921"
            ]
           ],
           "sequentialminus": [
            [
             0,
             "#0d0887"
            ],
            [
             0.1111111111111111,
             "#46039f"
            ],
            [
             0.2222222222222222,
             "#7201a8"
            ],
            [
             0.3333333333333333,
             "#9c179e"
            ],
            [
             0.4444444444444444,
             "#bd3786"
            ],
            [
             0.5555555555555556,
             "#d8576b"
            ],
            [
             0.6666666666666666,
             "#ed7953"
            ],
            [
             0.7777777777777778,
             "#fb9f3a"
            ],
            [
             0.8888888888888888,
             "#fdca26"
            ],
            [
             1,
             "#f0f921"
            ]
           ]
          },
          "colorway": [
           "#636efa",
           "#EF553B",
           "#00cc96",
           "#ab63fa",
           "#FFA15A",
           "#19d3f3",
           "#FF6692",
           "#B6E880",
           "#FF97FF",
           "#FECB52"
          ],
          "font": {
           "color": "#2a3f5f"
          },
          "geo": {
           "bgcolor": "white",
           "lakecolor": "white",
           "landcolor": "#E5ECF6",
           "showlakes": true,
           "showland": true,
           "subunitcolor": "white"
          },
          "hoverlabel": {
           "align": "left"
          },
          "hovermode": "closest",
          "mapbox": {
           "style": "light"
          },
          "paper_bgcolor": "white",
          "plot_bgcolor": "#E5ECF6",
          "polar": {
           "angularaxis": {
            "gridcolor": "white",
            "linecolor": "white",
            "ticks": ""
           },
           "bgcolor": "#E5ECF6",
           "radialaxis": {
            "gridcolor": "white",
            "linecolor": "white",
            "ticks": ""
           }
          },
          "scene": {
           "xaxis": {
            "backgroundcolor": "#E5ECF6",
            "gridcolor": "white",
            "gridwidth": 2,
            "linecolor": "white",
            "showbackground": true,
            "ticks": "",
            "zerolinecolor": "white"
           },
           "yaxis": {
            "backgroundcolor": "#E5ECF6",
            "gridcolor": "white",
            "gridwidth": 2,
            "linecolor": "white",
            "showbackground": true,
            "ticks": "",
            "zerolinecolor": "white"
           },
           "zaxis": {
            "backgroundcolor": "#E5ECF6",
            "gridcolor": "white",
            "gridwidth": 2,
            "linecolor": "white",
            "showbackground": true,
            "ticks": "",
            "zerolinecolor": "white"
           }
          },
          "shapedefaults": {
           "line": {
            "color": "#2a3f5f"
           }
          },
          "ternary": {
           "aaxis": {
            "gridcolor": "white",
            "linecolor": "white",
            "ticks": ""
           },
           "baxis": {
            "gridcolor": "white",
            "linecolor": "white",
            "ticks": ""
           },
           "bgcolor": "#E5ECF6",
           "caxis": {
            "gridcolor": "white",
            "linecolor": "white",
            "ticks": ""
           }
          },
          "title": {
           "x": 0.05
          },
          "xaxis": {
           "automargin": true,
           "gridcolor": "white",
           "linecolor": "white",
           "ticks": "",
           "title": {
            "standoff": 15
           },
           "zerolinecolor": "white",
           "zerolinewidth": 2
          },
          "yaxis": {
           "automargin": true,
           "gridcolor": "white",
           "linecolor": "white",
           "ticks": "",
           "title": {
            "standoff": 15
           },
           "zerolinecolor": "white",
           "zerolinewidth": 2
          }
         }
        },
        "title": {
         "text": "Bar Coupon Acceptance Rate: Three Target Groups"
        },
        "width": 900,
        "xaxis": {
         "anchor": "y",
         "categoryarray": [
          "Goes to Bar > 1x/Month,<br> No Kids Passenger, <br> Not Widowed",
          "Goes to Bar > 1x/Month, <br> Age < 30",
          "Goes to Cheap Restaurants > 4x/Month, <br> Income < 50K"
         ],
         "categoryorder": "array",
         "domain": [
          0,
          1
         ],
         "title": {
          "text": "Groups"
         }
        },
        "yaxis": {
         "anchor": "x",
         "domain": [
          0,
          1
         ],
         "range": [
          0,
          1.1
         ],
         "title": {
          "text": "Acceptance Rate"
         }
        }
       }
      },
      "image/png": "[encoded data removed]"
     },
     "metadata": {},
     "output_type": "display_data"
    }
   ],
   "source": [
    "first_target = bar_coupons[\n",
    "    (bar_coupons['Bar'].isin(['1~3', '4~8', 'gt8'])) &\n",
    "    (~bar_coupons['passanger'].isin(['Kid(s)'])) &\n",
    "    (~bar_coupons['maritalStatus'].isin(['Widowed']))\n",
    "]\n",
    "second_target = bar_coupons[\n",
    "    (bar_coupons['Bar'].isin(['1~3', '4~8', 'gt8'])) &\n",
    "    (bar_coupons['age'].isin(['21', '22', '26~30']))\n",
    "]\n",
    "third_target = bar_coupons[\n",
    "    (bar_coupons['RestaurantLessThan20'].isin(['4~8', 'gt8'])) &\n",
    "    (bar_coupons['income'].isin(['$25000 - $37499', '$37500 - $49999']))\n",
    "]\n",
    "first_target_accept_rate = first_target['Y'].mean()\n",
    "second_target_accept_rate = second_target['Y'].mean()\n",
    "third_target_accept_rate = third_target['Y'].mean()\n",
    "\n",
    "plot_df = pd.DataFrame({\n",
    "    'Group': ['Goes to Bar > 1x/Month,<br> No Kids Passenger, <br> Not Widowed',\n",
    "              'Goes to Bar > 1x/Month, <br> Age < 30',\n",
    "              'Goes to Cheap Restaurants > 4x/Month, <br> Income < 50K'],\n",
    "    'Acceptance Rate': [first_target_accept_rate, second_target_accept_rate, third_target_accept_rate]\n",
    "})\n",
    "\n",
    "fig.write_image(\"images/acceptance_rate_by_three_target_groups_vs_all_others.png\", width = 900, height = 700, scale = 1)  # Save as PNG\n",
    "fig = px.bar(plot_df, x='Group', y='Acceptance Rate', color='Group',\n",
    "             title='Bar Coupon Acceptance Rate: Three Target Groups')\n",
    "\n",
    "fig.update_layout(yaxis_range=[0, 1.1])  # Set y-axis limit\n",
    "fig.update_layout(width = 900, height = 400, showlegend=False)\n",
    "fig.update_xaxes(title_text='Groups')\n",
    "fig.update_yaxes(title_text='Acceptance Rate')\n",
    "fig.show()"
   ]
  },
  {
   "cell_type": "code",
   "execution_count": null,
   "metadata": {
    "id": "aK_wEzx7_qRK"
   },
   "outputs": [],
   "source": [
    "# First target group\n",
    "first_target = bar_coupons[\n",
    "    (bar_coupons['Bar'].isin(['1~3', '4~8', 'gt8'])) &\n",
    "    (~bar_coupons['passanger'].isin(['Kid(s)'])) &\n",
    "    (~bar_coupons['maritalStatus'].isin(['Widowed']))\n",
    "]\n",
    "\n",
    "# Second target group — check actual age categories\n",
    "second_target = bar_coupons[\n",
    "    (bar_coupons['Bar'].isin(['1~3', '4~8', 'gt8'])) &\n",
    "    (bar_coupons['age'].isin(['21', '22', '26~30']))\n",
    "]\n",
    "\n",
    "# Third target group — check actual income categories\n",
    "third_target = bar_coupons[\n",
    "    (bar_coupons['RestaurantLessThan20'].isin(['4~8', 'gt8'])) &\n",
    "    (bar_coupons['income'].isin(['$25000 - $37499', '$37500 - $49999']))\n",
    "]\n",
    "\n",
    "# Compute acceptance rates\n",
    "first_target_accept_rate = first_target['Y'].mean()\n",
    "second_target_accept_rate = second_target['Y'].mean()\n",
    "third_target_accept_rate = third_target['Y'].mean()\n",
    "\n",
    "# Create a new DataFrame for plotting\n",
    "plot_df = pd.DataFrame({\n",
    "    'Group': ['Goes to Bar > 1x/Month,<br> No Kids Passenger, <br> Not Widowed',\n",
    "              'Goes to Bar > 1x/Month, <br> Age < 30',\n",
    "              'Goes to Cheap Restaurants > 4x/Month, <br> Income < 50K'],\n",
    "    'Acceptance Rate': [first_target_accept_rate, second_target_accept_rate, third_target_accept_rate]\n",
    "})\n",
    "\n",
    "# Plot using Plotly Express\n",
    "fig.write_image(\"images/acceptance_rate_by_three_target_groups_vs_all_others.png\")  # Save as PNG\n",
    "fig = px.bar(plot_df, x='Group', y='Acceptance Rate', color='Group',\n",
    "             title='Bar Coupon Acceptance Rate: Three Target Groups')\n",
    "\n",
    "fig.update_layout(yaxis_range=[0, 1.1])  # Set y-axis limit\n",
    "fig.update_layout(width = 900, showlegend=False)\n",
    "fig.update_xaxes(title_text='Groups')\n",
    "fig.update_yaxes(title_text='Acceptance Rate')\n",
    "fig.show()"
   ]
  },
  {
   "cell_type": "markdown",
   "metadata": {
    "id": "v3fL3QkO_qRK"
   },
   "source": [
    "7.  Based on these observations, what do you hypothesize about drivers who accepted the bar coupons?"
   ]
  },
  {
   "cell_type": "markdown",
   "metadata": {
    "id": "Y48naDFh_qRL"
   },
   "source": [
    "The bar chart titled “Bar Coupon Acceptance Rate: Three Target Groups” compares how likely three groups are to accept bar coupons. The group with the highest acceptance rate (70%) comprises monthly bar patrons without children or not widows. Socially active individuals without dependents or emotional burdens are more receptive to bar offers. The second group (under 30 who frequent bars) has a slightly lower acceptance rate (68–69%). Younger individuals are open to deals but may be less consistent in accepting them. The third group (dining out frequently and earning less than $50K) has the lowest acceptance rate (45%). Their spending priorities may not align with bar environments due to budget constraints. Lifestyle and personal circumstances seem to influence coupon receptiveness more than age or income alone."
   ]
  },
  {
   "cell_type": "markdown",
   "metadata": {
    "id": "r4Hu1zOb_qRL"
   },
   "source": [
    "### Independent Investigation\n",
    "\n",
    "Using the bar coupon example as motivation, you are to explore one of the other coupon groups and try to determine the characteristics of passengers who accept the coupons.  "
   ]
  },
  {
   "cell_type": "code",
   "execution_count": 86,
   "metadata": {
    "id": "0c71cQhu_qRL"
   },
   "outputs": [
    {
     "data": {
      "application/vnd.plotly.v1+json": {
       "config": {
        "plotlyServerURL": "https://plot.ly"
       },
       "data": [
        {
         "alignmentgroup": "True",
         "hovertemplate": "gender=Female<br>Passenger Type=%{x}<br>Acceptance Rate=%{y}<extra></extra>",
         "legendgroup": "Female",
         "marker": {
          "color": "#00cc96",
          "pattern": {
           "shape": ""
          }
         },
         "name": "Female",
         "offsetgroup": "Female",
         "orientation": "v",
         "showlegend": true,
         "textposition": "auto",
         "type": "bar",
         "x": [
          "Alone",
          "Friend(s)",
          "Kid(s)",
          "Partner"
         ],
         "xaxis": "x",
         "y": {
          "bdata": "MCZUBehr2j+3Q3U7VLfjPwisHFpkO98/xpJfLPnF4j8=",
          "dtype": "f8"
         },
         "yaxis": "y"
        },
        {
         "alignmentgroup": "True",
         "hovertemplate": "gender=Male<br>Passenger Type=%{x}<br>Acceptance Rate=%{y}<extra></extra>",
         "legendgroup": "Male",
         "marker": {
          "color": "#ab63fa",
          "pattern": {
           "shape": ""
          }
         },
         "name": "Male",
         "offsetgroup": "Male",
         "orientation": "v",
         "showlegend": true,
         "textposition": "auto",
         "type": "bar",
         "x": [
          "Alone",
          "Friend(s)",
          "Kid(s)",
          "Partner"
         ],
         "xaxis": "x",
         "y": {
          "bdata": "rH3D2jes3T8dgnrB1W3iP7o1PyxSBt4/PKYG9o6p4T8=",
          "dtype": "f8"
         },
         "yaxis": "y"
        }
       ],
       "layout": {
        "barmode": "group",
        "legend": {
         "title": {
          "text": "gender"
         },
         "tracegroupgap": 0
        },
        "template": {
         "data": {
          "bar": [
           {
            "error_x": {
             "color": "#2a3f5f"
            },
            "error_y": {
             "color": "#2a3f5f"
            },
            "marker": {
             "line": {
              "color": "#E5ECF6",
              "width": 0.5
             },
             "pattern": {
              "fillmode": "overlay",
              "size": 10,
              "solidity": 0.2
             }
            },
            "type": "bar"
           }
          ],
          "barpolar": [
           {
            "marker": {
             "line": {
              "color": "#E5ECF6",
              "width": 0.5
             },
             "pattern": {
              "fillmode": "overlay",
              "size": 10,
              "solidity": 0.2
             }
            },
            "type": "barpolar"
           }
          ],
          "carpet": [
           {
            "aaxis": {
             "endlinecolor": "#2a3f5f",
             "gridcolor": "white",
             "linecolor": "white",
             "minorgridcolor": "white",
             "startlinecolor": "#2a3f5f"
            },
            "baxis": {
             "endlinecolor": "#2a3f5f",
             "gridcolor": "white",
             "linecolor": "white",
             "minorgridcolor": "white",
             "startlinecolor": "#2a3f5f"
            },
            "type": "carpet"
           }
          ],
          "choropleth": [
           {
            "colorbar": {
             "outlinewidth": 0,
             "ticks": ""
            },
            "type": "choropleth"
           }
          ],
          "contour": [
           {
            "colorbar": {
             "outlinewidth": 0,
             "ticks": ""
            },
            "colorscale": [
             [
              0,
              "#0d0887"
             ],
             [
              0.1111111111111111,
              "#46039f"
             ],
             [
              0.2222222222222222,
              "#7201a8"
             ],
             [
              0.3333333333333333,
              "#9c179e"
             ],
             [
              0.4444444444444444,
              "#bd3786"
             ],
             [
              0.5555555555555556,
              "#d8576b"
             ],
             [
              0.6666666666666666,
              "#ed7953"
             ],
             [
              0.7777777777777778,
              "#fb9f3a"
             ],
             [
              0.8888888888888888,
              "#fdca26"
             ],
             [
              1,
              "#f0f921"
             ]
            ],
            "type": "contour"
           }
          ],
          "contourcarpet": [
           {
            "colorbar": {
             "outlinewidth": 0,
             "ticks": ""
            },
            "type": "contourcarpet"
           }
          ],
          "heatmap": [
           {
            "colorbar": {
             "outlinewidth": 0,
             "ticks": ""
            },
            "colorscale": [
             [
              0,
              "#0d0887"
             ],
             [
              0.1111111111111111,
              "#46039f"
             ],
             [
              0.2222222222222222,
              "#7201a8"
             ],
             [
              0.3333333333333333,
              "#9c179e"
             ],
             [
              0.4444444444444444,
              "#bd3786"
             ],
             [
              0.5555555555555556,
              "#d8576b"
             ],
             [
              0.6666666666666666,
              "#ed7953"
             ],
             [
              0.7777777777777778,
              "#fb9f3a"
             ],
             [
              0.8888888888888888,
              "#fdca26"
             ],
             [
              1,
              "#f0f921"
             ]
            ],
            "type": "heatmap"
           }
          ],
          "histogram": [
           {
            "marker": {
             "pattern": {
              "fillmode": "overlay",
              "size": 10,
              "solidity": 0.2
             }
            },
            "type": "histogram"
           }
          ],
          "histogram2d": [
           {
            "colorbar": {
             "outlinewidth": 0,
             "ticks": ""
            },
            "colorscale": [
             [
              0,
              "#0d0887"
             ],
             [
              0.1111111111111111,
              "#46039f"
             ],
             [
              0.2222222222222222,
              "#7201a8"
             ],
             [
              0.3333333333333333,
              "#9c179e"
             ],
             [
              0.4444444444444444,
              "#bd3786"
             ],
             [
              0.5555555555555556,
              "#d8576b"
             ],
             [
              0.6666666666666666,
              "#ed7953"
             ],
             [
              0.7777777777777778,
              "#fb9f3a"
             ],
             [
              0.8888888888888888,
              "#fdca26"
             ],
             [
              1,
              "#f0f921"
             ]
            ],
            "type": "histogram2d"
           }
          ],
          "histogram2dcontour": [
           {
            "colorbar": {
             "outlinewidth": 0,
             "ticks": ""
            },
            "colorscale": [
             [
              0,
              "#0d0887"
             ],
             [
              0.1111111111111111,
              "#46039f"
             ],
             [
              0.2222222222222222,
              "#7201a8"
             ],
             [
              0.3333333333333333,
              "#9c179e"
             ],
             [
              0.4444444444444444,
              "#bd3786"
             ],
             [
              0.5555555555555556,
              "#d8576b"
             ],
             [
              0.6666666666666666,
              "#ed7953"
             ],
             [
              0.7777777777777778,
              "#fb9f3a"
             ],
             [
              0.8888888888888888,
              "#fdca26"
             ],
             [
              1,
              "#f0f921"
             ]
            ],
            "type": "histogram2dcontour"
           }
          ],
          "mesh3d": [
           {
            "colorbar": {
             "outlinewidth": 0,
             "ticks": ""
            },
            "type": "mesh3d"
           }
          ],
          "parcoords": [
           {
            "line": {
             "colorbar": {
              "outlinewidth": 0,
              "ticks": ""
             }
            },
            "type": "parcoords"
           }
          ],
          "pie": [
           {
            "automargin": true,
            "type": "pie"
           }
          ],
          "scatter": [
           {
            "fillpattern": {
             "fillmode": "overlay",
             "size": 10,
             "solidity": 0.2
            },
            "type": "scatter"
           }
          ],
          "scatter3d": [
           {
            "line": {
             "colorbar": {
              "outlinewidth": 0,
              "ticks": ""
             }
            },
            "marker": {
             "colorbar": {
              "outlinewidth": 0,
              "ticks": ""
             }
            },
            "type": "scatter3d"
           }
          ],
          "scattercarpet": [
           {
            "marker": {
             "colorbar": {
              "outlinewidth": 0,
              "ticks": ""
             }
            },
            "type": "scattercarpet"
           }
          ],
          "scattergeo": [
           {
            "marker": {
             "colorbar": {
              "outlinewidth": 0,
              "ticks": ""
             }
            },
            "type": "scattergeo"
           }
          ],
          "scattergl": [
           {
            "marker": {
             "colorbar": {
              "outlinewidth": 0,
              "ticks": ""
             }
            },
            "type": "scattergl"
           }
          ],
          "scattermap": [
           {
            "marker": {
             "colorbar": {
              "outlinewidth": 0,
              "ticks": ""
             }
            },
            "type": "scattermap"
           }
          ],
          "scattermapbox": [
           {
            "marker": {
             "colorbar": {
              "outlinewidth": 0,
              "ticks": ""
             }
            },
            "type": "scattermapbox"
           }
          ],
          "scatterpolar": [
           {
            "marker": {
             "colorbar": {
              "outlinewidth": 0,
              "ticks": ""
             }
            },
            "type": "scatterpolar"
           }
          ],
          "scatterpolargl": [
           {
            "marker": {
             "colorbar": {
              "outlinewidth": 0,
              "ticks": ""
             }
            },
            "type": "scatterpolargl"
           }
          ],
          "scatterternary": [
           {
            "marker": {
             "colorbar": {
              "outlinewidth": 0,
              "ticks": ""
             }
            },
            "type": "scatterternary"
           }
          ],
          "surface": [
           {
            "colorbar": {
             "outlinewidth": 0,
             "ticks": ""
            },
            "colorscale": [
             [
              0,
              "#0d0887"
             ],
             [
              0.1111111111111111,
              "#46039f"
             ],
             [
              0.2222222222222222,
              "#7201a8"
             ],
             [
              0.3333333333333333,
              "#9c179e"
             ],
             [
              0.4444444444444444,
              "#bd3786"
             ],
             [
              0.5555555555555556,
              "#d8576b"
             ],
             [
              0.6666666666666666,
              "#ed7953"
             ],
             [
              0.7777777777777778,
              "#fb9f3a"
             ],
             [
              0.8888888888888888,
              "#fdca26"
             ],
             [
              1,
              "#f0f921"
             ]
            ],
            "type": "surface"
           }
          ],
          "table": [
           {
            "cells": {
             "fill": {
              "color": "#EBF0F8"
             },
             "line": {
              "color": "white"
             }
            },
            "header": {
             "fill": {
              "color": "#C8D4E3"
             },
             "line": {
              "color": "white"
             }
            },
            "type": "table"
           }
          ]
         },
         "layout": {
          "annotationdefaults": {
           "arrowcolor": "#2a3f5f",
           "arrowhead": 0,
           "arrowwidth": 1
          },
          "autotypenumbers": "strict",
          "coloraxis": {
           "colorbar": {
            "outlinewidth": 0,
            "ticks": ""
           }
          },
          "colorscale": {
           "diverging": [
            [
             0,
             "#8e0152"
            ],
            [
             0.1,
             "#c51b7d"
            ],
            [
             0.2,
             "#de77ae"
            ],
            [
             0.3,
             "#f1b6da"
            ],
            [
             0.4,
             "#fde0ef"
            ],
            [
             0.5,
             "#f7f7f7"
            ],
            [
             0.6,
             "#e6f5d0"
            ],
            [
             0.7,
             "#b8e186"
            ],
            [
             0.8,
             "#7fbc41"
            ],
            [
             0.9,
             "#4d9221"
            ],
            [
             1,
             "#276419"
            ]
           ],
           "sequential": [
            [
             0,
             "#0d0887"
            ],
            [
             0.1111111111111111,
             "#46039f"
            ],
            [
             0.2222222222222222,
             "#7201a8"
            ],
            [
             0.3333333333333333,
             "#9c179e"
            ],
            [
             0.4444444444444444,
             "#bd3786"
            ],
            [
             0.5555555555555556,
             "#d8576b"
            ],
            [
             0.6666666666666666,
             "#ed7953"
            ],
            [
             0.7777777777777778,
             "#fb9f3a"
            ],
            [
             0.8888888888888888,
             "#fdca26"
            ],
            [
             1,
             "#f0f921"
            ]
           ],
           "sequentialminus": [
            [
             0,
             "#0d0887"
            ],
            [
             0.1111111111111111,
             "#46039f"
            ],
            [
             0.2222222222222222,
             "#7201a8"
            ],
            [
             0.3333333333333333,
             "#9c179e"
            ],
            [
             0.4444444444444444,
             "#bd3786"
            ],
            [
             0.5555555555555556,
             "#d8576b"
            ],
            [
             0.6666666666666666,
             "#ed7953"
            ],
            [
             0.7777777777777778,
             "#fb9f3a"
            ],
            [
             0.8888888888888888,
             "#fdca26"
            ],
            [
             1,
             "#f0f921"
            ]
           ]
          },
          "colorway": [
           "#636efa",
           "#EF553B",
           "#00cc96",
           "#ab63fa",
           "#FFA15A",
           "#19d3f3",
           "#FF6692",
           "#B6E880",
           "#FF97FF",
           "#FECB52"
          ],
          "font": {
           "color": "#2a3f5f"
          },
          "geo": {
           "bgcolor": "white",
           "lakecolor": "white",
           "landcolor": "#E5ECF6",
           "showlakes": true,
           "showland": true,
           "subunitcolor": "white"
          },
          "hoverlabel": {
           "align": "left"
          },
          "hovermode": "closest",
          "mapbox": {
           "style": "light"
          },
          "paper_bgcolor": "white",
          "plot_bgcolor": "#E5ECF6",
          "polar": {
           "angularaxis": {
            "gridcolor": "white",
            "linecolor": "white",
            "ticks": ""
           },
           "bgcolor": "#E5ECF6",
           "radialaxis": {
            "gridcolor": "white",
            "linecolor": "white",
            "ticks": ""
           }
          },
          "scene": {
           "xaxis": {
            "backgroundcolor": "#E5ECF6",
            "gridcolor": "white",
            "gridwidth": 2,
            "linecolor": "white",
            "showbackground": true,
            "ticks": "",
            "zerolinecolor": "white"
           },
           "yaxis": {
            "backgroundcolor": "#E5ECF6",
            "gridcolor": "white",
            "gridwidth": 2,
            "linecolor": "white",
            "showbackground": true,
            "ticks": "",
            "zerolinecolor": "white"
           },
           "zaxis": {
            "backgroundcolor": "#E5ECF6",
            "gridcolor": "white",
            "gridwidth": 2,
            "linecolor": "white",
            "showbackground": true,
            "ticks": "",
            "zerolinecolor": "white"
           }
          },
          "shapedefaults": {
           "line": {
            "color": "#2a3f5f"
           }
          },
          "ternary": {
           "aaxis": {
            "gridcolor": "white",
            "linecolor": "white",
            "ticks": ""
           },
           "baxis": {
            "gridcolor": "white",
            "linecolor": "white",
            "ticks": ""
           },
           "bgcolor": "#E5ECF6",
           "caxis": {
            "gridcolor": "white",
            "linecolor": "white",
            "ticks": ""
           }
          },
          "title": {
           "x": 0.05
          },
          "xaxis": {
           "automargin": true,
           "gridcolor": "white",
           "linecolor": "white",
           "ticks": "",
           "title": {
            "standoff": 15
           },
           "zerolinecolor": "white",
           "zerolinewidth": 2
          },
          "yaxis": {
           "automargin": true,
           "gridcolor": "white",
           "linecolor": "white",
           "ticks": "",
           "title": {
            "standoff": 15
           },
           "zerolinecolor": "white",
           "zerolinewidth": 2
          }
         }
        },
        "title": {
         "text": "Coffee House Coupon Acceptance Rate by Passenger Type and Gender"
        },
        "width": 800,
        "xaxis": {
         "anchor": "y",
         "domain": [
          0,
          1
         ],
         "title": {
          "text": "Passenger Type"
         }
        },
        "yaxis": {
         "anchor": "x",
         "domain": [
          0,
          1
         ],
         "range": [
          0,
          1
         ],
         "title": {
          "text": "Acceptance Rate"
         }
        }
       }
      },
      "image/png": "[encoded data removed]"
     },
     "metadata": {},
     "output_type": "display_data"
    },
    {
     "name": "stdout",
     "output_type": "stream",
     "text": [
      "\n",
      "Acceptance rate by passenger type and gender:\n",
      "   passanger  gender         Y\n",
      "0      Alone  Female  0.412836\n",
      "1      Alone    Male  0.463636\n",
      "2  Friend(s)  Female  0.616129\n",
      "3  Friend(s)    Male  0.575908\n",
      "4     Kid(s)  Female  0.488000\n",
      "5     Kid(s)    Male  0.469136\n",
      "6    Partner  Female  0.586667\n",
      "7    Partner    Male  0.551948\n",
      "\n",
      "Proportion of accepted coffee house coupons: 0.50\n"
     ]
    }
   ],
   "source": [
    "coffee_coupons = new_data[new_data['coupon'] == 'Coffee House']\n",
    "coffee_coupons = coffee_coupons.reset_index(drop=True)\n",
    "grouped = coffee_coupons.groupby(['passanger', 'gender'])['Y'].mean().reset_index()\n",
    "\n",
    "fig = px.bar(\n",
    "    grouped,\n",
    "    x='passanger',\n",
    "    y='Y',\n",
    "    color = 'gender',\n",
    "    barmode = 'group',\n",
    "    title='Coffee House Coupon Acceptance Rate by Passenger Type and Gender',\n",
    "    labels={'Y': 'Acceptance Rate', 'passanger': 'Passenger Type'},\n",
    "    color_discrete_map=(\n",
    "        {'male': 'blue', 'female': 'pink'}\n",
    "    )\n",
    ")\n",
    "fig.update_layout(\n",
    "    yaxis_range=[0, 1],\n",
    "    xaxis_title='Passenger Type',\n",
    "    yaxis_title='Acceptance Rate',\n",
    "    width = 800\n",
    ")\n",
    "fig.write_image(\"images/coffee_house_coupon_acceptance_rate_by_passenger_type_gender.png\", width = 900, height = 700, scale = 1) \n",
    "fig.show()\n",
    "print(\"\\nAcceptance rate by passenger type and gender:\")\n",
    "print(grouped)\n",
    "coffee_proportion_accepted = coffee_coupons['Y'].value_counts(normalize=True)[1]\n",
    "print(f\"\\nProportion of accepted coffee house coupons: {coffee_proportion_accepted:.2f}\")"
   ]
  },
  {
   "cell_type": "markdown",
   "metadata": {},
   "source": [
    "The bar chart titled “Coffee House Coupon Acceptance Rate by Passenger Type and Gender” shows how acceptance rates vary based on travel companions and gender. Friendships lead to the highest acceptance, with females at 0.62 and males at 0.57. Companionship with a partner results in 0.59 acceptance for females and 0.55 for males. Individuals traveling with children have a moderate acceptance rate, slightly lower than those with partners or friends. Travelers alone, especially females, have the lowest acceptance rate, at around 0.42, while males are slightly higher at 0.47. Overall, the chart suggests that people are more likely to accept coffee coupons when traveling with others, especially friends or partners, and that females generally show slightly higher acceptance across all passenger types."
   ]
  },
  {
   "cell_type": "code",
   "execution_count": 85,
   "metadata": {
    "id": "QEsBkvIN_qRL"
   },
   "outputs": [
    {
     "data": {
      "image/png": "[encoded data removed]",
      "text/plain": [
       "<Figure size 800x600 with 2 Axes>"
      ]
     },
     "metadata": {},
     "output_type": "display_data"
    }
   ],
   "source": [
    "coffee_data = new_data[new_data['coupon'] == 'Coffee House'].copy()\n",
    "\n",
    "cat_vars = ['Y', 'destination', 'expiration', 'gender', 'age', \n",
    "            'maritalStatus', 'education', 'occupation', 'income']\n",
    "\n",
    "encoded_df = coffee_data[cat_vars].apply(LabelEncoder().fit_transform)\n",
    "\n",
    "encoded_df['Y'] = coffee_data['Y'].values\n",
    "\n",
    "corr_matrix = encoded_df.corr()\n",
    "\n",
    "# Plot heatmap\n",
    "plt.figure(figsize=(8, 6))\n",
    "sns.heatmap(corr_matrix, annot=True, cmap='RdYlGn', center=0)\n",
    "plt.title('Correlation Heatmap Between Categorical Variables and Acceptance')\n",
    "plt.tight_layout()\n",
    "plt.savefig(\"images/correlation_heatmap_between_chosen_variables_and_acceptance.png\", dpi=500, bbox_inches='tight')  \n",
    "plt.show()"
   ]
  },
  {
   "cell_type": "markdown",
   "metadata": {},
   "source": [
    "The heatmap shows the correlation between categorical variables and coupon acceptance (“Y”). Correlation values range from -1 to 1, with 1 indicating a strong positive relationship, -1 a strong negative relationship, and 0 little to no relationship. Expiration has the strongest negative correlation (-0.15), suggesting shorter expiration dates may increase acceptance. Other variables like destination, gender, age, marital status, education, occupation, and income show weak correlations near zero, indicating minimal influence on acceptance. Overall, no single variable strongly impacts acceptance, suggesting multiple factors influence the decision."
   ]
  },
  {
   "cell_type": "markdown",
   "metadata": {},
   "source": [
    "**See some other observation below:** \n",
    " - Coffee Coupon Acceptance Rate by Time of Day\n",
    " - Age Distribution by Passenger Type for Coffee Coupons"
   ]
  },
  {
   "cell_type": "code",
   "execution_count": 84,
   "metadata": {
    "id": "fTC2WGE3_qRL"
   },
   "outputs": [
    {
     "data": {
      "application/vnd.plotly.v1+json": {
       "config": {
        "plotlyServerURL": "https://plot.ly"
       },
       "data": [
        {
         "hovertemplate": "Time of Day=%{x}<br>Acceptance Rate=%{y}<extra></extra>",
         "legendgroup": "",
         "line": {
          "color": "#636efa",
          "dash": "solid"
         },
         "marker": {
          "symbol": "circle"
         },
         "mode": "lines+markers",
         "name": "",
         "orientation": "v",
         "showlegend": false,
         "type": "scatter",
         "x": [
          "7AM",
          "10AM",
          "2PM",
          "6PM",
          "10PM"
         ],
         "xaxis": "x",
         "y": {
          "bdata": "vNHU+bWH3D+2wC4ub33kP3HyucBjg+E/S0tLS0tL2j8nm2yyySbbPw==",
          "dtype": "f8"
         },
         "yaxis": "y"
        }
       ],
       "layout": {
        "legend": {
         "tracegroupgap": 0
        },
        "template": {
         "data": {
          "bar": [
           {
            "error_x": {
             "color": "#2a3f5f"
            },
            "error_y": {
             "color": "#2a3f5f"
            },
            "marker": {
             "line": {
              "color": "#E5ECF6",
              "width": 0.5
             },
             "pattern": {
              "fillmode": "overlay",
              "size": 10,
              "solidity": 0.2
             }
            },
            "type": "bar"
           }
          ],
          "barpolar": [
           {
            "marker": {
             "line": {
              "color": "#E5ECF6",
              "width": 0.5
             },
             "pattern": {
              "fillmode": "overlay",
              "size": 10,
              "solidity": 0.2
             }
            },
            "type": "barpolar"
           }
          ],
          "carpet": [
           {
            "aaxis": {
             "endlinecolor": "#2a3f5f",
             "gridcolor": "white",
             "linecolor": "white",
             "minorgridcolor": "white",
             "startlinecolor": "#2a3f5f"
            },
            "baxis": {
             "endlinecolor": "#2a3f5f",
             "gridcolor": "white",
             "linecolor": "white",
             "minorgridcolor": "white",
             "startlinecolor": "#2a3f5f"
            },
            "type": "carpet"
           }
          ],
          "choropleth": [
           {
            "colorbar": {
             "outlinewidth": 0,
             "ticks": ""
            },
            "type": "choropleth"
           }
          ],
          "contour": [
           {
            "colorbar": {
             "outlinewidth": 0,
             "ticks": ""
            },
            "colorscale": [
             [
              0,
              "#0d0887"
             ],
             [
              0.1111111111111111,
              "#46039f"
             ],
             [
              0.2222222222222222,
              "#7201a8"
             ],
             [
              0.3333333333333333,
              "#9c179e"
             ],
             [
              0.4444444444444444,
              "#bd3786"
             ],
             [
              0.5555555555555556,
              "#d8576b"
             ],
             [
              0.6666666666666666,
              "#ed7953"
             ],
             [
              0.7777777777777778,
              "#fb9f3a"
             ],
             [
              0.8888888888888888,
              "#fdca26"
             ],
             [
              1,
              "#f0f921"
             ]
            ],
            "type": "contour"
           }
          ],
          "contourcarpet": [
           {
            "colorbar": {
             "outlinewidth": 0,
             "ticks": ""
            },
            "type": "contourcarpet"
           }
          ],
          "heatmap": [
           {
            "colorbar": {
             "outlinewidth": 0,
             "ticks": ""
            },
            "colorscale": [
             [
              0,
              "#0d0887"
             ],
             [
              0.1111111111111111,
              "#46039f"
             ],
             [
              0.2222222222222222,
              "#7201a8"
             ],
             [
              0.3333333333333333,
              "#9c179e"
             ],
             [
              0.4444444444444444,
              "#bd3786"
             ],
             [
              0.5555555555555556,
              "#d8576b"
             ],
             [
              0.6666666666666666,
              "#ed7953"
             ],
             [
              0.7777777777777778,
              "#fb9f3a"
             ],
             [
              0.8888888888888888,
              "#fdca26"
             ],
             [
              1,
              "#f0f921"
             ]
            ],
            "type": "heatmap"
           }
          ],
          "histogram": [
           {
            "marker": {
             "pattern": {
              "fillmode": "overlay",
              "size": 10,
              "solidity": 0.2
             }
            },
            "type": "histogram"
           }
          ],
          "histogram2d": [
           {
            "colorbar": {
             "outlinewidth": 0,
             "ticks": ""
            },
            "colorscale": [
             [
              0,
              "#0d0887"
             ],
             [
              0.1111111111111111,
              "#46039f"
             ],
             [
              0.2222222222222222,
              "#7201a8"
             ],
             [
              0.3333333333333333,
              "#9c179e"
             ],
             [
              0.4444444444444444,
              "#bd3786"
             ],
             [
              0.5555555555555556,
              "#d8576b"
             ],
             [
              0.6666666666666666,
              "#ed7953"
             ],
             [
              0.7777777777777778,
              "#fb9f3a"
             ],
             [
              0.8888888888888888,
              "#fdca26"
             ],
             [
              1,
              "#f0f921"
             ]
            ],
            "type": "histogram2d"
           }
          ],
          "histogram2dcontour": [
           {
            "colorbar": {
             "outlinewidth": 0,
             "ticks": ""
            },
            "colorscale": [
             [
              0,
              "#0d0887"
             ],
             [
              0.1111111111111111,
              "#46039f"
             ],
             [
              0.2222222222222222,
              "#7201a8"
             ],
             [
              0.3333333333333333,
              "#9c179e"
             ],
             [
              0.4444444444444444,
              "#bd3786"
             ],
             [
              0.5555555555555556,
              "#d8576b"
             ],
             [
              0.6666666666666666,
              "#ed7953"
             ],
             [
              0.7777777777777778,
              "#fb9f3a"
             ],
             [
              0.8888888888888888,
              "#fdca26"
             ],
             [
              1,
              "#f0f921"
             ]
            ],
            "type": "histogram2dcontour"
           }
          ],
          "mesh3d": [
           {
            "colorbar": {
             "outlinewidth": 0,
             "ticks": ""
            },
            "type": "mesh3d"
           }
          ],
          "parcoords": [
           {
            "line": {
             "colorbar": {
              "outlinewidth": 0,
              "ticks": ""
             }
            },
            "type": "parcoords"
           }
          ],
          "pie": [
           {
            "automargin": true,
            "type": "pie"
           }
          ],
          "scatter": [
           {
            "fillpattern": {
             "fillmode": "overlay",
             "size": 10,
             "solidity": 0.2
            },
            "type": "scatter"
           }
          ],
          "scatter3d": [
           {
            "line": {
             "colorbar": {
              "outlinewidth": 0,
              "ticks": ""
             }
            },
            "marker": {
             "colorbar": {
              "outlinewidth": 0,
              "ticks": ""
             }
            },
            "type": "scatter3d"
           }
          ],
          "scattercarpet": [
           {
            "marker": {
             "colorbar": {
              "outlinewidth": 0,
              "ticks": ""
             }
            },
            "type": "scattercarpet"
           }
          ],
          "scattergeo": [
           {
            "marker": {
             "colorbar": {
              "outlinewidth": 0,
              "ticks": ""
             }
            },
            "type": "scattergeo"
           }
          ],
          "scattergl": [
           {
            "marker": {
             "colorbar": {
              "outlinewidth": 0,
              "ticks": ""
             }
            },
            "type": "scattergl"
           }
          ],
          "scattermap": [
           {
            "marker": {
             "colorbar": {
              "outlinewidth": 0,
              "ticks": ""
             }
            },
            "type": "scattermap"
           }
          ],
          "scattermapbox": [
           {
            "marker": {
             "colorbar": {
              "outlinewidth": 0,
              "ticks": ""
             }
            },
            "type": "scattermapbox"
           }
          ],
          "scatterpolar": [
           {
            "marker": {
             "colorbar": {
              "outlinewidth": 0,
              "ticks": ""
             }
            },
            "type": "scatterpolar"
           }
          ],
          "scatterpolargl": [
           {
            "marker": {
             "colorbar": {
              "outlinewidth": 0,
              "ticks": ""
             }
            },
            "type": "scatterpolargl"
           }
          ],
          "scatterternary": [
           {
            "marker": {
             "colorbar": {
              "outlinewidth": 0,
              "ticks": ""
             }
            },
            "type": "scatterternary"
           }
          ],
          "surface": [
           {
            "colorbar": {
             "outlinewidth": 0,
             "ticks": ""
            },
            "colorscale": [
             [
              0,
              "#0d0887"
             ],
             [
              0.1111111111111111,
              "#46039f"
             ],
             [
              0.2222222222222222,
              "#7201a8"
             ],
             [
              0.3333333333333333,
              "#9c179e"
             ],
             [
              0.4444444444444444,
              "#bd3786"
             ],
             [
              0.5555555555555556,
              "#d8576b"
             ],
             [
              0.6666666666666666,
              "#ed7953"
             ],
             [
              0.7777777777777778,
              "#fb9f3a"
             ],
             [
              0.8888888888888888,
              "#fdca26"
             ],
             [
              1,
              "#f0f921"
             ]
            ],
            "type": "surface"
           }
          ],
          "table": [
           {
            "cells": {
             "fill": {
              "color": "#EBF0F8"
             },
             "line": {
              "color": "white"
             }
            },
            "header": {
             "fill": {
              "color": "#C8D4E3"
             },
             "line": {
              "color": "white"
             }
            },
            "type": "table"
           }
          ]
         },
         "layout": {
          "annotationdefaults": {
           "arrowcolor": "#2a3f5f",
           "arrowhead": 0,
           "arrowwidth": 1
          },
          "autotypenumbers": "strict",
          "coloraxis": {
           "colorbar": {
            "outlinewidth": 0,
            "ticks": ""
           }
          },
          "colorscale": {
           "diverging": [
            [
             0,
             "#8e0152"
            ],
            [
             0.1,
             "#c51b7d"
            ],
            [
             0.2,
             "#de77ae"
            ],
            [
             0.3,
             "#f1b6da"
            ],
            [
             0.4,
             "#fde0ef"
            ],
            [
             0.5,
             "#f7f7f7"
            ],
            [
             0.6,
             "#e6f5d0"
            ],
            [
             0.7,
             "#b8e186"
            ],
            [
             0.8,
             "#7fbc41"
            ],
            [
             0.9,
             "#4d9221"
            ],
            [
             1,
             "#276419"
            ]
           ],
           "sequential": [
            [
             0,
             "#0d0887"
            ],
            [
             0.1111111111111111,
             "#46039f"
            ],
            [
             0.2222222222222222,
             "#7201a8"
            ],
            [
             0.3333333333333333,
             "#9c179e"
            ],
            [
             0.4444444444444444,
             "#bd3786"
            ],
            [
             0.5555555555555556,
             "#d8576b"
            ],
            [
             0.6666666666666666,
             "#ed7953"
            ],
            [
             0.7777777777777778,
             "#fb9f3a"
            ],
            [
             0.8888888888888888,
             "#fdca26"
            ],
            [
             1,
             "#f0f921"
            ]
           ],
           "sequentialminus": [
            [
             0,
             "#0d0887"
            ],
            [
             0.1111111111111111,
             "#46039f"
            ],
            [
             0.2222222222222222,
             "#7201a8"
            ],
            [
             0.3333333333333333,
             "#9c179e"
            ],
            [
             0.4444444444444444,
             "#bd3786"
            ],
            [
             0.5555555555555556,
             "#d8576b"
            ],
            [
             0.6666666666666666,
             "#ed7953"
            ],
            [
             0.7777777777777778,
             "#fb9f3a"
            ],
            [
             0.8888888888888888,
             "#fdca26"
            ],
            [
             1,
             "#f0f921"
            ]
           ]
          },
          "colorway": [
           "#636efa",
           "#EF553B",
           "#00cc96",
           "#ab63fa",
           "#FFA15A",
           "#19d3f3",
           "#FF6692",
           "#B6E880",
           "#FF97FF",
           "#FECB52"
          ],
          "font": {
           "color": "#2a3f5f"
          },
          "geo": {
           "bgcolor": "white",
           "lakecolor": "white",
           "landcolor": "#E5ECF6",
           "showlakes": true,
           "showland": true,
           "subunitcolor": "white"
          },
          "hoverlabel": {
           "align": "left"
          },
          "hovermode": "closest",
          "mapbox": {
           "style": "light"
          },
          "paper_bgcolor": "white",
          "plot_bgcolor": "#E5ECF6",
          "polar": {
           "angularaxis": {
            "gridcolor": "white",
            "linecolor": "white",
            "ticks": ""
           },
           "bgcolor": "#E5ECF6",
           "radialaxis": {
            "gridcolor": "white",
            "linecolor": "white",
            "ticks": ""
           }
          },
          "scene": {
           "xaxis": {
            "backgroundcolor": "#E5ECF6",
            "gridcolor": "white",
            "gridwidth": 2,
            "linecolor": "white",
            "showbackground": true,
            "ticks": "",
            "zerolinecolor": "white"
           },
           "yaxis": {
            "backgroundcolor": "#E5ECF6",
            "gridcolor": "white",
            "gridwidth": 2,
            "linecolor": "white",
            "showbackground": true,
            "ticks": "",
            "zerolinecolor": "white"
           },
           "zaxis": {
            "backgroundcolor": "#E5ECF6",
            "gridcolor": "white",
            "gridwidth": 2,
            "linecolor": "white",
            "showbackground": true,
            "ticks": "",
            "zerolinecolor": "white"
           }
          },
          "shapedefaults": {
           "line": {
            "color": "#2a3f5f"
           }
          },
          "ternary": {
           "aaxis": {
            "gridcolor": "white",
            "linecolor": "white",
            "ticks": ""
           },
           "baxis": {
            "gridcolor": "white",
            "linecolor": "white",
            "ticks": ""
           },
           "bgcolor": "#E5ECF6",
           "caxis": {
            "gridcolor": "white",
            "linecolor": "white",
            "ticks": ""
           }
          },
          "title": {
           "x": 0.05
          },
          "xaxis": {
           "automargin": true,
           "gridcolor": "white",
           "linecolor": "white",
           "ticks": "",
           "title": {
            "standoff": 15
           },
           "zerolinecolor": "white",
           "zerolinewidth": 2
          },
          "yaxis": {
           "automargin": true,
           "gridcolor": "white",
           "linecolor": "white",
           "ticks": "",
           "title": {
            "standoff": 15
           },
           "zerolinecolor": "white",
           "zerolinewidth": 2
          }
         }
        },
        "title": {
         "text": "Coffee Coupon Acceptance Rate by Time of Day"
        },
        "width": 700,
        "xaxis": {
         "anchor": "y",
         "domain": [
          0,
          1
         ],
         "title": {
          "text": "Time of Day"
         }
        },
        "yaxis": {
         "anchor": "x",
         "domain": [
          0,
          1
         ],
         "title": {
          "text": "Acceptance Rate"
         }
        }
       }
      },
      "image/png": "[encoded data removed]"
     },
     "metadata": {},
     "output_type": "display_data"
    }
   ],
   "source": [
    "time_order = ['7AM', '10AM', '2PM', '6PM', '10PM']\n",
    "coffee_data['time'] = pd.Categorical(coffee_data['time'], categories=time_order, ordered=True)\n",
    "\n",
    "acceptance_by_time = coffee_data.groupby('time', observed=True)['Y'].mean().reset_index()\n",
    "\n",
    "import plotly.express as px\n",
    "\n",
    "fig = px.line(\n",
    "    acceptance_by_time,\n",
    "    x='time',\n",
    "    y='Y',\n",
    "    width=700,\n",
    "    markers=True,\n",
    "    title='Coffee Coupon Acceptance Rate by Time of Day',\n",
    "    labels={'Y': 'Acceptance Rate', 'time': 'Time of Day'}\n",
    ")\n",
    "fig.write_image(\"images/coffee_house_acceptance_rate_by_time_of_day.png\", width = 900, height = 700, scale = 1)  # Save as PNG\n",
    "fig.show()\n"
   ]
  },
  {
   "cell_type": "code",
   "execution_count": 83,
   "metadata": {
    "id": "RrqUWn7d_qRL"
   },
   "outputs": [
    {
     "data": {
      "application/vnd.plotly.v1+json": {
       "config": {
        "plotlyServerURL": "https://plot.ly"
       },
       "data": [
        {
         "alignmentgroup": "True",
         "hovertemplate": "passanger=%{x}<br>Age=%{y}<extra></extra>",
         "legendgroup": "Friend(s)",
         "marker": {
          "color": "#636efa"
         },
         "name": "Friend(s)",
         "notched": false,
         "offsetgroup": "Friend(s)",
         "orientation": "v",
         "showlegend": true,
         "type": "box",
         "x": [
          "Friend(s)",
          "Friend(s)",
          "Friend(s)",
          "Friend(s)",
          "Friend(s)",
          "Friend(s)",
          "Friend(s)",
          "Friend(s)",
          "Friend(s)",
          "Friend(s)",
          "Friend(s)",
          "Friend(s)",
          "Friend(s)",
          "Friend(s)",
          "Friend(s)",
          "Friend(s)",
          "Friend(s)",
          "Friend(s)",
          "Friend(s)",
          "Friend(s)",
          "Friend(s)",
          "Friend(s)",
          "Friend(s)",
          "Friend(s)",
          "Friend(s)",
          "Friend(s)",
          "Friend(s)",
          "Friend(s)",
          "Friend(s)",
          "Friend(s)",
          "Friend(s)",
          "Friend(s)",
          "Friend(s)",
          "Friend(s)",
          "Friend(s)",
          "Friend(s)",
          "Friend(s)",
          "Friend(s)",
          "Friend(s)",
          "Friend(s)",
          "Friend(s)",
          "Friend(s)",
          "Friend(s)",
          "Friend(s)",
          "Friend(s)",
          "Friend(s)",
          "Friend(s)",
          "Friend(s)",
          "Friend(s)",
          "Friend(s)",
          "Friend(s)",
          "Friend(s)",
          "Friend(s)",
          "Friend(s)",
          "Friend(s)",
          "Friend(s)",
          "Friend(s)",
          "Friend(s)",
          "Friend(s)",
          "Friend(s)",
          "Friend(s)",
          "Friend(s)",
          "Friend(s)",
          "Friend(s)",
          "Friend(s)",
          "Friend(s)",
          "Friend(s)",
          "Friend(s)",
          "Friend(s)",
          "Friend(s)",
          "Friend(s)",
          "Friend(s)",
          "Friend(s)",
          "Friend(s)",
          "Friend(s)",
          "Friend(s)",
          "Friend(s)",
          "Friend(s)",
          "Friend(s)",
          "Friend(s)",
          "Friend(s)",
          "Friend(s)",
          "Friend(s)",
          "Friend(s)",
          "Friend(s)",
          "Friend(s)",
          "Friend(s)",
          "Friend(s)",
          "Friend(s)",
          "Friend(s)",
          "Friend(s)",
          "Friend(s)",
          "Friend(s)",
          "Friend(s)",
          "Friend(s)",
          "Friend(s)",
          "Friend(s)",
          "Friend(s)",
          "Friend(s)",
          "Friend(s)",
          "Friend(s)",
          "Friend(s)",
          "Friend(s)",
          "Friend(s)",
          "Friend(s)",
          "Friend(s)",
          "Friend(s)",
          "Friend(s)",
          "Friend(s)",
          "Friend(s)",
          "Friend(s)",
          "Friend(s)",
          "Friend(s)",
          "Friend(s)",
          "Friend(s)",
          "Friend(s)",
          "Friend(s)",
          "Friend(s)",
          "Friend(s)",
          "Friend(s)",
          "Friend(s)",
          "Friend(s)",
          "Friend(s)",
          "Friend(s)",
          "Friend(s)",
          "Friend(s)",
          "Friend(s)",
          "Friend(s)",
          "Friend(s)",
          "Friend(s)",
          "Friend(s)",
          "Friend(s)",
          "Friend(s)",
          "Friend(s)",
          "Friend(s)",
          "Friend(s)",
          "Friend(s)",
          "Friend(s)",
          "Friend(s)",
          "Friend(s)",
          "Friend(s)",
          "Friend(s)",
          "Friend(s)",
          "Friend(s)",
          "Friend(s)",
          "Friend(s)",
          "Friend(s)",
          "Friend(s)",
          "Friend(s)",
          "Friend(s)",
          "Friend(s)",
          "Friend(s)",
          "Friend(s)",
          "Friend(s)",
          "Friend(s)",
          "Friend(s)",
          "Friend(s)",
          "Friend(s)",
          "Friend(s)",
          "Friend(s)",
          "Friend(s)",
          "Friend(s)",
          "Friend(s)",
          "Friend(s)",
          "Friend(s)",
          "Friend(s)",
          "Friend(s)",
          "Friend(s)",
          "Friend(s)",
          "Friend(s)",
          "Friend(s)",
          "Friend(s)",
          "Friend(s)",
          "Friend(s)",
          "Friend(s)",
          "Friend(s)",
          "Friend(s)",
          "Friend(s)",
          "Friend(s)",
          "Friend(s)",
          "Friend(s)",
          "Friend(s)",
          "Friend(s)",
          "Friend(s)",
          "Friend(s)",
          "Friend(s)",
          "Friend(s)",
          "Friend(s)",
          "Friend(s)",
          "Friend(s)",
          "Friend(s)",
          "Friend(s)",
          "Friend(s)",
          "Friend(s)",
          "Friend(s)",
          "Friend(s)",
          "Friend(s)",
          "Friend(s)",
          "Friend(s)",
          "Friend(s)",
          "Friend(s)",
          "Friend(s)",
          "Friend(s)",
          "Friend(s)",
          "Friend(s)",
          "Friend(s)",
          "Friend(s)",
          "Friend(s)",
          "Friend(s)",
          "Friend(s)",
          "Friend(s)",
          "Friend(s)",
          "Friend(s)",
          "Friend(s)",
          "Friend(s)",
          "Friend(s)",
          "Friend(s)",
          "Friend(s)",
          "Friend(s)",
          "Friend(s)",
          "Friend(s)",
          "Friend(s)",
          "Friend(s)",
          "Friend(s)",
          "Friend(s)",
          "Friend(s)",
          "Friend(s)",
          "Friend(s)",
          "Friend(s)",
          "Friend(s)",
          "Friend(s)",
          "Friend(s)",
          "Friend(s)",
          "Friend(s)",
          "Friend(s)",
          "Friend(s)",
          "Friend(s)",
          "Friend(s)",
          "Friend(s)",
          "Friend(s)",
          "Friend(s)",
          "Friend(s)",
          "Friend(s)",
          "Friend(s)",
          "Friend(s)",
          "Friend(s)",
          "Friend(s)",
          "Friend(s)",
          "Friend(s)",
          "Friend(s)",
          "Friend(s)",
          "Friend(s)",
          "Friend(s)",
          "Friend(s)",
          "Friend(s)",
          "Friend(s)",
          "Friend(s)",
          "Friend(s)",
          "Friend(s)",
          "Friend(s)",
          "Friend(s)",
          "Friend(s)",
          "Friend(s)",
          "Friend(s)",
          "Friend(s)",
          "Friend(s)",
          "Friend(s)",
          "Friend(s)",
          "Friend(s)",
          "Friend(s)",
          "Friend(s)",
          "Friend(s)",
          "Friend(s)",
          "Friend(s)",
          "Friend(s)",
          "Friend(s)",
          "Friend(s)",
          "Friend(s)",
          "Friend(s)",
          "Friend(s)",
          "Friend(s)",
          "Friend(s)",
          "Friend(s)",
          "Friend(s)",
          "Friend(s)",
          "Friend(s)",
          "Friend(s)",
          "Friend(s)",
          "Friend(s)",
          "Friend(s)",
          "Friend(s)",
          "Friend(s)",
          "Friend(s)",
          "Friend(s)",
          "Friend(s)",
          "Friend(s)",
          "Friend(s)",
          "Friend(s)",
          "Friend(s)",
          "Friend(s)",
          "Friend(s)",
          "Friend(s)",
          "Friend(s)",
          "Friend(s)",
          "Friend(s)",
          "Friend(s)",
          "Friend(s)",
          "Friend(s)",
          "Friend(s)",
          "Friend(s)",
          "Friend(s)",
          "Friend(s)",
          "Friend(s)",
          "Friend(s)",
          "Friend(s)",
          "Friend(s)",
          "Friend(s)",
          "Friend(s)",
          "Friend(s)",
          "Friend(s)",
          "Friend(s)",
          "Friend(s)",
          "Friend(s)",
          "Friend(s)",
          "Friend(s)",
          "Friend(s)",
          "Friend(s)",
          "Friend(s)",
          "Friend(s)",
          "Friend(s)",
          "Friend(s)",
          "Friend(s)",
          "Friend(s)",
          "Friend(s)",
          "Friend(s)",
          "Friend(s)",
          "Friend(s)",
          "Friend(s)",
          "Friend(s)",
          "Friend(s)",
          "Friend(s)",
          "Friend(s)",
          "Friend(s)",
          "Friend(s)",
          "Friend(s)",
          "Friend(s)",
          "Friend(s)",
          "Friend(s)",
          "Friend(s)",
          "Friend(s)",
          "Friend(s)",
          "Friend(s)",
          "Friend(s)",
          "Friend(s)",
          "Friend(s)",
          "Friend(s)",
          "Friend(s)",
          "Friend(s)",
          "Friend(s)",
          "Friend(s)",
          "Friend(s)",
          "Friend(s)",
          "Friend(s)",
          "Friend(s)",
          "Friend(s)",
          "Friend(s)",
          "Friend(s)",
          "Friend(s)",
          "Friend(s)",
          "Friend(s)",
          "Friend(s)",
          "Friend(s)",
          "Friend(s)",
          "Friend(s)",
          "Friend(s)",
          "Friend(s)",
          "Friend(s)",
          "Friend(s)",
          "Friend(s)",
          "Friend(s)",
          "Friend(s)",
          "Friend(s)",
          "Friend(s)",
          "Friend(s)",
          "Friend(s)",
          "Friend(s)",
          "Friend(s)",
          "Friend(s)",
          "Friend(s)",
          "Friend(s)",
          "Friend(s)",
          "Friend(s)",
          "Friend(s)",
          "Friend(s)",
          "Friend(s)",
          "Friend(s)",
          "Friend(s)",
          "Friend(s)",
          "Friend(s)",
          "Friend(s)",
          "Friend(s)",
          "Friend(s)",
          "Friend(s)",
          "Friend(s)",
          "Friend(s)",
          "Friend(s)",
          "Friend(s)",
          "Friend(s)",
          "Friend(s)",
          "Friend(s)",
          "Friend(s)",
          "Friend(s)",
          "Friend(s)",
          "Friend(s)",
          "Friend(s)",
          "Friend(s)",
          "Friend(s)",
          "Friend(s)",
          "Friend(s)",
          "Friend(s)",
          "Friend(s)",
          "Friend(s)",
          "Friend(s)",
          "Friend(s)",
          "Friend(s)",
          "Friend(s)",
          "Friend(s)",
          "Friend(s)",
          "Friend(s)",
          "Friend(s)",
          "Friend(s)",
          "Friend(s)",
          "Friend(s)",
          "Friend(s)",
          "Friend(s)",
          "Friend(s)",
          "Friend(s)",
          "Friend(s)",
          "Friend(s)",
          "Friend(s)",
          "Friend(s)",
          "Friend(s)",
          "Friend(s)",
          "Friend(s)",
          "Friend(s)",
          "Friend(s)",
          "Friend(s)",
          "Friend(s)",
          "Friend(s)",
          "Friend(s)",
          "Friend(s)",
          "Friend(s)",
          "Friend(s)",
          "Friend(s)",
          "Friend(s)",
          "Friend(s)",
          "Friend(s)",
          "Friend(s)",
          "Friend(s)",
          "Friend(s)",
          "Friend(s)",
          "Friend(s)",
          "Friend(s)",
          "Friend(s)",
          "Friend(s)",
          "Friend(s)",
          "Friend(s)",
          "Friend(s)",
          "Friend(s)",
          "Friend(s)",
          "Friend(s)",
          "Friend(s)",
          "Friend(s)",
          "Friend(s)",
          "Friend(s)",
          "Friend(s)",
          "Friend(s)",
          "Friend(s)",
          "Friend(s)",
          "Friend(s)",
          "Friend(s)",
          "Friend(s)",
          "Friend(s)",
          "Friend(s)",
          "Friend(s)",
          "Friend(s)",
          "Friend(s)",
          "Friend(s)",
          "Friend(s)",
          "Friend(s)",
          "Friend(s)",
          "Friend(s)",
          "Friend(s)",
          "Friend(s)",
          "Friend(s)",
          "Friend(s)",
          "Friend(s)",
          "Friend(s)",
          "Friend(s)",
          "Friend(s)",
          "Friend(s)",
          "Friend(s)",
          "Friend(s)",
          "Friend(s)",
          "Friend(s)",
          "Friend(s)",
          "Friend(s)",
          "Friend(s)",
          "Friend(s)",
          "Friend(s)",
          "Friend(s)",
          "Friend(s)",
          "Friend(s)",
          "Friend(s)",
          "Friend(s)",
          "Friend(s)",
          "Friend(s)",
          "Friend(s)",
          "Friend(s)",
          "Friend(s)",
          "Friend(s)",
          "Friend(s)",
          "Friend(s)",
          "Friend(s)",
          "Friend(s)",
          "Friend(s)",
          "Friend(s)",
          "Friend(s)",
          "Friend(s)",
          "Friend(s)",
          "Friend(s)",
          "Friend(s)",
          "Friend(s)",
          "Friend(s)",
          "Friend(s)",
          "Friend(s)",
          "Friend(s)",
          "Friend(s)",
          "Friend(s)",
          "Friend(s)",
          "Friend(s)",
          "Friend(s)",
          "Friend(s)",
          "Friend(s)",
          "Friend(s)",
          "Friend(s)",
          "Friend(s)",
          "Friend(s)",
          "Friend(s)",
          "Friend(s)",
          "Friend(s)",
          "Friend(s)",
          "Friend(s)",
          "Friend(s)",
          "Friend(s)",
          "Friend(s)",
          "Friend(s)",
          "Friend(s)",
          "Friend(s)",
          "Friend(s)",
          "Friend(s)",
          "Friend(s)",
          "Friend(s)",
          "Friend(s)",
          "Friend(s)",
          "Friend(s)",
          "Friend(s)",
          "Friend(s)",
          "Friend(s)",
          "Friend(s)",
          "Friend(s)",
          "Friend(s)",
          "Friend(s)",
          "Friend(s)",
          "Friend(s)",
          "Friend(s)",
          "Friend(s)",
          "Friend(s)",
          "Friend(s)",
          "Friend(s)",
          "Friend(s)",
          "Friend(s)",
          "Friend(s)",
          "Friend(s)",
          "Friend(s)",
          "Friend(s)",
          "Friend(s)",
          "Friend(s)",
          "Friend(s)",
          "Friend(s)",
          "Friend(s)",
          "Friend(s)",
          "Friend(s)",
          "Friend(s)",
          "Friend(s)",
          "Friend(s)",
          "Friend(s)",
          "Friend(s)",
          "Friend(s)",
          "Friend(s)",
          "Friend(s)",
          "Friend(s)",
          "Friend(s)",
          "Friend(s)",
          "Friend(s)",
          "Friend(s)",
          "Friend(s)",
          "Friend(s)",
          "Friend(s)",
          "Friend(s)",
          "Friend(s)",
          "Friend(s)",
          "Friend(s)",
          "Friend(s)",
          "Friend(s)",
          "Friend(s)",
          "Friend(s)",
          "Friend(s)",
          "Friend(s)",
          "Friend(s)",
          "Friend(s)",
          "Friend(s)",
          "Friend(s)",
          "Friend(s)",
          "Friend(s)",
          "Friend(s)",
          "Friend(s)",
          "Friend(s)",
          "Friend(s)",
          "Friend(s)",
          "Friend(s)",
          "Friend(s)",
          "Friend(s)",
          "Friend(s)",
          "Friend(s)",
          "Friend(s)",
          "Friend(s)",
          "Friend(s)",
          "Friend(s)",
          "Friend(s)",
          "Friend(s)",
          "Friend(s)",
          "Friend(s)",
          "Friend(s)",
          "Friend(s)",
          "Friend(s)",
          "Friend(s)",
          "Friend(s)",
          "Friend(s)",
          "Friend(s)",
          "Friend(s)",
          "Friend(s)",
          "Friend(s)",
          "Friend(s)",
          "Friend(s)",
          "Friend(s)",
          "Friend(s)",
          "Friend(s)",
          "Friend(s)",
          "Friend(s)",
          "Friend(s)",
          "Friend(s)",
          "Friend(s)",
          "Friend(s)",
          "Friend(s)",
          "Friend(s)",
          "Friend(s)",
          "Friend(s)",
          "Friend(s)",
          "Friend(s)",
          "Friend(s)",
          "Friend(s)",
          "Friend(s)",
          "Friend(s)",
          "Friend(s)",
          "Friend(s)",
          "Friend(s)",
          "Friend(s)",
          "Friend(s)",
          "Friend(s)",
          "Friend(s)",
          "Friend(s)",
          "Friend(s)",
          "Friend(s)",
          "Friend(s)",
          "Friend(s)",
          "Friend(s)",
          "Friend(s)",
          "Friend(s)",
          "Friend(s)",
          "Friend(s)",
          "Friend(s)",
          "Friend(s)",
          "Friend(s)",
          "Friend(s)",
          "Friend(s)",
          "Friend(s)",
          "Friend(s)",
          "Friend(s)",
          "Friend(s)",
          "Friend(s)",
          "Friend(s)",
          "Friend(s)",
          "Friend(s)",
          "Friend(s)",
          "Friend(s)",
          "Friend(s)",
          "Friend(s)",
          "Friend(s)",
          "Friend(s)",
          "Friend(s)",
          "Friend(s)",
          "Friend(s)",
          "Friend(s)",
          "Friend(s)",
          "Friend(s)",
          "Friend(s)",
          "Friend(s)",
          "Friend(s)",
          "Friend(s)",
          "Friend(s)",
          "Friend(s)",
          "Friend(s)",
          "Friend(s)",
          "Friend(s)",
          "Friend(s)",
          "Friend(s)",
          "Friend(s)",
          "Friend(s)",
          "Friend(s)",
          "Friend(s)",
          "Friend(s)",
          "Friend(s)",
          "Friend(s)",
          "Friend(s)",
          "Friend(s)",
          "Friend(s)",
          "Friend(s)",
          "Friend(s)",
          "Friend(s)",
          "Friend(s)",
          "Friend(s)",
          "Friend(s)",
          "Friend(s)",
          "Friend(s)",
          "Friend(s)",
          "Friend(s)",
          "Friend(s)",
          "Friend(s)",
          "Friend(s)",
          "Friend(s)",
          "Friend(s)",
          "Friend(s)",
          "Friend(s)",
          "Friend(s)",
          "Friend(s)",
          "Friend(s)",
          "Friend(s)",
          "Friend(s)",
          "Friend(s)",
          "Friend(s)",
          "Friend(s)",
          "Friend(s)",
          "Friend(s)",
          "Friend(s)",
          "Friend(s)",
          "Friend(s)",
          "Friend(s)",
          "Friend(s)",
          "Friend(s)",
          "Friend(s)",
          "Friend(s)",
          "Friend(s)",
          "Friend(s)",
          "Friend(s)",
          "Friend(s)",
          "Friend(s)",
          "Friend(s)",
          "Friend(s)",
          "Friend(s)",
          "Friend(s)",
          "Friend(s)",
          "Friend(s)",
          "Friend(s)",
          "Friend(s)",
          "Friend(s)",
          "Friend(s)",
          "Friend(s)",
          "Friend(s)",
          "Friend(s)",
          "Friend(s)",
          "Friend(s)",
          "Friend(s)",
          "Friend(s)",
          "Friend(s)",
          "Friend(s)",
          "Friend(s)",
          "Friend(s)",
          "Friend(s)",
          "Friend(s)",
          "Friend(s)",
          "Friend(s)",
          "Friend(s)",
          "Friend(s)",
          "Friend(s)",
          "Friend(s)",
          "Friend(s)",
          "Friend(s)",
          "Friend(s)",
          "Friend(s)",
          "Friend(s)",
          "Friend(s)",
          "Friend(s)",
          "Friend(s)",
          "Friend(s)",
          "Friend(s)",
          "Friend(s)",
          "Friend(s)",
          "Friend(s)",
          "Friend(s)",
          "Friend(s)",
          "Friend(s)",
          "Friend(s)",
          "Friend(s)",
          "Friend(s)",
          "Friend(s)",
          "Friend(s)",
          "Friend(s)",
          "Friend(s)",
          "Friend(s)",
          "Friend(s)",
          "Friend(s)",
          "Friend(s)",
          "Friend(s)",
          "Friend(s)",
          "Friend(s)",
          "Friend(s)",
          "Friend(s)",
          "Friend(s)",
          "Friend(s)",
          "Friend(s)",
          "Friend(s)",
          "Friend(s)",
          "Friend(s)",
          "Friend(s)",
          "Friend(s)",
          "Friend(s)",
          "Friend(s)",
          "Friend(s)",
          "Friend(s)",
          "Friend(s)",
          "Friend(s)",
          "Friend(s)",
          "Friend(s)",
          "Friend(s)",
          "Friend(s)",
          "Friend(s)",
          "Friend(s)",
          "Friend(s)",
          "Friend(s)",
          "Friend(s)",
          "Friend(s)",
          "Friend(s)",
          "Friend(s)",
          "Friend(s)",
          "Friend(s)",
          "Friend(s)",
          "Friend(s)",
          "Friend(s)",
          "Friend(s)",
          "Friend(s)",
          "Friend(s)",
          "Friend(s)",
          "Friend(s)",
          "Friend(s)",
          "Friend(s)",
          "Friend(s)",
          "Friend(s)",
          "Friend(s)",
          "Friend(s)",
          "Friend(s)",
          "Friend(s)",
          "Friend(s)",
          "Friend(s)",
          "Friend(s)",
          "Friend(s)",
          "Friend(s)",
          "Friend(s)",
          "Friend(s)",
          "Friend(s)",
          "Friend(s)",
          "Friend(s)",
          "Friend(s)",
          "Friend(s)",
          "Friend(s)",
          "Friend(s)",
          "Friend(s)",
          "Friend(s)",
          "Friend(s)",
          "Friend(s)",
          "Friend(s)",
          "Friend(s)",
          "Friend(s)",
          "Friend(s)",
          "Friend(s)",
          "Friend(s)",
          "Friend(s)",
          "Friend(s)",
          "Friend(s)",
          "Friend(s)",
          "Friend(s)",
          "Friend(s)",
          "Friend(s)",
          "Friend(s)",
          "Friend(s)",
          "Friend(s)",
          "Friend(s)",
          "Friend(s)",
          "Friend(s)",
          "Friend(s)",
          "Friend(s)",
          "Friend(s)",
          "Friend(s)",
          "Friend(s)",
          "Friend(s)",
          "Friend(s)",
          "Friend(s)",
          "Friend(s)",
          "Friend(s)",
          "Friend(s)",
          "Friend(s)",
          "Friend(s)",
          "Friend(s)",
          "Friend(s)",
          "Friend(s)",
          "Friend(s)",
          "Friend(s)",
          "Friend(s)",
          "Friend(s)",
          "Friend(s)",
          "Friend(s)",
          "Friend(s)",
          "Friend(s)",
          "Friend(s)",
          "Friend(s)",
          "Friend(s)",
          "Friend(s)",
          "Friend(s)",
          "Friend(s)",
          "Friend(s)",
          "Friend(s)",
          "Friend(s)",
          "Friend(s)",
          "Friend(s)",
          "Friend(s)",
          "Friend(s)",
          "Friend(s)",
          "Friend(s)",
          "Friend(s)",
          "Friend(s)",
          "Friend(s)",
          "Friend(s)",
          "Friend(s)",
          "Friend(s)",
          "Friend(s)",
          "Friend(s)",
          "Friend(s)",
          "Friend(s)",
          "Friend(s)",
          "Friend(s)",
          "Friend(s)",
          "Friend(s)",
          "Friend(s)",
          "Friend(s)",
          "Friend(s)",
          "Friend(s)",
          "Friend(s)",
          "Friend(s)",
          "Friend(s)",
          "Friend(s)",
          "Friend(s)",
          "Friend(s)",
          "Friend(s)",
          "Friend(s)",
          "Friend(s)",
          "Friend(s)",
          "Friend(s)",
          "Friend(s)",
          "Friend(s)",
          "Friend(s)",
          "Friend(s)",
          "Friend(s)",
          "Friend(s)",
          "Friend(s)",
          "Friend(s)",
          "Friend(s)",
          "Friend(s)",
          "Friend(s)",
          "Friend(s)",
          "Friend(s)",
          "Friend(s)",
          "Friend(s)",
          "Friend(s)",
          "Friend(s)",
          "Friend(s)",
          "Friend(s)",
          "Friend(s)",
          "Friend(s)",
          "Friend(s)",
          "Friend(s)",
          "Friend(s)",
          "Friend(s)",
          "Friend(s)",
          "Friend(s)",
          "Friend(s)",
          "Friend(s)",
          "Friend(s)",
          "Friend(s)",
          "Friend(s)",
          "Friend(s)",
          "Friend(s)",
          "Friend(s)",
          "Friend(s)",
          "Friend(s)",
          "Friend(s)",
          "Friend(s)",
          "Friend(s)",
          "Friend(s)",
          "Friend(s)",
          "Friend(s)",
          "Friend(s)",
          "Friend(s)",
          "Friend(s)",
          "Friend(s)",
          "Friend(s)",
          "Friend(s)",
          "Friend(s)",
          "Friend(s)",
          "Friend(s)",
          "Friend(s)",
          "Friend(s)",
          "Friend(s)",
          "Friend(s)",
          "Friend(s)",
          "Friend(s)",
          "Friend(s)",
          "Friend(s)",
          "Friend(s)",
          "Friend(s)",
          "Friend(s)",
          "Friend(s)",
          "Friend(s)",
          "Friend(s)",
          "Friend(s)",
          "Friend(s)",
          "Friend(s)",
          "Friend(s)",
          "Friend(s)",
          "Friend(s)",
          "Friend(s)",
          "Friend(s)",
          "Friend(s)",
          "Friend(s)",
          "Friend(s)",
          "Friend(s)",
          "Friend(s)",
          "Friend(s)",
          "Friend(s)",
          "Friend(s)",
          "Friend(s)",
          "Friend(s)",
          "Friend(s)",
          "Friend(s)",
          "Friend(s)",
          "Friend(s)",
          "Friend(s)",
          "Friend(s)",
          "Friend(s)",
          "Friend(s)",
          "Friend(s)",
          "Friend(s)",
          "Friend(s)",
          "Friend(s)",
          "Friend(s)",
          "Friend(s)",
          "Friend(s)",
          "Friend(s)",
          "Friend(s)",
          "Friend(s)",
          "Friend(s)",
          "Friend(s)",
          "Friend(s)",
          "Friend(s)",
          "Friend(s)",
          "Friend(s)",
          "Friend(s)",
          "Friend(s)",
          "Friend(s)",
          "Friend(s)",
          "Friend(s)",
          "Friend(s)",
          "Friend(s)",
          "Friend(s)",
          "Friend(s)",
          "Friend(s)",
          "Friend(s)",
          "Friend(s)",
          "Friend(s)",
          "Friend(s)",
          "Friend(s)",
          "Friend(s)",
          "Friend(s)",
          "Friend(s)",
          "Friend(s)",
          "Friend(s)",
          "Friend(s)",
          "Friend(s)",
          "Friend(s)",
          "Friend(s)",
          "Friend(s)",
          "Friend(s)",
          "Friend(s)",
          "Friend(s)",
          "Friend(s)",
          "Friend(s)",
          "Friend(s)",
          "Friend(s)",
          "Friend(s)",
          "Friend(s)",
          "Friend(s)",
          "Friend(s)",
          "Friend(s)",
          "Friend(s)",
          "Friend(s)",
          "Friend(s)",
          "Friend(s)",
          "Friend(s)",
          "Friend(s)",
          "Friend(s)",
          "Friend(s)",
          "Friend(s)",
          "Friend(s)",
          "Friend(s)",
          "Friend(s)",
          "Friend(s)",
          "Friend(s)",
          "Friend(s)",
          "Friend(s)",
          "Friend(s)",
          "Friend(s)",
          "Friend(s)",
          "Friend(s)",
          "Friend(s)",
          "Friend(s)",
          "Friend(s)",
          "Friend(s)",
          "Friend(s)",
          "Friend(s)",
          "Friend(s)",
          "Friend(s)",
          "Friend(s)",
          "Friend(s)",
          "Friend(s)",
          "Friend(s)",
          "Friend(s)",
          "Friend(s)",
          "Friend(s)",
          "Friend(s)",
          "Friend(s)",
          "Friend(s)",
          "Friend(s)",
          "Friend(s)",
          "Friend(s)",
          "Friend(s)",
          "Friend(s)",
          "Friend(s)",
          "Friend(s)",
          "Friend(s)",
          "Friend(s)",
          "Friend(s)",
          "Friend(s)",
          "Friend(s)",
          "Friend(s)",
          "Friend(s)",
          "Friend(s)",
          "Friend(s)",
          "Friend(s)",
          "Friend(s)",
          "Friend(s)",
          "Friend(s)",
          "Friend(s)",
          "Friend(s)",
          "Friend(s)",
          "Friend(s)",
          "Friend(s)",
          "Friend(s)",
          "Friend(s)",
          "Friend(s)",
          "Friend(s)",
          "Friend(s)",
          "Friend(s)",
          "Friend(s)",
          "Friend(s)",
          "Friend(s)",
          "Friend(s)",
          "Friend(s)",
          "Friend(s)",
          "Friend(s)",
          "Friend(s)",
          "Friend(s)",
          "Friend(s)",
          "Friend(s)",
          "Friend(s)",
          "Friend(s)",
          "Friend(s)",
          "Friend(s)",
          "Friend(s)",
          "Friend(s)",
          "Friend(s)",
          "Friend(s)",
          "Friend(s)",
          "Friend(s)",
          "Friend(s)",
          "Friend(s)",
          "Friend(s)",
          "Friend(s)"
         ],
         "x0": " ",
         "xaxis": "x",
         "y": {
          "bdata": "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",
          "dtype": "f8"
         },
         "y0": " ",
         "yaxis": "y"
        },
        {
         "alignmentgroup": "True",
         "hovertemplate": "passanger=%{x}<br>Age=%{y}<extra></extra>",
         "legendgroup": "Kid(s)",
         "marker": {
          "color": "#EF553B"
         },
         "name": "Kid(s)",
         "notched": false,
         "offsetgroup": "Kid(s)",
         "orientation": "v",
         "showlegend": true,
         "type": "box",
         "x": [
          "Kid(s)",
          "Kid(s)",
          "Kid(s)",
          "Kid(s)",
          "Kid(s)",
          "Kid(s)",
          "Kid(s)",
          "Kid(s)",
          "Kid(s)",
          "Kid(s)",
          "Kid(s)",
          "Kid(s)",
          "Kid(s)",
          "Kid(s)",
          "Kid(s)",
          "Kid(s)",
          "Kid(s)",
          "Kid(s)",
          "Kid(s)",
          "Kid(s)",
          "Kid(s)",
          "Kid(s)",
          "Kid(s)",
          "Kid(s)",
          "Kid(s)",
          "Kid(s)",
          "Kid(s)",
          "Kid(s)",
          "Kid(s)",
          "Kid(s)",
          "Kid(s)",
          "Kid(s)",
          "Kid(s)",
          "Kid(s)",
          "Kid(s)",
          "Kid(s)",
          "Kid(s)",
          "Kid(s)",
          "Kid(s)",
          "Kid(s)",
          "Kid(s)",
          "Kid(s)",
          "Kid(s)",
          "Kid(s)",
          "Kid(s)",
          "Kid(s)",
          "Kid(s)",
          "Kid(s)",
          "Kid(s)",
          "Kid(s)",
          "Kid(s)",
          "Kid(s)",
          "Kid(s)",
          "Kid(s)",
          "Kid(s)",
          "Kid(s)",
          "Kid(s)",
          "Kid(s)",
          "Kid(s)",
          "Kid(s)",
          "Kid(s)",
          "Kid(s)",
          "Kid(s)",
          "Kid(s)",
          "Kid(s)",
          "Kid(s)",
          "Kid(s)",
          "Kid(s)",
          "Kid(s)",
          "Kid(s)",
          "Kid(s)",
          "Kid(s)",
          "Kid(s)",
          "Kid(s)",
          "Kid(s)",
          "Kid(s)",
          "Kid(s)",
          "Kid(s)",
          "Kid(s)",
          "Kid(s)",
          "Kid(s)",
          "Kid(s)",
          "Kid(s)",
          "Kid(s)",
          "Kid(s)",
          "Kid(s)",
          "Kid(s)",
          "Kid(s)",
          "Kid(s)",
          "Kid(s)",
          "Kid(s)",
          "Kid(s)",
          "Kid(s)",
          "Kid(s)",
          "Kid(s)",
          "Kid(s)",
          "Kid(s)",
          "Kid(s)",
          "Kid(s)",
          "Kid(s)",
          "Kid(s)",
          "Kid(s)",
          "Kid(s)",
          "Kid(s)",
          "Kid(s)",
          "Kid(s)",
          "Kid(s)",
          "Kid(s)",
          "Kid(s)",
          "Kid(s)",
          "Kid(s)",
          "Kid(s)",
          "Kid(s)",
          "Kid(s)",
          "Kid(s)",
          "Kid(s)",
          "Kid(s)",
          "Kid(s)",
          "Kid(s)",
          "Kid(s)",
          "Kid(s)",
          "Kid(s)",
          "Kid(s)",
          "Kid(s)",
          "Kid(s)",
          "Kid(s)",
          "Kid(s)",
          "Kid(s)",
          "Kid(s)",
          "Kid(s)",
          "Kid(s)",
          "Kid(s)",
          "Kid(s)",
          "Kid(s)",
          "Kid(s)",
          "Kid(s)",
          "Kid(s)",
          "Kid(s)",
          "Kid(s)",
          "Kid(s)",
          "Kid(s)",
          "Kid(s)",
          "Kid(s)",
          "Kid(s)",
          "Kid(s)",
          "Kid(s)",
          "Kid(s)",
          "Kid(s)",
          "Kid(s)",
          "Kid(s)",
          "Kid(s)",
          "Kid(s)",
          "Kid(s)",
          "Kid(s)",
          "Kid(s)",
          "Kid(s)",
          "Kid(s)",
          "Kid(s)",
          "Kid(s)",
          "Kid(s)",
          "Kid(s)",
          "Kid(s)",
          "Kid(s)",
          "Kid(s)",
          "Kid(s)",
          "Kid(s)",
          "Kid(s)",
          "Kid(s)",
          "Kid(s)",
          "Kid(s)",
          "Kid(s)",
          "Kid(s)",
          "Kid(s)",
          "Kid(s)",
          "Kid(s)",
          "Kid(s)",
          "Kid(s)",
          "Kid(s)",
          "Kid(s)",
          "Kid(s)",
          "Kid(s)",
          "Kid(s)",
          "Kid(s)",
          "Kid(s)",
          "Kid(s)",
          "Kid(s)",
          "Kid(s)",
          "Kid(s)",
          "Kid(s)",
          "Kid(s)",
          "Kid(s)",
          "Kid(s)",
          "Kid(s)",
          "Kid(s)",
          "Kid(s)",
          "Kid(s)",
          "Kid(s)",
          "Kid(s)",
          "Kid(s)",
          "Kid(s)",
          "Kid(s)",
          "Kid(s)",
          "Kid(s)",
          "Kid(s)",
          "Kid(s)",
          "Kid(s)"
         ],
         "x0": " ",
         "xaxis": "x",
         "y": {
          "bdata": "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",
          "dtype": "f8"
         },
         "y0": " ",
         "yaxis": "y"
        },
        {
         "alignmentgroup": "True",
         "hovertemplate": "passanger=%{x}<br>Age=%{y}<extra></extra>",
         "legendgroup": "Alone",
         "marker": {
          "color": "#00cc96"
         },
         "name": "Alone",
         "notched": false,
         "offsetgroup": "Alone",
         "orientation": "v",
         "showlegend": true,
         "type": "box",
         "x": [
          "Alone",
          "Alone",
          "Alone",
          "Alone",
          "Alone",
          "Alone",
          "Alone",
          "Alone",
          "Alone",
          "Alone",
          "Alone",
          "Alone",
          "Alone",
          "Alone",
          "Alone",
          "Alone",
          "Alone",
          "Alone",
          "Alone",
          "Alone",
          "Alone",
          "Alone",
          "Alone",
          "Alone",
          "Alone",
          "Alone",
          "Alone",
          "Alone",
          "Alone",
          "Alone",
          "Alone",
          "Alone",
          "Alone",
          "Alone",
          "Alone",
          "Alone",
          "Alone",
          "Alone",
          "Alone",
          "Alone",
          "Alone",
          "Alone",
          "Alone",
          "Alone",
          "Alone",
          "Alone",
          "Alone",
          "Alone",
          "Alone",
          "Alone",
          "Alone",
          "Alone",
          "Alone",
          "Alone",
          "Alone",
          "Alone",
          "Alone",
          "Alone",
          "Alone",
          "Alone",
          "Alone",
          "Alone",
          "Alone",
          "Alone",
          "Alone",
          "Alone",
          "Alone",
          "Alone",
          "Alone",
          "Alone",
          "Alone",
          "Alone",
          "Alone",
          "Alone",
          "Alone",
          "Alone",
          "Alone",
          "Alone",
          "Alone",
          "Alone",
          "Alone",
          "Alone",
          "Alone",
          "Alone",
          "Alone",
          "Alone",
          "Alone",
          "Alone",
          "Alone",
          "Alone",
          "Alone",
          "Alone",
          "Alone",
          "Alone",
          "Alone",
          "Alone",
          "Alone",
          "Alone",
          "Alone",
          "Alone",
          "Alone",
          "Alone",
          "Alone",
          "Alone",
          "Alone",
          "Alone",
          "Alone",
          "Alone",
          "Alone",
          "Alone",
          "Alone",
          "Alone",
          "Alone",
          "Alone",
          "Alone",
          "Alone",
          "Alone",
          "Alone",
          "Alone",
          "Alone",
          "Alone",
          "Alone",
          "Alone",
          "Alone",
          "Alone",
          "Alone",
          "Alone",
          "Alone",
          "Alone",
          "Alone",
          "Alone",
          "Alone",
          "Alone",
          "Alone",
          "Alone",
          "Alone",
          "Alone",
          "Alone",
          "Alone",
          "Alone",
          "Alone",
          "Alone",
          "Alone",
          "Alone",
          "Alone",
          "Alone",
          "Alone",
          "Alone",
          "Alone",
          "Alone",
          "Alone",
          "Alone",
          "Alone",
          "Alone",
          "Alone",
          "Alone",
          "Alone",
          "Alone",
          "Alone",
          "Alone",
          "Alone",
          "Alone",
          "Alone",
          "Alone",
          "Alone",
          "Alone",
          "Alone",
          "Alone",
          "Alone",
          "Alone",
          "Alone",
          "Alone",
          "Alone",
          "Alone",
          "Alone",
          "Alone",
          "Alone",
          "Alone",
          "Alone",
          "Alone",
          "Alone",
          "Alone",
          "Alone",
          "Alone",
          "Alone",
          "Alone",
          "Alone",
          "Alone",
          "Alone",
          "Alone",
          "Alone",
          "Alone",
          "Alone",
          "Alone",
          "Alone",
          "Alone",
          "Alone",
          "Alone",
          "Alone",
          "Alone",
          "Alone",
          "Alone",
          "Alone",
          "Alone",
          "Alone",
          "Alone",
          "Alone",
          "Alone",
          "Alone",
          "Alone",
          "Alone",
          "Alone",
          "Alone",
          "Alone",
          "Alone",
          "Alone",
          "Alone",
          "Alone",
          "Alone",
          "Alone",
          "Alone",
          "Alone",
          "Alone",
          "Alone",
          "Alone",
          "Alone",
          "Alone",
          "Alone",
          "Alone",
          "Alone",
          "Alone",
          "Alone",
          "Alone",
          "Alone",
          "Alone",
          "Alone",
          "Alone",
          "Alone",
          "Alone",
          "Alone",
          "Alone",
          "Alone",
          "Alone",
          "Alone",
          "Alone",
          "Alone",
          "Alone",
          "Alone",
          "Alone",
          "Alone",
          "Alone",
          "Alone",
          "Alone",
          "Alone",
          "Alone",
          "Alone",
          "Alone",
          "Alone",
          "Alone",
          "Alone",
          "Alone",
          "Alone",
          "Alone",
          "Alone",
          "Alone",
          "Alone",
          "Alone",
          "Alone",
          "Alone",
          "Alone",
          "Alone",
          "Alone",
          "Alone",
          "Alone",
          "Alone",
          "Alone",
          "Alone",
          "Alone",
          "Alone",
          "Alone",
          "Alone",
          "Alone",
          "Alone",
          "Alone",
          "Alone",
          "Alone",
          "Alone",
          "Alone",
          "Alone",
          "Alone",
          "Alone",
          "Alone",
          "Alone",
          "Alone",
          "Alone",
          "Alone",
          "Alone",
          "Alone",
          "Alone",
          "Alone",
          "Alone",
          "Alone",
          "Alone",
          "Alone",
          "Alone",
          "Alone",
          "Alone",
          "Alone",
          "Alone",
          "Alone",
          "Alone",
          "Alone",
          "Alone",
          "Alone",
          "Alone",
          "Alone",
          "Alone",
          "Alone",
          "Alone",
          "Alone",
          "Alone",
          "Alone",
          "Alone",
          "Alone",
          "Alone",
          "Alone",
          "Alone",
          "Alone",
          "Alone",
          "Alone",
          "Alone",
          "Alone",
          "Alone",
          "Alone",
          "Alone",
          "Alone",
          "Alone",
          "Alone",
          "Alone",
          "Alone",
          "Alone",
          "Alone",
          "Alone",
          "Alone",
          "Alone",
          "Alone",
          "Alone",
          "Alone",
          "Alone",
          "Alone",
          "Alone",
          "Alone",
          "Alone",
          "Alone",
          "Alone",
          "Alone",
          "Alone",
          "Alone",
          "Alone",
          "Alone",
          "Alone",
          "Alone",
          "Alone",
          "Alone",
          "Alone",
          "Alone",
          "Alone",
          "Alone",
          "Alone",
          "Alone",
          "Alone",
          "Alone",
          "Alone",
          "Alone",
          "Alone",
          "Alone",
          "Alone",
          "Alone",
          "Alone",
          "Alone",
          "Alone",
          "Alone",
          "Alone",
          "Alone",
          "Alone",
          "Alone",
          "Alone",
          "Alone",
          "Alone",
          "Alone",
          "Alone",
          "Alone",
          "Alone",
          "Alone",
          "Alone",
          "Alone",
          "Alone",
          "Alone",
          "Alone",
          "Alone",
          "Alone",
          "Alone",
          "Alone",
          "Alone",
          "Alone",
          "Alone",
          "Alone",
          "Alone",
          "Alone",
          "Alone",
          "Alone",
          "Alone",
          "Alone",
          "Alone",
          "Alone",
          "Alone",
          "Alone",
          "Alone",
          "Alone",
          "Alone",
          "Alone",
          "Alone",
          "Alone",
          "Alone",
          "Alone",
          "Alone",
          "Alone",
          "Alone",
          "Alone",
          "Alone",
          "Alone",
          "Alone",
          "Alone",
          "Alone",
          "Alone",
          "Alone",
          "Alone",
          "Alone",
          "Alone",
          "Alone",
          "Alone",
          "Alone",
          "Alone",
          "Alone",
          "Alone",
          "Alone",
          "Alone",
          "Alone",
          "Alone",
          "Alone",
          "Alone",
          "Alone",
          "Alone",
          "Alone",
          "Alone",
          "Alone",
          "Alone",
          "Alone",
          "Alone",
          "Alone",
          "Alone",
          "Alone",
          "Alone",
          "Alone",
          "Alone",
          "Alone",
          "Alone",
          "Alone",
          "Alone",
          "Alone",
          "Alone",
          "Alone",
          "Alone",
          "Alone",
          "Alone",
          "Alone",
          "Alone",
          "Alone",
          "Alone",
          "Alone",
          "Alone",
          "Alone",
          "Alone",
          "Alone",
          "Alone",
          "Alone",
          "Alone",
          "Alone",
          "Alone",
          "Alone",
          "Alone",
          "Alone",
          "Alone",
          "Alone",
          "Alone",
          "Alone",
          "Alone",
          "Alone",
          "Alone",
          "Alone",
          "Alone",
          "Alone",
          "Alone",
          "Alone",
          "Alone",
          "Alone",
          "Alone",
          "Alone",
          "Alone",
          "Alone",
          "Alone",
          "Alone",
          "Alone",
          "Alone",
          "Alone",
          "Alone",
          "Alone",
          "Alone",
          "Alone",
          "Alone",
          "Alone",
          "Alone",
          "Alone",
          "Alone",
          "Alone",
          "Alone",
          "Alone",
          "Alone",
          "Alone",
          "Alone",
          "Alone",
          "Alone",
          "Alone",
          "Alone",
          "Alone",
          "Alone",
          "Alone",
          "Alone",
          "Alone",
          "Alone",
          "Alone",
          "Alone",
          "Alone",
          "Alone",
          "Alone",
          "Alone",
          "Alone",
          "Alone",
          "Alone",
          "Alone",
          "Alone",
          "Alone",
          "Alone",
          "Alone",
          "Alone",
          "Alone",
          "Alone",
          "Alone",
          "Alone",
          "Alone",
          "Alone",
          "Alone",
          "Alone",
          "Alone",
          "Alone",
          "Alone",
          "Alone",
          "Alone",
          "Alone",
          "Alone",
          "Alone",
          "Alone",
          "Alone",
          "Alone",
          "Alone",
          "Alone",
          "Alone",
          "Alone",
          "Alone",
          "Alone",
          "Alone",
          "Alone",
          "Alone",
          "Alone",
          "Alone",
          "Alone",
          "Alone",
          "Alone",
          "Alone",
          "Alone",
          "Alone",
          "Alone",
          "Alone",
          "Alone",
          "Alone",
          "Alone",
          "Alone",
          "Alone",
          "Alone",
          "Alone",
          "Alone",
          "Alone",
          "Alone",
          "Alone",
          "Alone",
          "Alone",
          "Alone",
          "Alone",
          "Alone",
          "Alone",
          "Alone",
          "Alone",
          "Alone",
          "Alone",
          "Alone",
          "Alone",
          "Alone",
          "Alone",
          "Alone",
          "Alone",
          "Alone",
          "Alone",
          "Alone",
          "Alone",
          "Alone",
          "Alone",
          "Alone",
          "Alone",
          "Alone",
          "Alone",
          "Alone",
          "Alone",
          "Alone",
          "Alone",
          "Alone",
          "Alone",
          "Alone",
          "Alone",
          "Alone",
          "Alone",
          "Alone",
          "Alone",
          "Alone",
          "Alone",
          "Alone",
          "Alone",
          "Alone",
          "Alone",
          "Alone",
          "Alone",
          "Alone",
          "Alone",
          "Alone",
          "Alone",
          "Alone",
          "Alone",
          "Alone",
          "Alone",
          "Alone",
          "Alone",
          "Alone",
          "Alone",
          "Alone",
          "Alone",
          "Alone",
          "Alone",
          "Alone",
          "Alone",
          "Alone",
          "Alone",
          "Alone",
          "Alone",
          "Alone",
          "Alone",
          "Alone",
          "Alone",
          "Alone",
          "Alone",
          "Alone",
          "Alone",
          "Alone",
          "Alone",
          "Alone",
          "Alone",
          "Alone",
          "Alone",
          "Alone",
          "Alone",
          "Alone",
          "Alone",
          "Alone",
          "Alone",
          "Alone",
          "Alone",
          "Alone",
          "Alone",
          "Alone",
          "Alone",
          "Alone",
          "Alone",
          "Alone",
          "Alone",
          "Alone",
          "Alone",
          "Alone",
          "Alone",
          "Alone",
          "Alone",
          "Alone",
          "Alone",
          "Alone",
          "Alone",
          "Alone",
          "Alone",
          "Alone",
          "Alone",
          "Alone",
          "Alone",
          "Alone",
          "Alone",
          "Alone",
          "Alone",
          "Alone",
          "Alone",
          "Alone",
          "Alone",
          "Alone",
          "Alone",
          "Alone",
          "Alone",
          "Alone",
          "Alone",
          "Alone",
          "Alone",
          "Alone",
          "Alone",
          "Alone",
          "Alone",
          "Alone",
          "Alone",
          "Alone",
          "Alone",
          "Alone",
          "Alone",
          "Alone",
          "Alone",
          "Alone",
          "Alone",
          "Alone",
          "Alone",
          "Alone",
          "Alone",
          "Alone",
          "Alone",
          "Alone",
          "Alone",
          "Alone",
          "Alone",
          "Alone",
          "Alone",
          "Alone",
          "Alone",
          "Alone",
          "Alone",
          "Alone",
          "Alone",
          "Alone",
          "Alone",
          "Alone",
          "Alone",
          "Alone",
          "Alone",
          "Alone",
          "Alone",
          "Alone",
          "Alone",
          "Alone",
          "Alone",
          "Alone",
          "Alone",
          "Alone",
          "Alone",
          "Alone",
          "Alone",
          "Alone",
          "Alone",
          "Alone",
          "Alone",
          "Alone",
          "Alone",
          "Alone",
          "Alone",
          "Alone",
          "Alone",
          "Alone",
          "Alone",
          "Alone",
          "Alone",
          "Alone",
          "Alone",
          "Alone",
          "Alone",
          "Alone",
          "Alone",
          "Alone",
          "Alone",
          "Alone",
          "Alone",
          "Alone",
          "Alone",
          "Alone",
          "Alone",
          "Alone",
          "Alone",
          "Alone",
          "Alone",
          "Alone",
          "Alone",
          "Alone",
          "Alone",
          "Alone",
          "Alone",
          "Alone",
          "Alone",
          "Alone",
          "Alone",
          "Alone",
          "Alone",
          "Alone",
          "Alone",
          "Alone",
          "Alone",
          "Alone",
          "Alone",
          "Alone",
          "Alone",
          "Alone",
          "Alone",
          "Alone",
          "Alone",
          "Alone",
          "Alone",
          "Alone",
          "Alone",
          "Alone",
          "Alone",
          "Alone",
          "Alone",
          "Alone",
          "Alone",
          "Alone",
          "Alone",
          "Alone",
          "Alone",
          "Alone",
          "Alone",
          "Alone",
          "Alone",
          "Alone",
          "Alone",
          "Alone",
          "Alone",
          "Alone",
          "Alone",
          "Alone",
          "Alone",
          "Alone",
          "Alone",
          "Alone",
          "Alone",
          "Alone",
          "Alone",
          "Alone",
          "Alone",
          "Alone",
          "Alone",
          "Alone",
          "Alone",
          "Alone",
          "Alone",
          "Alone",
          "Alone",
          "Alone",
          "Alone",
          "Alone",
          "Alone",
          "Alone",
          "Alone",
          "Alone",
          "Alone",
          "Alone",
          "Alone",
          "Alone",
          "Alone",
          "Alone",
          "Alone",
          "Alone",
          "Alone",
          "Alone",
          "Alone",
          "Alone",
          "Alone",
          "Alone",
          "Alone",
          "Alone",
          "Alone",
          "Alone",
          "Alone",
          "Alone",
          "Alone",
          "Alone",
          "Alone",
          "Alone",
          "Alone",
          "Alone",
          "Alone",
          "Alone",
          "Alone",
          "Alone",
          "Alone",
          "Alone",
          "Alone",
          "Alone",
          "Alone",
          "Alone",
          "Alone",
          "Alone",
          "Alone",
          "Alone",
          "Alone",
          "Alone",
          "Alone",
          "Alone",
          "Alone",
          "Alone",
          "Alone",
          "Alone",
          "Alone",
          "Alone",
          "Alone",
          "Alone",
          "Alone",
          "Alone",
          "Alone",
          "Alone",
          "Alone",
          "Alone",
          "Alone",
          "Alone",
          "Alone",
          "Alone",
          "Alone",
          "Alone",
          "Alone",
          "Alone",
          "Alone",
          "Alone",
          "Alone",
          "Alone",
          "Alone",
          "Alone",
          "Alone",
          "Alone",
          "Alone",
          "Alone",
          "Alone",
          "Alone",
          "Alone",
          "Alone",
          "Alone",
          "Alone",
          "Alone",
          "Alone",
          "Alone",
          "Alone",
          "Alone",
          "Alone",
          "Alone",
          "Alone",
          "Alone",
          "Alone",
          "Alone",
          "Alone",
          "Alone",
          "Alone",
          "Alone",
          "Alone",
          "Alone",
          "Alone",
          "Alone",
          "Alone",
          "Alone",
          "Alone",
          "Alone",
          "Alone",
          "Alone",
          "Alone",
          "Alone",
          "Alone",
          "Alone",
          "Alone",
          "Alone",
          "Alone",
          "Alone",
          "Alone",
          "Alone",
          "Alone",
          "Alone",
          "Alone",
          "Alone",
          "Alone",
          "Alone",
          "Alone",
          "Alone",
          "Alone",
          "Alone",
          "Alone",
          "Alone",
          "Alone",
          "Alone",
          "Alone",
          "Alone",
          "Alone",
          "Alone",
          "Alone",
          "Alone",
          "Alone",
          "Alone",
          "Alone",
          "Alone",
          "Alone",
          "Alone",
          "Alone",
          "Alone",
          "Alone",
          "Alone",
          "Alone",
          "Alone",
          "Alone",
          "Alone",
          "Alone",
          "Alone",
          "Alone",
          "Alone",
          "Alone",
          "Alone",
          "Alone",
          "Alone",
          "Alone",
          "Alone",
          "Alone",
          "Alone",
          "Alone",
          "Alone",
          "Alone",
          "Alone",
          "Alone",
          "Alone",
          "Alone",
          "Alone",
          "Alone",
          "Alone",
          "Alone",
          "Alone",
          "Alone",
          "Alone",
          "Alone",
          "Alone",
          "Alone",
          "Alone",
          "Alone",
          "Alone",
          "Alone",
          "Alone",
          "Alone",
          "Alone",
          "Alone",
          "Alone",
          "Alone",
          "Alone",
          "Alone",
          "Alone",
          "Alone",
          "Alone",
          "Alone",
          "Alone",
          "Alone",
          "Alone",
          "Alone",
          "Alone",
          "Alone",
          "Alone",
          "Alone",
          "Alone",
          "Alone",
          "Alone",
          "Alone",
          "Alone",
          "Alone",
          "Alone",
          "Alone",
          "Alone",
          "Alone",
          "Alone",
          "Alone",
          "Alone",
          "Alone",
          "Alone",
          "Alone",
          "Alone",
          "Alone",
          "Alone",
          "Alone",
          "Alone",
          "Alone",
          "Alone",
          "Alone",
          "Alone",
          "Alone",
          "Alone",
          "Alone",
          "Alone",
          "Alone",
          "Alone",
          "Alone",
          "Alone",
          "Alone",
          "Alone",
          "Alone",
          "Alone",
          "Alone",
          "Alone",
          "Alone",
          "Alone",
          "Alone",
          "Alone",
          "Alone",
          "Alone",
          "Alone",
          "Alone",
          "Alone",
          "Alone",
          "Alone",
          "Alone",
          "Alone",
          "Alone",
          "Alone",
          "Alone",
          "Alone",
          "Alone",
          "Alone",
          "Alone",
          "Alone",
          "Alone",
          "Alone",
          "Alone",
          "Alone",
          "Alone",
          "Alone",
          "Alone",
          "Alone",
          "Alone",
          "Alone",
          "Alone",
          "Alone",
          "Alone",
          "Alone",
          "Alone",
          "Alone",
          "Alone",
          "Alone",
          "Alone",
          "Alone",
          "Alone",
          "Alone",
          "Alone",
          "Alone",
          "Alone",
          "Alone",
          "Alone",
          "Alone",
          "Alone",
          "Alone",
          "Alone",
          "Alone",
          "Alone",
          "Alone",
          "Alone",
          "Alone",
          "Alone",
          "Alone",
          "Alone",
          "Alone",
          "Alone",
          "Alone",
          "Alone",
          "Alone",
          "Alone",
          "Alone",
          "Alone",
          "Alone",
          "Alone",
          "Alone",
          "Alone",
          "Alone",
          "Alone",
          "Alone",
          "Alone",
          "Alone",
          "Alone",
          "Alone",
          "Alone",
          "Alone",
          "Alone",
          "Alone",
          "Alone",
          "Alone",
          "Alone",
          "Alone",
          "Alone",
          "Alone",
          "Alone",
          "Alone",
          "Alone",
          "Alone",
          "Alone",
          "Alone",
          "Alone",
          "Alone",
          "Alone",
          "Alone",
          "Alone",
          "Alone",
          "Alone",
          "Alone",
          "Alone",
          "Alone",
          "Alone",
          "Alone",
          "Alone",
          "Alone",
          "Alone",
          "Alone",
          "Alone",
          "Alone",
          "Alone",
          "Alone",
          "Alone",
          "Alone",
          "Alone",
          "Alone",
          "Alone",
          "Alone",
          "Alone",
          "Alone",
          "Alone",
          "Alone",
          "Alone",
          "Alone",
          "Alone",
          "Alone",
          "Alone",
          "Alone",
          "Alone",
          "Alone",
          "Alone",
          "Alone",
          "Alone",
          "Alone",
          "Alone",
          "Alone",
          "Alone",
          "Alone",
          "Alone",
          "Alone",
          "Alone",
          "Alone",
          "Alone",
          "Alone",
          "Alone",
          "Alone",
          "Alone",
          "Alone",
          "Alone",
          "Alone",
          "Alone",
          "Alone",
          "Alone",
          "Alone",
          "Alone",
          "Alone",
          "Alone",
          "Alone",
          "Alone",
          "Alone",
          "Alone",
          "Alone",
          "Alone",
          "Alone",
          "Alone",
          "Alone",
          "Alone",
          "Alone",
          "Alone",
          "Alone",
          "Alone",
          "Alone",
          "Alone",
          "Alone",
          "Alone",
          "Alone",
          "Alone",
          "Alone",
          "Alone",
          "Alone",
          "Alone",
          "Alone",
          "Alone",
          "Alone",
          "Alone",
          "Alone",
          "Alone",
          "Alone",
          "Alone",
          "Alone",
          "Alone",
          "Alone",
          "Alone",
          "Alone",
          "Alone",
          "Alone",
          "Alone",
          "Alone",
          "Alone",
          "Alone",
          "Alone",
          "Alone",
          "Alone",
          "Alone",
          "Alone",
          "Alone",
          "Alone",
          "Alone",
          "Alone",
          "Alone",
          "Alone",
          "Alone",
          "Alone",
          "Alone",
          "Alone",
          "Alone",
          "Alone",
          "Alone",
          "Alone",
          "Alone",
          "Alone",
          "Alone",
          "Alone",
          "Alone",
          "Alone",
          "Alone",
          "Alone",
          "Alone",
          "Alone",
          "Alone",
          "Alone",
          "Alone",
          "Alone",
          "Alone",
          "Alone",
          "Alone",
          "Alone",
          "Alone",
          "Alone",
          "Alone",
          "Alone",
          "Alone",
          "Alone",
          "Alone",
          "Alone",
          "Alone",
          "Alone",
          "Alone",
          "Alone",
          "Alone",
          "Alone",
          "Alone",
          "Alone",
          "Alone",
          "Alone",
          "Alone",
          "Alone",
          "Alone",
          "Alone",
          "Alone",
          "Alone",
          "Alone",
          "Alone",
          "Alone",
          "Alone",
          "Alone",
          "Alone",
          "Alone",
          "Alone",
          "Alone",
          "Alone",
          "Alone",
          "Alone",
          "Alone",
          "Alone",
          "Alone",
          "Alone",
          "Alone",
          "Alone",
          "Alone",
          "Alone",
          "Alone",
          "Alone",
          "Alone",
          "Alone",
          "Alone",
          "Alone",
          "Alone",
          "Alone",
          "Alone",
          "Alone",
          "Alone",
          "Alone",
          "Alone",
          "Alone",
          "Alone",
          "Alone",
          "Alone",
          "Alone",
          "Alone",
          "Alone",
          "Alone",
          "Alone",
          "Alone",
          "Alone",
          "Alone",
          "Alone",
          "Alone",
          "Alone",
          "Alone",
          "Alone",
          "Alone",
          "Alone",
          "Alone",
          "Alone",
          "Alone",
          "Alone",
          "Alone",
          "Alone",
          "Alone",
          "Alone",
          "Alone",
          "Alone",
          "Alone",
          "Alone",
          "Alone",
          "Alone",
          "Alone",
          "Alone",
          "Alone",
          "Alone",
          "Alone",
          "Alone",
          "Alone",
          "Alone",
          "Alone",
          "Alone",
          "Alone",
          "Alone",
          "Alone",
          "Alone",
          "Alone",
          "Alone",
          "Alone",
          "Alone",
          "Alone",
          "Alone",
          "Alone",
          "Alone",
          "Alone",
          "Alone",
          "Alone",
          "Alone",
          "Alone",
          "Alone",
          "Alone",
          "Alone",
          "Alone",
          "Alone",
          "Alone",
          "Alone",
          "Alone",
          "Alone",
          "Alone",
          "Alone",
          "Alone",
          "Alone",
          "Alone",
          "Alone",
          "Alone",
          "Alone",
          "Alone",
          "Alone",
          "Alone",
          "Alone",
          "Alone",
          "Alone",
          "Alone",
          "Alone",
          "Alone",
          "Alone",
          "Alone",
          "Alone",
          "Alone",
          "Alone",
          "Alone",
          "Alone",
          "Alone",
          "Alone",
          "Alone",
          "Alone",
          "Alone",
          "Alone",
          "Alone",
          "Alone",
          "Alone",
          "Alone",
          "Alone",
          "Alone",
          "Alone",
          "Alone",
          "Alone",
          "Alone",
          "Alone",
          "Alone",
          "Alone",
          "Alone",
          "Alone",
          "Alone",
          "Alone",
          "Alone",
          "Alone",
          "Alone",
          "Alone",
          "Alone",
          "Alone",
          "Alone",
          "Alone",
          "Alone",
          "Alone",
          "Alone",
          "Alone",
          "Alone",
          "Alone",
          "Alone",
          "Alone",
          "Alone",
          "Alone",
          "Alone",
          "Alone",
          "Alone",
          "Alone",
          "Alone",
          "Alone",
          "Alone",
          "Alone",
          "Alone",
          "Alone",
          "Alone",
          "Alone",
          "Alone",
          "Alone",
          "Alone",
          "Alone",
          "Alone",
          "Alone",
          "Alone",
          "Alone",
          "Alone",
          "Alone",
          "Alone",
          "Alone",
          "Alone",
          "Alone",
          "Alone",
          "Alone",
          "Alone",
          "Alone",
          "Alone",
          "Alone",
          "Alone",
          "Alone",
          "Alone",
          "Alone",
          "Alone",
          "Alone",
          "Alone",
          "Alone",
          "Alone",
          "Alone",
          "Alone",
          "Alone",
          "Alone",
          "Alone",
          "Alone",
          "Alone",
          "Alone",
          "Alone",
          "Alone",
          "Alone",
          "Alone",
          "Alone",
          "Alone",
          "Alone",
          "Alone",
          "Alone",
          "Alone",
          "Alone",
          "Alone",
          "Alone",
          "Alone",
          "Alone",
          "Alone",
          "Alone",
          "Alone",
          "Alone",
          "Alone",
          "Alone",
          "Alone",
          "Alone",
          "Alone",
          "Alone",
          "Alone",
          "Alone",
          "Alone",
          "Alone",
          "Alone",
          "Alone",
          "Alone",
          "Alone",
          "Alone",
          "Alone",
          "Alone",
          "Alone",
          "Alone",
          "Alone",
          "Alone",
          "Alone",
          "Alone",
          "Alone",
          "Alone",
          "Alone",
          "Alone",
          "Alone",
          "Alone",
          "Alone",
          "Alone",
          "Alone",
          "Alone",
          "Alone",
          "Alone",
          "Alone",
          "Alone",
          "Alone",
          "Alone",
          "Alone",
          "Alone",
          "Alone",
          "Alone",
          "Alone",
          "Alone",
          "Alone",
          "Alone",
          "Alone",
          "Alone",
          "Alone",
          "Alone",
          "Alone",
          "Alone",
          "Alone",
          "Alone",
          "Alone",
          "Alone",
          "Alone",
          "Alone",
          "Alone",
          "Alone",
          "Alone",
          "Alone",
          "Alone",
          "Alone",
          "Alone",
          "Alone",
          "Alone",
          "Alone",
          "Alone",
          "Alone",
          "Alone",
          "Alone",
          "Alone",
          "Alone",
          "Alone",
          "Alone",
          "Alone",
          "Alone",
          "Alone",
          "Alone",
          "Alone",
          "Alone",
          "Alone",
          "Alone",
          "Alone",
          "Alone",
          "Alone",
          "Alone",
          "Alone",
          "Alone",
          "Alone",
          "Alone",
          "Alone",
          "Alone",
          "Alone",
          "Alone",
          "Alone",
          "Alone",
          "Alone",
          "Alone",
          "Alone",
          "Alone",
          "Alone",
          "Alone",
          "Alone",
          "Alone",
          "Alone",
          "Alone",
          "Alone",
          "Alone",
          "Alone",
          "Alone",
          "Alone",
          "Alone",
          "Alone",
          "Alone",
          "Alone",
          "Alone",
          "Alone",
          "Alone",
          "Alone",
          "Alone",
          "Alone",
          "Alone",
          "Alone",
          "Alone",
          "Alone",
          "Alone",
          "Alone",
          "Alone",
          "Alone",
          "Alone",
          "Alone",
          "Alone",
          "Alone",
          "Alone",
          "Alone",
          "Alone",
          "Alone",
          "Alone",
          "Alone",
          "Alone",
          "Alone",
          "Alone",
          "Alone",
          "Alone",
          "Alone",
          "Alone",
          "Alone",
          "Alone",
          "Alone",
          "Alone",
          "Alone",
          "Alone",
          "Alone",
          "Alone",
          "Alone",
          "Alone",
          "Alone",
          "Alone",
          "Alone",
          "Alone",
          "Alone",
          "Alone",
          "Alone",
          "Alone",
          "Alone",
          "Alone",
          "Alone",
          "Alone",
          "Alone",
          "Alone",
          "Alone",
          "Alone",
          "Alone",
          "Alone",
          "Alone",
          "Alone",
          "Alone",
          "Alone",
          "Alone",
          "Alone",
          "Alone",
          "Alone",
          "Alone",
          "Alone",
          "Alone",
          "Alone",
          "Alone",
          "Alone",
          "Alone",
          "Alone",
          "Alone",
          "Alone",
          "Alone",
          "Alone",
          "Alone",
          "Alone",
          "Alone",
          "Alone",
          "Alone",
          "Alone",
          "Alone",
          "Alone",
          "Alone",
          "Alone",
          "Alone",
          "Alone",
          "Alone",
          "Alone",
          "Alone",
          "Alone",
          "Alone",
          "Alone",
          "Alone",
          "Alone",
          "Alone",
          "Alone",
          "Alone",
          "Alone",
          "Alone",
          "Alone",
          "Alone",
          "Alone",
          "Alone",
          "Alone",
          "Alone",
          "Alone",
          "Alone",
          "Alone",
          "Alone",
          "Alone",
          "Alone",
          "Alone",
          "Alone",
          "Alone",
          "Alone",
          "Alone",
          "Alone",
          "Alone",
          "Alone",
          "Alone",
          "Alone",
          "Alone",
          "Alone",
          "Alone",
          "Alone",
          "Alone",
          "Alone",
          "Alone",
          "Alone",
          "Alone",
          "Alone",
          "Alone",
          "Alone",
          "Alone",
          "Alone",
          "Alone",
          "Alone",
          "Alone",
          "Alone",
          "Alone",
          "Alone",
          "Alone",
          "Alone",
          "Alone",
          "Alone",
          "Alone",
          "Alone",
          "Alone",
          "Alone",
          "Alone",
          "Alone",
          "Alone",
          "Alone",
          "Alone",
          "Alone",
          "Alone",
          "Alone",
          "Alone",
          "Alone",
          "Alone",
          "Alone",
          "Alone",
          "Alone",
          "Alone",
          "Alone",
          "Alone",
          "Alone",
          "Alone",
          "Alone",
          "Alone",
          "Alone",
          "Alone",
          "Alone",
          "Alone",
          "Alone",
          "Alone",
          "Alone",
          "Alone",
          "Alone",
          "Alone",
          "Alone",
          "Alone",
          "Alone",
          "Alone",
          "Alone",
          "Alone",
          "Alone",
          "Alone",
          "Alone",
          "Alone",
          "Alone",
          "Alone",
          "Alone",
          "Alone",
          "Alone",
          "Alone",
          "Alone",
          "Alone",
          "Alone",
          "Alone",
          "Alone",
          "Alone",
          "Alone",
          "Alone",
          "Alone",
          "Alone",
          "Alone",
          "Alone",
          "Alone",
          "Alone",
          "Alone",
          "Alone",
          "Alone",
          "Alone",
          "Alone",
          "Alone",
          "Alone",
          "Alone",
          "Alone",
          "Alone",
          "Alone",
          "Alone",
          "Alone",
          "Alone",
          "Alone",
          "Alone",
          "Alone",
          "Alone",
          "Alone",
          "Alone",
          "Alone",
          "Alone",
          "Alone",
          "Alone",
          "Alone",
          "Alone",
          "Alone",
          "Alone",
          "Alone",
          "Alone",
          "Alone",
          "Alone",
          "Alone",
          "Alone",
          "Alone",
          "Alone",
          "Alone",
          "Alone",
          "Alone",
          "Alone",
          "Alone",
          "Alone",
          "Alone",
          "Alone",
          "Alone",
          "Alone",
          "Alone",
          "Alone",
          "Alone",
          "Alone",
          "Alone",
          "Alone",
          "Alone",
          "Alone",
          "Alone",
          "Alone",
          "Alone",
          "Alone",
          "Alone",
          "Alone",
          "Alone",
          "Alone",
          "Alone",
          "Alone",
          "Alone",
          "Alone",
          "Alone",
          "Alone",
          "Alone",
          "Alone",
          "Alone",
          "Alone",
          "Alone",
          "Alone",
          "Alone",
          "Alone",
          "Alone",
          "Alone",
          "Alone",
          "Alone",
          "Alone",
          "Alone",
          "Alone",
          "Alone",
          "Alone",
          "Alone",
          "Alone",
          "Alone",
          "Alone",
          "Alone",
          "Alone",
          "Alone",
          "Alone",
          "Alone",
          "Alone",
          "Alone",
          "Alone",
          "Alone",
          "Alone",
          "Alone",
          "Alone",
          "Alone",
          "Alone",
          "Alone",
          "Alone",
          "Alone",
          "Alone",
          "Alone",
          "Alone",
          "Alone",
          "Alone",
          "Alone",
          "Alone",
          "Alone",
          "Alone",
          "Alone",
          "Alone",
          "Alone",
          "Alone",
          "Alone",
          "Alone",
          "Alone",
          "Alone",
          "Alone",
          "Alone",
          "Alone",
          "Alone",
          "Alone",
          "Alone",
          "Alone",
          "Alone",
          "Alone",
          "Alone",
          "Alone",
          "Alone",
          "Alone",
          "Alone",
          "Alone",
          "Alone",
          "Alone",
          "Alone",
          "Alone",
          "Alone",
          "Alone",
          "Alone",
          "Alone",
          "Alone",
          "Alone",
          "Alone",
          "Alone",
          "Alone",
          "Alone",
          "Alone",
          "Alone",
          "Alone",
          "Alone",
          "Alone",
          "Alone",
          "Alone",
          "Alone",
          "Alone",
          "Alone",
          "Alone",
          "Alone",
          "Alone",
          "Alone",
          "Alone",
          "Alone",
          "Alone",
          "Alone",
          "Alone",
          "Alone",
          "Alone",
          "Alone",
          "Alone",
          "Alone",
          "Alone",
          "Alone",
          "Alone",
          "Alone",
          "Alone",
          "Alone",
          "Alone",
          "Alone",
          "Alone",
          "Alone",
          "Alone",
          "Alone",
          "Alone",
          "Alone",
          "Alone",
          "Alone",
          "Alone",
          "Alone",
          "Alone",
          "Alone",
          "Alone",
          "Alone",
          "Alone",
          "Alone",
          "Alone",
          "Alone",
          "Alone",
          "Alone",
          "Alone",
          "Alone",
          "Alone",
          "Alone",
          "Alone",
          "Alone",
          "Alone",
          "Alone",
          "Alone",
          "Alone",
          "Alone",
          "Alone",
          "Alone",
          "Alone",
          "Alone",
          "Alone",
          "Alone",
          "Alone",
          "Alone",
          "Alone",
          "Alone",
          "Alone",
          "Alone",
          "Alone",
          "Alone",
          "Alone",
          "Alone",
          "Alone",
          "Alone",
          "Alone",
          "Alone",
          "Alone",
          "Alone",
          "Alone",
          "Alone",
          "Alone",
          "Alone",
          "Alone",
          "Alone",
          "Alone",
          "Alone",
          "Alone",
          "Alone",
          "Alone",
          "Alone",
          "Alone",
          "Alone",
          "Alone",
          "Alone",
          "Alone",
          "Alone",
          "Alone",
          "Alone",
          "Alone",
          "Alone",
          "Alone",
          "Alone",
          "Alone",
          "Alone",
          "Alone",
          "Alone",
          "Alone",
          "Alone",
          "Alone",
          "Alone",
          "Alone",
          "Alone",
          "Alone",
          "Alone",
          "Alone",
          "Alone",
          "Alone",
          "Alone",
          "Alone",
          "Alone",
          "Alone",
          "Alone",
          "Alone",
          "Alone",
          "Alone",
          "Alone",
          "Alone",
          "Alone",
          "Alone",
          "Alone"
         ],
         "x0": " ",
         "xaxis": "x",
         "y": {
          "bdata": "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",
          "dtype": "f8"
         },
         "y0": " ",
         "yaxis": "y"
        },
        {
         "alignmentgroup": "True",
         "hovertemplate": "passanger=%{x}<br>Age=%{y}<extra></extra>",
         "legendgroup": "Partner",
         "marker": {
          "color": "#ab63fa"
         },
         "name": "Partner",
         "notched": false,
         "offsetgroup": "Partner",
         "orientation": "v",
         "showlegend": true,
         "type": "box",
         "x": [
          "Partner",
          "Partner",
          "Partner",
          "Partner",
          "Partner",
          "Partner",
          "Partner",
          "Partner",
          "Partner",
          "Partner",
          "Partner",
          "Partner",
          "Partner",
          "Partner",
          "Partner",
          "Partner",
          "Partner",
          "Partner",
          "Partner",
          "Partner",
          "Partner",
          "Partner",
          "Partner",
          "Partner",
          "Partner",
          "Partner",
          "Partner",
          "Partner",
          "Partner",
          "Partner",
          "Partner",
          "Partner",
          "Partner",
          "Partner",
          "Partner",
          "Partner",
          "Partner",
          "Partner",
          "Partner",
          "Partner",
          "Partner",
          "Partner",
          "Partner",
          "Partner",
          "Partner",
          "Partner",
          "Partner",
          "Partner",
          "Partner",
          "Partner",
          "Partner",
          "Partner",
          "Partner",
          "Partner",
          "Partner",
          "Partner",
          "Partner",
          "Partner",
          "Partner",
          "Partner",
          "Partner",
          "Partner",
          "Partner",
          "Partner",
          "Partner",
          "Partner",
          "Partner",
          "Partner",
          "Partner",
          "Partner",
          "Partner",
          "Partner",
          "Partner",
          "Partner",
          "Partner",
          "Partner",
          "Partner",
          "Partner",
          "Partner",
          "Partner",
          "Partner",
          "Partner",
          "Partner",
          "Partner",
          "Partner",
          "Partner",
          "Partner",
          "Partner",
          "Partner",
          "Partner",
          "Partner",
          "Partner",
          "Partner",
          "Partner",
          "Partner",
          "Partner",
          "Partner",
          "Partner",
          "Partner",
          "Partner",
          "Partner",
          "Partner",
          "Partner",
          "Partner",
          "Partner",
          "Partner",
          "Partner",
          "Partner",
          "Partner",
          "Partner",
          "Partner",
          "Partner",
          "Partner",
          "Partner",
          "Partner",
          "Partner",
          "Partner",
          "Partner",
          "Partner",
          "Partner",
          "Partner",
          "Partner",
          "Partner",
          "Partner",
          "Partner",
          "Partner",
          "Partner",
          "Partner",
          "Partner",
          "Partner",
          "Partner",
          "Partner",
          "Partner",
          "Partner",
          "Partner",
          "Partner",
          "Partner",
          "Partner",
          "Partner",
          "Partner",
          "Partner",
          "Partner",
          "Partner",
          "Partner",
          "Partner",
          "Partner",
          "Partner",
          "Partner",
          "Partner",
          "Partner",
          "Partner",
          "Partner",
          "Partner",
          "Partner",
          "Partner",
          "Partner",
          "Partner",
          "Partner",
          "Partner",
          "Partner",
          "Partner",
          "Partner",
          "Partner",
          "Partner",
          "Partner",
          "Partner",
          "Partner",
          "Partner",
          "Partner",
          "Partner",
          "Partner",
          "Partner",
          "Partner",
          "Partner",
          "Partner",
          "Partner",
          "Partner",
          "Partner",
          "Partner",
          "Partner",
          "Partner",
          "Partner",
          "Partner",
          "Partner",
          "Partner",
          "Partner",
          "Partner",
          "Partner",
          "Partner",
          "Partner",
          "Partner",
          "Partner",
          "Partner",
          "Partner",
          "Partner",
          "Partner",
          "Partner",
          "Partner",
          "Partner",
          "Partner",
          "Partner",
          "Partner",
          "Partner",
          "Partner",
          "Partner",
          "Partner",
          "Partner",
          "Partner",
          "Partner",
          "Partner",
          "Partner",
          "Partner",
          "Partner",
          "Partner",
          "Partner",
          "Partner",
          "Partner",
          "Partner",
          "Partner",
          "Partner",
          "Partner",
          "Partner",
          "Partner",
          "Partner",
          "Partner",
          "Partner",
          "Partner",
          "Partner",
          "Partner",
          "Partner",
          "Partner",
          "Partner",
          "Partner",
          "Partner",
          "Partner",
          "Partner",
          "Partner",
          "Partner",
          "Partner",
          "Partner",
          "Partner",
          "Partner",
          "Partner",
          "Partner",
          "Partner",
          "Partner",
          "Partner",
          "Partner",
          "Partner",
          "Partner",
          "Partner",
          "Partner",
          "Partner",
          "Partner",
          "Partner",
          "Partner",
          "Partner",
          "Partner",
          "Partner",
          "Partner",
          "Partner",
          "Partner",
          "Partner",
          "Partner",
          "Partner",
          "Partner",
          "Partner",
          "Partner",
          "Partner",
          "Partner",
          "Partner",
          "Partner",
          "Partner",
          "Partner",
          "Partner",
          "Partner",
          "Partner",
          "Partner",
          "Partner",
          "Partner",
          "Partner",
          "Partner",
          "Partner",
          "Partner",
          "Partner",
          "Partner",
          "Partner",
          "Partner",
          "Partner",
          "Partner",
          "Partner",
          "Partner",
          "Partner",
          "Partner",
          "Partner",
          "Partner",
          "Partner",
          "Partner",
          "Partner",
          "Partner",
          "Partner",
          "Partner",
          "Partner",
          "Partner"
         ],
         "x0": " ",
         "xaxis": "x",
         "y": {
          "bdata": "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",
          "dtype": "f8"
         },
         "y0": " ",
         "yaxis": "y"
        }
       ],
       "layout": {
        "boxmode": "overlay",
        "height": 500,
        "legend": {
         "title": {
          "text": "passanger"
         },
         "tracegroupgap": 0
        },
        "template": {
         "data": {
          "bar": [
           {
            "error_x": {
             "color": "#2a3f5f"
            },
            "error_y": {
             "color": "#2a3f5f"
            },
            "marker": {
             "line": {
              "color": "#E5ECF6",
              "width": 0.5
             },
             "pattern": {
              "fillmode": "overlay",
              "size": 10,
              "solidity": 0.2
             }
            },
            "type": "bar"
           }
          ],
          "barpolar": [
           {
            "marker": {
             "line": {
              "color": "#E5ECF6",
              "width": 0.5
             },
             "pattern": {
              "fillmode": "overlay",
              "size": 10,
              "solidity": 0.2
             }
            },
            "type": "barpolar"
           }
          ],
          "carpet": [
           {
            "aaxis": {
             "endlinecolor": "#2a3f5f",
             "gridcolor": "white",
             "linecolor": "white",
             "minorgridcolor": "white",
             "startlinecolor": "#2a3f5f"
            },
            "baxis": {
             "endlinecolor": "#2a3f5f",
             "gridcolor": "white",
             "linecolor": "white",
             "minorgridcolor": "white",
             "startlinecolor": "#2a3f5f"
            },
            "type": "carpet"
           }
          ],
          "choropleth": [
           {
            "colorbar": {
             "outlinewidth": 0,
             "ticks": ""
            },
            "type": "choropleth"
           }
          ],
          "contour": [
           {
            "colorbar": {
             "outlinewidth": 0,
             "ticks": ""
            },
            "colorscale": [
             [
              0,
              "#0d0887"
             ],
             [
              0.1111111111111111,
              "#46039f"
             ],
             [
              0.2222222222222222,
              "#7201a8"
             ],
             [
              0.3333333333333333,
              "#9c179e"
             ],
             [
              0.4444444444444444,
              "#bd3786"
             ],
             [
              0.5555555555555556,
              "#d8576b"
             ],
             [
              0.6666666666666666,
              "#ed7953"
             ],
             [
              0.7777777777777778,
              "#fb9f3a"
             ],
             [
              0.8888888888888888,
              "#fdca26"
             ],
             [
              1,
              "#f0f921"
             ]
            ],
            "type": "contour"
           }
          ],
          "contourcarpet": [
           {
            "colorbar": {
             "outlinewidth": 0,
             "ticks": ""
            },
            "type": "contourcarpet"
           }
          ],
          "heatmap": [
           {
            "colorbar": {
             "outlinewidth": 0,
             "ticks": ""
            },
            "colorscale": [
             [
              0,
              "#0d0887"
             ],
             [
              0.1111111111111111,
              "#46039f"
             ],
             [
              0.2222222222222222,
              "#7201a8"
             ],
             [
              0.3333333333333333,
              "#9c179e"
             ],
             [
              0.4444444444444444,
              "#bd3786"
             ],
             [
              0.5555555555555556,
              "#d8576b"
             ],
             [
              0.6666666666666666,
              "#ed7953"
             ],
             [
              0.7777777777777778,
              "#fb9f3a"
             ],
             [
              0.8888888888888888,
              "#fdca26"
             ],
             [
              1,
              "#f0f921"
             ]
            ],
            "type": "heatmap"
           }
          ],
          "histogram": [
           {
            "marker": {
             "pattern": {
              "fillmode": "overlay",
              "size": 10,
              "solidity": 0.2
             }
            },
            "type": "histogram"
           }
          ],
          "histogram2d": [
           {
            "colorbar": {
             "outlinewidth": 0,
             "ticks": ""
            },
            "colorscale": [
             [
              0,
              "#0d0887"
             ],
             [
              0.1111111111111111,
              "#46039f"
             ],
             [
              0.2222222222222222,
              "#7201a8"
             ],
             [
              0.3333333333333333,
              "#9c179e"
             ],
             [
              0.4444444444444444,
              "#bd3786"
             ],
             [
              0.5555555555555556,
              "#d8576b"
             ],
             [
              0.6666666666666666,
              "#ed7953"
             ],
             [
              0.7777777777777778,
              "#fb9f3a"
             ],
             [
              0.8888888888888888,
              "#fdca26"
             ],
             [
              1,
              "#f0f921"
             ]
            ],
            "type": "histogram2d"
           }
          ],
          "histogram2dcontour": [
           {
            "colorbar": {
             "outlinewidth": 0,
             "ticks": ""
            },
            "colorscale": [
             [
              0,
              "#0d0887"
             ],
             [
              0.1111111111111111,
              "#46039f"
             ],
             [
              0.2222222222222222,
              "#7201a8"
             ],
             [
              0.3333333333333333,
              "#9c179e"
             ],
             [
              0.4444444444444444,
              "#bd3786"
             ],
             [
              0.5555555555555556,
              "#d8576b"
             ],
             [
              0.6666666666666666,
              "#ed7953"
             ],
             [
              0.7777777777777778,
              "#fb9f3a"
             ],
             [
              0.8888888888888888,
              "#fdca26"
             ],
             [
              1,
              "#f0f921"
             ]
            ],
            "type": "histogram2dcontour"
           }
          ],
          "mesh3d": [
           {
            "colorbar": {
             "outlinewidth": 0,
             "ticks": ""
            },
            "type": "mesh3d"
           }
          ],
          "parcoords": [
           {
            "line": {
             "colorbar": {
              "outlinewidth": 0,
              "ticks": ""
             }
            },
            "type": "parcoords"
           }
          ],
          "pie": [
           {
            "automargin": true,
            "type": "pie"
           }
          ],
          "scatter": [
           {
            "fillpattern": {
             "fillmode": "overlay",
             "size": 10,
             "solidity": 0.2
            },
            "type": "scatter"
           }
          ],
          "scatter3d": [
           {
            "line": {
             "colorbar": {
              "outlinewidth": 0,
              "ticks": ""
             }
            },
            "marker": {
             "colorbar": {
              "outlinewidth": 0,
              "ticks": ""
             }
            },
            "type": "scatter3d"
           }
          ],
          "scattercarpet": [
           {
            "marker": {
             "colorbar": {
              "outlinewidth": 0,
              "ticks": ""
             }
            },
            "type": "scattercarpet"
           }
          ],
          "scattergeo": [
           {
            "marker": {
             "colorbar": {
              "outlinewidth": 0,
              "ticks": ""
             }
            },
            "type": "scattergeo"
           }
          ],
          "scattergl": [
           {
            "marker": {
             "colorbar": {
              "outlinewidth": 0,
              "ticks": ""
             }
            },
            "type": "scattergl"
           }
          ],
          "scattermap": [
           {
            "marker": {
             "colorbar": {
              "outlinewidth": 0,
              "ticks": ""
             }
            },
            "type": "scattermap"
           }
          ],
          "scattermapbox": [
           {
            "marker": {
             "colorbar": {
              "outlinewidth": 0,
              "ticks": ""
             }
            },
            "type": "scattermapbox"
           }
          ],
          "scatterpolar": [
           {
            "marker": {
             "colorbar": {
              "outlinewidth": 0,
              "ticks": ""
             }
            },
            "type": "scatterpolar"
           }
          ],
          "scatterpolargl": [
           {
            "marker": {
             "colorbar": {
              "outlinewidth": 0,
              "ticks": ""
             }
            },
            "type": "scatterpolargl"
           }
          ],
          "scatterternary": [
           {
            "marker": {
             "colorbar": {
              "outlinewidth": 0,
              "ticks": ""
             }
            },
            "type": "scatterternary"
           }
          ],
          "surface": [
           {
            "colorbar": {
             "outlinewidth": 0,
             "ticks": ""
            },
            "colorscale": [
             [
              0,
              "#0d0887"
             ],
             [
              0.1111111111111111,
              "#46039f"
             ],
             [
              0.2222222222222222,
              "#7201a8"
             ],
             [
              0.3333333333333333,
              "#9c179e"
             ],
             [
              0.4444444444444444,
              "#bd3786"
             ],
             [
              0.5555555555555556,
              "#d8576b"
             ],
             [
              0.6666666666666666,
              "#ed7953"
             ],
             [
              0.7777777777777778,
              "#fb9f3a"
             ],
             [
              0.8888888888888888,
              "#fdca26"
             ],
             [
              1,
              "#f0f921"
             ]
            ],
            "type": "surface"
           }
          ],
          "table": [
           {
            "cells": {
             "fill": {
              "color": "#EBF0F8"
             },
             "line": {
              "color": "white"
             }
            },
            "header": {
             "fill": {
              "color": "#C8D4E3"
             },
             "line": {
              "color": "white"
             }
            },
            "type": "table"
           }
          ]
         },
         "layout": {
          "annotationdefaults": {
           "arrowcolor": "#2a3f5f",
           "arrowhead": 0,
           "arrowwidth": 1
          },
          "autotypenumbers": "strict",
          "coloraxis": {
           "colorbar": {
            "outlinewidth": 0,
            "ticks": ""
           }
          },
          "colorscale": {
           "diverging": [
            [
             0,
             "#8e0152"
            ],
            [
             0.1,
             "#c51b7d"
            ],
            [
             0.2,
             "#de77ae"
            ],
            [
             0.3,
             "#f1b6da"
            ],
            [
             0.4,
             "#fde0ef"
            ],
            [
             0.5,
             "#f7f7f7"
            ],
            [
             0.6,
             "#e6f5d0"
            ],
            [
             0.7,
             "#b8e186"
            ],
            [
             0.8,
             "#7fbc41"
            ],
            [
             0.9,
             "#4d9221"
            ],
            [
             1,
             "#276419"
            ]
           ],
           "sequential": [
            [
             0,
             "#0d0887"
            ],
            [
             0.1111111111111111,
             "#46039f"
            ],
            [
             0.2222222222222222,
             "#7201a8"
            ],
            [
             0.3333333333333333,
             "#9c179e"
            ],
            [
             0.4444444444444444,
             "#bd3786"
            ],
            [
             0.5555555555555556,
             "#d8576b"
            ],
            [
             0.6666666666666666,
             "#ed7953"
            ],
            [
             0.7777777777777778,
             "#fb9f3a"
            ],
            [
             0.8888888888888888,
             "#fdca26"
            ],
            [
             1,
             "#f0f921"
            ]
           ],
           "sequentialminus": [
            [
             0,
             "#0d0887"
            ],
            [
             0.1111111111111111,
             "#46039f"
            ],
            [
             0.2222222222222222,
             "#7201a8"
            ],
            [
             0.3333333333333333,
             "#9c179e"
            ],
            [
             0.4444444444444444,
             "#bd3786"
            ],
            [
             0.5555555555555556,
             "#d8576b"
            ],
            [
             0.6666666666666666,
             "#ed7953"
            ],
            [
             0.7777777777777778,
             "#fb9f3a"
            ],
            [
             0.8888888888888888,
             "#fdca26"
            ],
            [
             1,
             "#f0f921"
            ]
           ]
          },
          "colorway": [
           "#636efa",
           "#EF553B",
           "#00cc96",
           "#ab63fa",
           "#FFA15A",
           "#19d3f3",
           "#FF6692",
           "#B6E880",
           "#FF97FF",
           "#FECB52"
          ],
          "font": {
           "color": "#2a3f5f"
          },
          "geo": {
           "bgcolor": "white",
           "lakecolor": "white",
           "landcolor": "#E5ECF6",
           "showlakes": true,
           "showland": true,
           "subunitcolor": "white"
          },
          "hoverlabel": {
           "align": "left"
          },
          "hovermode": "closest",
          "mapbox": {
           "style": "light"
          },
          "paper_bgcolor": "white",
          "plot_bgcolor": "#E5ECF6",
          "polar": {
           "angularaxis": {
            "gridcolor": "white",
            "linecolor": "white",
            "ticks": ""
           },
           "bgcolor": "#E5ECF6",
           "radialaxis": {
            "gridcolor": "white",
            "linecolor": "white",
            "ticks": ""
           }
          },
          "scene": {
           "xaxis": {
            "backgroundcolor": "#E5ECF6",
            "gridcolor": "white",
            "gridwidth": 2,
            "linecolor": "white",
            "showbackground": true,
            "ticks": "",
            "zerolinecolor": "white"
           },
           "yaxis": {
            "backgroundcolor": "#E5ECF6",
            "gridcolor": "white",
            "gridwidth": 2,
            "linecolor": "white",
            "showbackground": true,
            "ticks": "",
            "zerolinecolor": "white"
           },
           "zaxis": {
            "backgroundcolor": "#E5ECF6",
            "gridcolor": "white",
            "gridwidth": 2,
            "linecolor": "white",
            "showbackground": true,
            "ticks": "",
            "zerolinecolor": "white"
           }
          },
          "shapedefaults": {
           "line": {
            "color": "#2a3f5f"
           }
          },
          "ternary": {
           "aaxis": {
            "gridcolor": "white",
            "linecolor": "white",
            "ticks": ""
           },
           "baxis": {
            "gridcolor": "white",
            "linecolor": "white",
            "ticks": ""
           },
           "bgcolor": "#E5ECF6",
           "caxis": {
            "gridcolor": "white",
            "linecolor": "white",
            "ticks": ""
           }
          },
          "title": {
           "x": 0.05
          },
          "xaxis": {
           "automargin": true,
           "gridcolor": "white",
           "linecolor": "white",
           "ticks": "",
           "title": {
            "standoff": 15
           },
           "zerolinecolor": "white",
           "zerolinewidth": 2
          },
          "yaxis": {
           "automargin": true,
           "gridcolor": "white",
           "linecolor": "white",
           "ticks": "",
           "title": {
            "standoff": 15
           },
           "zerolinecolor": "white",
           "zerolinewidth": 2
          }
         }
        },
        "title": {
         "text": "Age Distribution by Passenger Type for Coffee Coupons"
        },
        "width": 700,
        "xaxis": {
         "anchor": "y",
         "categoryarray": [
          "Friend(s)",
          "Kid(s)",
          "Alone",
          "Partner"
         ],
         "categoryorder": "array",
         "domain": [
          0,
          1
         ],
         "title": {
          "text": "passanger"
         }
        },
        "yaxis": {
         "anchor": "x",
         "domain": [
          0,
          1
         ],
         "title": {
          "text": "Age"
         }
        }
       }
      },
      "image/png": "[encoded data removed]"
     },
     "metadata": {},
     "output_type": "display_data"
    }
   ],
   "source": [
    "age_mapping = {\n",
    "    '21': 21,\n",
    "    '26': 26,\n",
    "    '31': 31,\n",
    "    '36': 36,\n",
    "    '41': 41,\n",
    "    '46': 46,\n",
    "    '50plus': 51 \n",
    "    \n",
    "}\n",
    "coffee_data['age_num'] = coffee_data['age'].map(age_mapping)\n",
    "import plotly.express as px\n",
    "\n",
    "fig = px.box(\n",
    "    coffee_data,\n",
    "    x='passanger',\n",
    "    y='age_num',\n",
    "    color='passanger',\n",
    "    title='Age Distribution by Passenger Type for Coffee Coupons',\n",
    "    labels={'age_num': 'Age'}\n",
    ")\n",
    "\n",
    "fig.update_layout(\n",
    "    width=700,\n",
    "    height=500\n",
    ")\n",
    "fig.write_image(\"images/age_distribution_by_passenger_type_for_coffee_coupons.png\", width = 900, height = 700, scale = 1)  # Save as PNG\n",
    "fig.show()"
   ]
  },
  {
   "cell_type": "code",
   "execution_count": null,
   "metadata": {
    "id": "_oykf8YP_qRL"
   },
   "outputs": [],
   "source": []
  },
  {
   "cell_type": "code",
   "execution_count": null,
   "metadata": {},
   "outputs": [],
   "source": []
  }
 ],
 "metadata": {
  "colab": {
   "provenance": []
  },
  "kernelspec": {
   "display_name": "Python 3 (ipykernel)",
   "language": "python",
   "name": "python3"
  },
  "language_info": {
   "codemirror_mode": {
    "name": "ipython",
    "version": 3
   },
   "file_extension": ".py",
   "mimetype": "text/x-python",
   "name": "python",
   "nbconvert_exporter": "python",
   "pygments_lexer": "ipython3",
   "version": "3.12.11"
  }
 },
 "nbformat": 4,
 "nbformat_minor": 4
}
